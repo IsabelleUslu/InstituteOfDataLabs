{
 "cells": [
  {
   "cell_type": "code",
   "execution_count": 1,
   "id": "97475402-38eb-4a1c-8280-05382243da95",
   "metadata": {},
   "outputs": [],
   "source": [
    "# insert code here\n",
    "\n",
    "## Import libraries\n",
    "import numpy as np\n",
    "import pandas as pd\n",
    "\n",
    "%matplotlib inline\n",
    "import matplotlib.pyplot as plt\n",
    "\n",
    "from keras.datasets import cifar10\n",
    "from sklearn.metrics import confusion_matrix\n",
    "\n",
    "import tensorflow as tf\n",
    "\n",
    "# import keras\n",
    "from keras.models import Sequential\n",
    "from keras.layers import Dense, Flatten, BatchNormalization, Activation\n",
    "from keras.layers import Conv2D, MaxPool2D, Dropout\n",
    "from keras.layers import Flatten\n",
    "from tensorflow.keras.utils import to_categorical\n",
    "from keras.utils import np_utils\n",
    "from keras.constraints import maxnorm"
   ]
  },
  {
   "cell_type": "code",
   "execution_count": 2,
   "id": "82c55d00-367e-49c9-9e98-36eb3c42e807",
   "metadata": {},
   "outputs": [],
   "source": [
    "from keras.datasets import cifar10"
   ]
  },
  {
   "cell_type": "code",
   "execution_count": 3,
   "id": "91ba1102-63aa-4b6e-a0d4-1cc983380969",
   "metadata": {},
   "outputs": [],
   "source": [
    "seed = 42"
   ]
  },
  {
   "cell_type": "code",
   "execution_count": 4,
   "id": "752eb2a4-72b0-411f-b020-1366435a6b9c",
   "metadata": {},
   "outputs": [],
   "source": [
    "# Loading data\n",
    "\n",
    "(X_train, y_train), (X_test, y_test) = tf.keras.datasets.cifar10.load_data()"
   ]
  },
  {
   "cell_type": "code",
   "execution_count": 5,
   "id": "79008e99-5ae2-48e4-bd02-cb25996ba679",
   "metadata": {},
   "outputs": [
    {
     "name": "stdout",
     "output_type": "stream",
     "text": [
      "[[[ 59  62  63]\n",
      "  [ 43  46  45]\n",
      "  [ 50  48  43]\n",
      "  ...\n",
      "  [158 132 108]\n",
      "  [152 125 102]\n",
      "  [148 124 103]]\n",
      "\n",
      " [[ 16  20  20]\n",
      "  [  0   0   0]\n",
      "  [ 18   8   0]\n",
      "  ...\n",
      "  [123  88  55]\n",
      "  [119  83  50]\n",
      "  [122  87  57]]\n",
      "\n",
      " [[ 25  24  21]\n",
      "  [ 16   7   0]\n",
      "  [ 49  27   8]\n",
      "  ...\n",
      "  [118  84  50]\n",
      "  [120  84  50]\n",
      "  [109  73  42]]\n",
      "\n",
      " ...\n",
      "\n",
      " [[208 170  96]\n",
      "  [201 153  34]\n",
      "  [198 161  26]\n",
      "  ...\n",
      "  [160 133  70]\n",
      "  [ 56  31   7]\n",
      "  [ 53  34  20]]\n",
      "\n",
      " [[180 139  96]\n",
      "  [173 123  42]\n",
      "  [186 144  30]\n",
      "  ...\n",
      "  [184 148  94]\n",
      "  [ 97  62  34]\n",
      "  [ 83  53  34]]\n",
      "\n",
      " [[177 144 116]\n",
      "  [168 129  94]\n",
      "  [179 142  87]\n",
      "  ...\n",
      "  [216 184 140]\n",
      "  [151 118  84]\n",
      "  [123  92  72]]]\n"
     ]
    }
   ],
   "source": [
    "print(X_train[0])"
   ]
  },
  {
   "cell_type": "code",
   "execution_count": 6,
   "id": "7df0782e-93d1-4806-9d72-6b8695c206bb",
   "metadata": {},
   "outputs": [],
   "source": [
    "# Normalize the numbers\n",
    "\n",
    "X_train = X_train.astype('float32') / 255.0\n",
    "X_test = X_test.astype('float32') / 255.0"
   ]
  },
  {
   "cell_type": "code",
   "execution_count": 7,
   "id": "6d247aea-013d-4d48-bc8e-7f0ccb63fca1",
   "metadata": {},
   "outputs": [],
   "source": [
    "# One hot encode outputs\n",
    "\n",
    "y_train = np_utils.to_categorical(y_train)\n",
    "y_test = np_utils.to_categorical(y_test)\n",
    "class_num = y_test.shape[1]"
   ]
  },
  {
   "cell_type": "code",
   "execution_count": 8,
   "id": "dd2bd26d-ef02-4430-a723-1eb440d49863",
   "metadata": {},
   "outputs": [],
   "source": [
    "# Model architecture\n",
    "\n",
    "model = Sequential()"
   ]
  },
  {
   "cell_type": "code",
   "execution_count": 9,
   "id": "7c1f89f3-eede-42bd-9831-23211fc9ac21",
   "metadata": {},
   "outputs": [],
   "source": [
    "model.add(Conv2D(32, kernel_size = 3, activation = 'relu', padding = 'same', input_shape = (32, 32, 3)))\n",
    "model.add(Dropout(0.2))\n",
    "model.add(BatchNormalization())\n",
    "model.add(Conv2D(64, kernel_size = 3, activation = 'relu', padding = 'same'))\n",
    "model.add(MaxPool2D(pool_size = (2, 2)))\n",
    "model.add(Dropout(0.2))\n",
    "model.add(BatchNormalization())\n",
    "\n",
    "model.add(Conv2D(64, kernel_size = 3, activation = 'relu', padding = 'same'))\n",
    "model.add(MaxPool2D(pool_size = (2, 2)))\n",
    "model.add(Dropout(0.2))\n",
    "model.add(BatchNormalization())\n",
    "\n",
    "model.add(Conv2D(128, kernel_size = 3, activation = 'relu', padding = 'same'))\n",
    "model.add(MaxPool2D(pool_size = (2, 2)))\n",
    "model.add(Dropout(0.2))\n",
    "model.add(BatchNormalization())\n",
    "\n",
    "model.add(Flatten())\n",
    "model.add(Dropout(0.2))\n",
    "\n",
    "model.add(Dense(256, kernel_constraint = maxnorm(3), activation = 'relu'))\n",
    "model.add(Dropout(0.2))\n",
    "model.add(BatchNormalization())\n",
    "\n",
    "model.add(Dense(128, kernel_constraint = maxnorm(3), activation = 'relu'))\n",
    "model.add(Dropout(0.2))\n",
    "model.add(BatchNormalization())\n",
    "\n",
    "# Output \n",
    "model.add(Dense(class_num, activation = 'softmax'))\n"
   ]
  },
  {
   "cell_type": "code",
   "execution_count": 10,
   "id": "f2914035-5ebb-4789-9eee-28b9e27ceeee",
   "metadata": {},
   "outputs": [
    {
     "name": "stdout",
     "output_type": "stream",
     "text": [
      "Model: \"sequential\"\n",
      "_________________________________________________________________\n",
      "Layer (type)                 Output Shape              Param #   \n",
      "=================================================================\n",
      "conv2d (Conv2D)              (None, 32, 32, 32)        896       \n",
      "_________________________________________________________________\n",
      "dropout (Dropout)            (None, 32, 32, 32)        0         \n",
      "_________________________________________________________________\n",
      "batch_normalization (BatchNo (None, 32, 32, 32)        128       \n",
      "_________________________________________________________________\n",
      "conv2d_1 (Conv2D)            (None, 32, 32, 64)        18496     \n",
      "_________________________________________________________________\n",
      "max_pooling2d (MaxPooling2D) (None, 16, 16, 64)        0         \n",
      "_________________________________________________________________\n",
      "dropout_1 (Dropout)          (None, 16, 16, 64)        0         \n",
      "_________________________________________________________________\n",
      "batch_normalization_1 (Batch (None, 16, 16, 64)        256       \n",
      "_________________________________________________________________\n",
      "conv2d_2 (Conv2D)            (None, 16, 16, 64)        36928     \n",
      "_________________________________________________________________\n",
      "max_pooling2d_1 (MaxPooling2 (None, 8, 8, 64)          0         \n",
      "_________________________________________________________________\n",
      "dropout_2 (Dropout)          (None, 8, 8, 64)          0         \n",
      "_________________________________________________________________\n",
      "batch_normalization_2 (Batch (None, 8, 8, 64)          256       \n",
      "_________________________________________________________________\n",
      "conv2d_3 (Conv2D)            (None, 8, 8, 128)         73856     \n",
      "_________________________________________________________________\n",
      "max_pooling2d_2 (MaxPooling2 (None, 4, 4, 128)         0         \n",
      "_________________________________________________________________\n",
      "dropout_3 (Dropout)          (None, 4, 4, 128)         0         \n",
      "_________________________________________________________________\n",
      "batch_normalization_3 (Batch (None, 4, 4, 128)         512       \n",
      "_________________________________________________________________\n",
      "flatten (Flatten)            (None, 2048)              0         \n",
      "_________________________________________________________________\n",
      "dropout_4 (Dropout)          (None, 2048)              0         \n",
      "_________________________________________________________________\n",
      "dense (Dense)                (None, 256)               524544    \n",
      "_________________________________________________________________\n",
      "dropout_5 (Dropout)          (None, 256)               0         \n",
      "_________________________________________________________________\n",
      "batch_normalization_4 (Batch (None, 256)               1024      \n",
      "_________________________________________________________________\n",
      "dense_1 (Dense)              (None, 128)               32896     \n",
      "_________________________________________________________________\n",
      "dropout_6 (Dropout)          (None, 128)               0         \n",
      "_________________________________________________________________\n",
      "batch_normalization_5 (Batch (None, 128)               512       \n",
      "_________________________________________________________________\n",
      "dense_2 (Dense)              (None, 10)                1290      \n",
      "=================================================================\n",
      "Total params: 691,594\n",
      "Trainable params: 690,250\n",
      "Non-trainable params: 1,344\n",
      "_________________________________________________________________\n"
     ]
    }
   ],
   "source": [
    "model.summary()"
   ]
  },
  {
   "cell_type": "code",
   "execution_count": 13,
   "id": "b525ddec-a46d-42ab-ad7d-3ad519160769",
   "metadata": {},
   "outputs": [],
   "source": [
    "# Compile\n",
    "\n",
    "model.compile(loss = 'categorical_crossentropy', optimizer = 'adam', metrics = ['accuracy'])"
   ]
  },
  {
   "cell_type": "code",
   "execution_count": 17,
   "id": "83acd717-bd14-46f2-a628-1ccc5389abeb",
   "metadata": {},
   "outputs": [
    {
     "name": "stdout",
     "output_type": "stream",
     "text": [
      "Epoch 1/25\n",
      "782/782 [==============================] - 178s 226ms/step - loss: 1.5874 - accuracy: 0.4319 - val_loss: 1.3169 - val_accuracy: 0.5195\n",
      "Epoch 2/25\n",
      "782/782 [==============================] - 232s 296ms/step - loss: 1.1174 - accuracy: 0.6010 - val_loss: 1.0142 - val_accuracy: 0.6437\n",
      "Epoch 3/25\n",
      "782/782 [==============================] - 251s 321ms/step - loss: 0.9394 - accuracy: 0.6684 - val_loss: 0.7972 - val_accuracy: 0.7205\n",
      "Epoch 4/25\n",
      "782/782 [==============================] - 230s 294ms/step - loss: 0.8468 - accuracy: 0.7010 - val_loss: 0.7627 - val_accuracy: 0.7304\n",
      "Epoch 5/25\n",
      "782/782 [==============================] - 220s 281ms/step - loss: 0.7800 - accuracy: 0.7246 - val_loss: 0.6626 - val_accuracy: 0.7674\n",
      "Epoch 6/25\n",
      "782/782 [==============================] - 258s 330ms/step - loss: 0.7236 - accuracy: 0.7463 - val_loss: 0.6712 - val_accuracy: 0.7640\n",
      "Epoch 7/25\n",
      "782/782 [==============================] - 233s 298ms/step - loss: 0.6842 - accuracy: 0.7604 - val_loss: 0.6055 - val_accuracy: 0.7915\n",
      "Epoch 8/25\n",
      "782/782 [==============================] - 258s 330ms/step - loss: 0.6515 - accuracy: 0.7739 - val_loss: 0.6252 - val_accuracy: 0.7828\n",
      "Epoch 9/25\n",
      "782/782 [==============================] - 294s 375ms/step - loss: 0.6270 - accuracy: 0.7813 - val_loss: 0.5547 - val_accuracy: 0.8090\n",
      "Epoch 10/25\n",
      "782/782 [==============================] - 233s 298ms/step - loss: 0.5988 - accuracy: 0.7912 - val_loss: 0.5794 - val_accuracy: 0.8016\n",
      "Epoch 11/25\n",
      "782/782 [==============================] - 243s 311ms/step - loss: 0.5821 - accuracy: 0.7981 - val_loss: 0.5652 - val_accuracy: 0.8114\n",
      "Epoch 12/25\n",
      "782/782 [==============================] - 246s 315ms/step - loss: 0.5589 - accuracy: 0.8045 - val_loss: 0.5494 - val_accuracy: 0.8137\n",
      "Epoch 13/25\n",
      "782/782 [==============================] - 218s 279ms/step - loss: 0.5447 - accuracy: 0.8090 - val_loss: 0.5406 - val_accuracy: 0.8174\n",
      "Epoch 14/25\n",
      "782/782 [==============================] - 242s 310ms/step - loss: 0.5198 - accuracy: 0.8191 - val_loss: 0.5531 - val_accuracy: 0.8139\n",
      "Epoch 15/25\n",
      "782/782 [==============================] - 256s 327ms/step - loss: 0.5134 - accuracy: 0.8205 - val_loss: 0.5333 - val_accuracy: 0.8181\n",
      "Epoch 16/25\n",
      "782/782 [==============================] - 244s 311ms/step - loss: 0.5019 - accuracy: 0.8231 - val_loss: 0.5086 - val_accuracy: 0.8283\n",
      "Epoch 17/25\n",
      "782/782 [==============================] - 255s 326ms/step - loss: 0.4970 - accuracy: 0.8261 - val_loss: 0.5096 - val_accuracy: 0.8271\n",
      "Epoch 18/25\n",
      "782/782 [==============================] - 552s 707ms/step - loss: 0.4874 - accuracy: 0.8308 - val_loss: 0.5181 - val_accuracy: 0.8210\n",
      "Epoch 19/25\n",
      "782/782 [==============================] - 547s 699ms/step - loss: 0.4753 - accuracy: 0.8330 - val_loss: 0.5049 - val_accuracy: 0.8296\n",
      "Epoch 20/25\n",
      "782/782 [==============================] - 559s 715ms/step - loss: 0.4722 - accuracy: 0.8345 - val_loss: 0.5064 - val_accuracy: 0.8306\n",
      "Epoch 21/25\n",
      "782/782 [==============================] - 547s 699ms/step - loss: 0.4618 - accuracy: 0.8374 - val_loss: 0.4942 - val_accuracy: 0.8342\n",
      "Epoch 22/25\n",
      "782/782 [==============================] - 528s 675ms/step - loss: 0.4538 - accuracy: 0.8403 - val_loss: 0.5073 - val_accuracy: 0.8291\n",
      "Epoch 23/25\n",
      "782/782 [==============================] - 561s 718ms/step - loss: 0.4455 - accuracy: 0.8451 - val_loss: 0.5106 - val_accuracy: 0.8265\n",
      "Epoch 24/25\n",
      "782/782 [==============================] - 543s 694ms/step - loss: 0.4397 - accuracy: 0.8459 - val_loss: 0.5237 - val_accuracy: 0.8211\n",
      "Epoch 25/25\n",
      "782/782 [==============================] - 547s 700ms/step - loss: 0.4403 - accuracy: 0.8464 - val_loss: 0.4903 - val_accuracy: 0.8340\n"
     ]
    },
    {
     "data": {
      "text/plain": [
       "<keras.callbacks.History at 0x1c684e01820>"
      ]
     },
     "execution_count": 17,
     "metadata": {},
     "output_type": "execute_result"
    }
   ],
   "source": [
    "# Fit\n",
    "np.random.seed(seed)\n",
    "model.fit(X_train, y_train, validation_data = (X_test, y_test), epochs = 25, batch_size = 64)\n"
   ]
  },
  {
   "cell_type": "code",
   "execution_count": 24,
   "id": "f63bc1da-b381-455d-bdd4-8ca630d9f081",
   "metadata": {},
   "outputs": [
    {
     "name": "stdout",
     "output_type": "stream",
     "text": [
      "CPU times: total: 34.7 s\n",
      "Wall time: 25.1 s\n"
     ]
    }
   ],
   "source": [
    "%%time\n",
    "predictions = np.argmax(model.predict(X_test),axis=1)"
   ]
  },
  {
   "cell_type": "code",
   "execution_count": 25,
   "id": "a2c7b0d1-8c32-4176-8b8d-274f10b46a55",
   "metadata": {},
   "outputs": [
    {
     "name": "stdout",
     "output_type": "stream",
     "text": [
      "1000/1000 [==============================] - 58s 58ms/step - loss: 0.4903 - accuracy: 0.8340\n",
      "\n",
      "Test loss: 0.490332, Test accuracy: 0.834000\n"
     ]
    }
   ],
   "source": [
    "score = model.evaluate(X_test, y_test, batch_size = 10)\n",
    "print('\\nTest loss: %.6f, Test accuracy: %.6f' % tuple(score))"
   ]
  },
  {
   "cell_type": "code",
   "execution_count": 26,
   "id": "f9737594-8ce6-4977-8fa9-22dcee2c889e",
   "metadata": {},
   "outputs": [],
   "source": [
    "def print_cm(cm):\n",
    "    d_size = max(len('%d' % cm.max()), len('%d' % cm.shape[1]))\n",
    "    if min(cm.shape) > 10: # make sparse\n",
    "        print('Sparse Matrix (*=diagonal)')\n",
    "        fmt_c = ', c%%0%dd%%s= %%%dd' % (d_size, d_size)\n",
    "        for i in range(cm.shape[0]):\n",
    "            s = fmt_r % i\n",
    "            for j in range(cm.shape[1]):\n",
    "                if cm[i, j] > 0:\n",
    "                    s += fmt_c % (j, '*' if i == j else ' ', cm[i, j])\n",
    "            print(s)\n",
    "    else: # make dense\n",
    "        c = '%%%dd ' % d_size\n",
    "        s = '%s| ' % (' ' * d_size)\n",
    "        s += ''.join([c % i for i in range(len(cm[0]))])\n",
    "        print(s)\n",
    "        print('-' * len(s))\n",
    "        for i, r in enumerate(cm):\n",
    "            s = '%%%dd| ' % d_size\n",
    "            s = s % i\n",
    "            s += c * len(r)\n",
    "            print(s % tuple(r))"
   ]
  },
  {
   "cell_type": "code",
   "execution_count": 27,
   "id": "96bc9d64-2d25-41f1-ad12-84a9471dd034",
   "metadata": {},
   "outputs": [
    {
     "name": "stdout",
     "output_type": "stream",
     "text": [
      "   |   0   1   2   3   4   5   6   7   8   9 \n",
      "---------------------------------------------\n",
      "  0| 861   9  48   9  11   0  10   4  37  11 \n",
      "  1|   5 923   1   3   4   1   3   0  15  45 \n",
      "  2|  40   1 785  21  67  16  52   6   8   4 \n",
      "  3|   9   4  89 651  55  77  77  20   8  10 \n",
      "  4|   7   1  43  16 857   7  40  26   3   0 \n",
      "  5|   8   0  62 134  62 672  36  23   0   3 \n",
      "  6|   4   0  29  25  17   1 918   2   3   1 \n",
      "  7|  11   0  33  24  45  16   4 864   1   2 \n",
      "  8|  37  12  10   4   5   2   6   5 910   9 \n",
      "  9|  20  42   4   5   3   1   3   6  17 899 \n"
     ]
    }
   ],
   "source": [
    "y_test_target = np.array([x.argmax() for x in y_test])\n",
    "cm = confusion_matrix(y_test_target, predictions)\n",
    "print_cm(cm)"
   ]
  },
  {
   "cell_type": "code",
   "execution_count": 30,
   "id": "c858bf19-145d-4a7d-bd65-f56d346ffbd1",
   "metadata": {},
   "outputs": [],
   "source": [
    "classes = (\n",
    "    'plane',\n",
    "    'car',\n",
    "    'bird',\n",
    "    'cat',\n",
    "    'deer',\n",
    "    'dog',\n",
    "    'frog',\n",
    "    'horse',\n",
    "    'ship',\n",
    "    'truck')"
   ]
  },
  {
   "cell_type": "code",
   "execution_count": 31,
   "id": "d5439530-b908-4bdf-a2a1-0c69e07e0e4a",
   "metadata": {},
   "outputs": [],
   "source": [
    "def check_one(data, label, id = None, actual = None, compare = False):\n",
    "    # check one\n",
    "    if id is None:\n",
    "        id = np.random.randint(data.shape[0])\n",
    "    im = data[id]\n",
    "    plt.figure(figsize = (3, 3))\n",
    "    plt.imshow(im)\n",
    "    \n",
    "    l_id = label[id]\n",
    "    if (compare) and (actual is not None) and (l_id != np.argmax(actual[id])):\n",
    "        a_id = np.argmax(actual[id])\n",
    "        plt.title('Class %d (%s) [\\u2260 %d-%s]' % (l_id, classes[l_id], a_id, classes[a_id]))\n",
    "    else:\n",
    "        plt.title('Class %d (%s)' % (l_id, classes[l_id]))\n",
    "    plt.xticks([])\n",
    "    plt.yticks([])\n",
    "    plt.show()"
   ]
  },
  {
   "cell_type": "code",
   "execution_count": 32,
   "id": "04421e0f-8dd0-458e-b2e6-ee221a4c9084",
   "metadata": {},
   "outputs": [
    {
     "data": {
      "image/png": "[encoded data removed]",
      "text/plain": [
       "<Figure size 216x216 with 1 Axes>"
      ]
     },
     "metadata": {},
     "output_type": "display_data"
    }
   ],
   "source": [
    "check_one(X_test, predictions, actual = y_test, compare = True)"
   ]
  },
  {
   "cell_type": "code",
   "execution_count": 33,
   "id": "9b586783-4a34-4114-84e5-9a13c8109bfc",
   "metadata": {},
   "outputs": [],
   "source": [
    "def check_ten(data, label, actual = None, compare = False):\n",
    "    # check ten\n",
    "    fig, ax = plt.subplots(2, 5, figsize = (11, 5))\n",
    "    fig.subplots_adjust(left = 0.02, right = 0.98, top = 0.8, wspace = 0.2, hspace = 0.2)\n",
    "    fig.suptitle('Check Data', fontsize = 12, fontweight = 'bold')\n",
    "\n",
    "    plt.rcParams.update({'font.size': 10})\n",
    "\n",
    "    ids = np.random.randint(data.shape[0], size = 10)\n",
    "    r = 0\n",
    "    c = 0\n",
    "    for id in ids:\n",
    "        im = data[id]\n",
    "\n",
    "        # original image\n",
    "        ax[r, c].imshow(im)\n",
    "        l_id = label[id]\n",
    "        if (compare) and (actual is not None) and (l_id != np.argmax(actual[id])):\n",
    "            a_id = np.argmax(actual[id])\n",
    "            ax[r, c].set_title('Class %d (%s) [\\u2260 %d-%s]' % (l_id, classes[l_id], a_id, classes[a_id]))\n",
    "        else:\n",
    "            ax[r, c].set_title('Class %d (%s)' % (l_id, classes[l_id]))\n",
    "        ax[r, c].set_xticks([])\n",
    "        ax[r, c].set_yticks([])\n",
    "        c += 1\n",
    "        if c > 4:\n",
    "            r += 1\n",
    "            c = 0\n",
    "\n",
    "    plt.show()"
   ]
  },
  {
   "cell_type": "code",
   "execution_count": 35,
   "id": "a3f8a915-1735-4b60-845b-33100997d4a3",
   "metadata": {},
   "outputs": [
    {
     "data": {
      "image/png": "[encoded data removed]",
      "text/plain": [
       "<Figure size 792x360 with 10 Axes>"
      ]
     },
     "metadata": {},
     "output_type": "display_data"
    }
   ],
   "source": [
    "check_ten(X_test, predictions, y_test, True)"
   ]
  },
  {
   "cell_type": "code",
   "execution_count": 37,
   "id": "5871e298-d991-4e68-ae99-d976d9ce7072",
   "metadata": {},
   "outputs": [
    {
     "ename": "NameError",
     "evalue": "name 'history' is not defined",
     "output_type": "error",
     "traceback": [
      "\u001b[1;31m---------------------------------------------------------------------------\u001b[0m",
      "\u001b[1;31mNameError\u001b[0m                                 Traceback (most recent call last)",
      "Input \u001b[1;32mIn [37]\u001b[0m, in \u001b[0;36m<module>\u001b[1;34m\u001b[0m\n\u001b[0;32m      4\u001b[0m plt\u001b[38;5;241m.\u001b[39mrcParams\u001b[38;5;241m.\u001b[39mupdate({\u001b[38;5;124m'\u001b[39m\u001b[38;5;124mfont.size\u001b[39m\u001b[38;5;124m'\u001b[39m: \u001b[38;5;241m18\u001b[39m})\n\u001b[0;32m      6\u001b[0m \u001b[38;5;66;03m# Plot training & validation accuracy values\u001b[39;00m\n\u001b[1;32m----> 7\u001b[0m ax[\u001b[38;5;241m0\u001b[39m]\u001b[38;5;241m.\u001b[39mplot(\u001b[43mhistory\u001b[49m\u001b[38;5;241m.\u001b[39mhistory[\u001b[38;5;124m'\u001b[39m\u001b[38;5;124maccuracy\u001b[39m\u001b[38;5;124m'\u001b[39m])\n\u001b[0;32m      8\u001b[0m ax[\u001b[38;5;241m0\u001b[39m]\u001b[38;5;241m.\u001b[39mplot(history\u001b[38;5;241m.\u001b[39mhistory[\u001b[38;5;124m'\u001b[39m\u001b[38;5;124mval_accuracy\u001b[39m\u001b[38;5;124m'\u001b[39m])\n\u001b[0;32m      9\u001b[0m ax[\u001b[38;5;241m0\u001b[39m]\u001b[38;5;241m.\u001b[39mset_title(\u001b[38;5;124m'\u001b[39m\u001b[38;5;124mModel accuracy\u001b[39m\u001b[38;5;124m'\u001b[39m)\n",
      "\u001b[1;31mNameError\u001b[0m: name 'history' is not defined"
     ]
    },
    {
     "data": {
      "image/png": "[encoded data removed]",
      "text/plain": [
       "<Figure size 1296x432 with 2 Axes>"
      ]
     },
     "metadata": {
      "needs_background": "light"
     },
     "output_type": "display_data"
    }
   ],
   "source": [
    "fig, ax = plt.subplots(1, 2, figsize = (18, 6))\n",
    "fig.subplots_adjust(left = 0.02, right = 0.98, wspace = 0.2)\n",
    "\n",
    "plt.rcParams.update({'font.size': 18})\n",
    "\n",
    "# Plot training & validation accuracy values\n",
    "ax[0].plot(history.history['accuracy'])\n",
    "ax[0].plot(history.history['val_accuracy'])\n",
    "ax[0].set_title('Model accuracy')\n",
    "ax[0].set_ylabel('Accuracy')\n",
    "ax[0].set_xlabel('Epoch')\n",
    "ax[0].legend(['Train', 'Validation'])\n",
    "\n",
    "# Plot training & validation loss values\n",
    "ax[1].plot(history.history['loss'])\n",
    "ax[1].plot(history.history['val_loss'])\n",
    "ax[1].set_title('Model loss')\n",
    "ax[1].set_ylabel('Loss')\n",
    "ax[1].set_xlabel('Epoch')\n",
    "ax[1].legend(['Train', 'Validation'])\n",
    "\n",
    "plt.show()"
   ]
  },
  {
   "cell_type": "code",
   "execution_count": null,
   "id": "3825f403-70fe-409c-9bdf-6f3e513e5daa",
   "metadata": {},
   "outputs": [],
   "source": []
  }
 ],
 "metadata": {
  "kernelspec": {
   "display_name": "Python 3 (ipykernel)",
   "language": "python",
   "name": "python3"
  },
  "language_info": {
   "codemirror_mode": {
    "name": "ipython",
    "version": 3
   },
   "file_extension": ".py",
   "mimetype": "text/x-python",
   "name": "python",
   "nbconvert_exporter": "python",
   "pygments_lexer": "ipython3",
   "version": "3.9.7"
  }
 },
 "nbformat": 4,
 "nbformat_minor": 5
}
