{
 "cells": [
  {
   "cell_type": "markdown",
   "metadata": {
    "colab_type": "text",
    "id": "3pFHxIL9yv07"
   },
   "source": [
    "<div>\n",
    "<img src=https://www.institutedata.com/wp-content/uploads/2019/10/iod_h_tp_primary_c.svg width=\"300\">\n",
    "</div>"
   ]
  },
  {
   "cell_type": "markdown",
   "metadata": {
    "colab_type": "text",
    "id": "5bT8r4RGyv1A"
   },
   "source": [
    "# Demo: CNN with Keras\n",
    "INSTRUCTIONS:\n",
    "- Run the cells\n",
    "- Observe and understand the results\n",
    "- Answer the questions"
   ]
  },
  {
   "cell_type": "markdown",
   "metadata": {
    "colab_type": "text",
    "id": "5dfgYO-oyv1D"
   },
   "source": [
    "## Faces classification with Keras"
   ]
  },
  {
   "cell_type": "code",
   "execution_count": 1,
   "metadata": {
    "colab": {},
    "colab_type": "code",
    "executionInfo": {
     "elapsed": 1406,
     "status": "ok",
     "timestamp": 1592962752015,
     "user": {
      "displayName": "Mai Anh Ly",
      "photoUrl": "https://lh3.googleusercontent.com/a-/AOh14GhHHDr2i-2k7G_oBtP5D_dy47lN2H4LvcVbnf3Q80DBnN2jD12-0c5n7NBU7YoSmCeob2Jd_kgFLpbz9TW5y0xddEByz4pQNZiFVh2AmzFWhBrrJv0weJmYZQ6V5CFhV6i-G5cItOOanUIUPeT0RQ-pHrQiaZFT9_EgpVdHnKiZgYSzpqSiUW3VAkRfvb02GbW8k9bfVDyuJMmNXqIvxKwcwFf6SI06U7dgjhbLgQduy3GghafQc24c5LrCSI3UdJxSFb41PptMtvgjBjcYi_c1_6Q8jTYNni7De9m8kyKGKufVE1CCX_5PEVSkbtFxQQf2rWkMPux4b_ldY4fOEsE0ihowcS41dp0_L-NjzIl6O0obQ0D7uZZI-qDxwofrUgwDCAEOjxbcF-38Y9fU4xWY_JpjPhEhVqDDgJ89bX3VCt2lF759mYE476c5sq53UZj5-jNL8HeQgYffXrgWfzJwYdJlutHJhDpYo1jTc6qKez8-amTmZpuvMwPzhhJBtythAvI5tflSQE_PZZ2wtypYvjsWprvBM-JtZs09JXwJTa-Tx5EcjzD5hSItk2ZmOghqvNi9JM9cfmZ5ButVnj1kcATt7x-ibCA-89G7T4vGQ5BrE6mzBgVktF0YQm9Uq2RHXfy6-Qt3O43G2GY5950Hiwz20qnWiAPsnXGhALv_FZq7Jl2wNipp7XugM1N09Tl6hLafMv6eHVLbvn44_XECLLuWWQmhoSUTNaoWliXQfF2Hwf9c6CASdr9A-bEUVg=s64",
      "userId": "16059923818223643809"
     },
     "user_tz": -600
    },
    "id": "TH3F0aLlyv1H"
   },
   "outputs": [],
   "source": [
    "import os\n",
    "os.environ['KMP_DUPLICATE_LIB_OK'] = 'True'"
   ]
  },
  {
   "cell_type": "markdown",
   "metadata": {
    "colab_type": "text",
    "id": "kmF9-C-syv1Q"
   },
   "source": [
    "## Import libraries"
   ]
  },
  {
   "cell_type": "code",
   "execution_count": 2,
   "metadata": {
    "colab": {
     "base_uri": "https://localhost:8080/",
     "height": 52
    },
    "colab_type": "code",
    "executionInfo": {
     "elapsed": 1892,
     "status": "ok",
     "timestamp": 1592963111587,
     "user": {
      "displayName": "Mai Anh Ly",
      "photoUrl": "https://lh3.googleusercontent.com/a-/AOh14GhHHDr2i-2k7G_oBtP5D_dy47lN2H4LvcVbnf3Q80DBnN2jD12-0c5n7NBU7YoSmCeob2Jd_kgFLpbz9TW5y0xddEByz4pQNZiFVh2AmzFWhBrrJv0weJmYZQ6V5CFhV6i-G5cItOOanUIUPeT0RQ-pHrQiaZFT9_EgpVdHnKiZgYSzpqSiUW3VAkRfvb02GbW8k9bfVDyuJMmNXqIvxKwcwFf6SI06U7dgjhbLgQduy3GghafQc24c5LrCSI3UdJxSFb41PptMtvgjBjcYi_c1_6Q8jTYNni7De9m8kyKGKufVE1CCX_5PEVSkbtFxQQf2rWkMPux4b_ldY4fOEsE0ihowcS41dp0_L-NjzIl6O0obQ0D7uZZI-qDxwofrUgwDCAEOjxbcF-38Y9fU4xWY_JpjPhEhVqDDgJ89bX3VCt2lF759mYE476c5sq53UZj5-jNL8HeQgYffXrgWfzJwYdJlutHJhDpYo1jTc6qKez8-amTmZpuvMwPzhhJBtythAvI5tflSQE_PZZ2wtypYvjsWprvBM-JtZs09JXwJTa-Tx5EcjzD5hSItk2ZmOghqvNi9JM9cfmZ5ButVnj1kcATt7x-ibCA-89G7T4vGQ5BrE6mzBgVktF0YQm9Uq2RHXfy6-Qt3O43G2GY5950Hiwz20qnWiAPsnXGhALv_FZq7Jl2wNipp7XugM1N09Tl6hLafMv6eHVLbvn44_XECLLuWWQmhoSUTNaoWliXQfF2Hwf9c6CASdr9A-bEUVg=s64",
      "userId": "16059923818223643809"
     },
     "user_tz": -600
    },
    "id": "gLPeNlPI_mMh",
    "outputId": "15620d4c-7db3-47a2-c43e-5367351670db"
   },
   "outputs": [
    {
     "name": "stdout",
     "output_type": "stream",
     "text": [
      "Keras version:  2.6.0\n",
      "Tensorflow version:  2.6.0\n"
     ]
    }
   ],
   "source": [
    "# Check keras and tensorflow versions\n",
    "import keras\n",
    "import tensorflow as tf\n",
    "\n",
    "print(\"Keras version: \", keras.__version__)\n",
    "print(\"Tensorflow version: \", tf.__version__)"
   ]
  },
  {
   "cell_type": "code",
   "execution_count": 3,
   "metadata": {
    "colab": {
     "base_uri": "https://localhost:8080/",
     "height": 34
    },
    "colab_type": "code",
    "executionInfo": {
     "elapsed": 2774,
     "status": "ok",
     "timestamp": 1592962756792,
     "user": {
      "displayName": "Mai Anh Ly",
      "photoUrl": "https://lh3.googleusercontent.com/a-/AOh14GhHHDr2i-2k7G_oBtP5D_dy47lN2H4LvcVbnf3Q80DBnN2jD12-0c5n7NBU7YoSmCeob2Jd_kgFLpbz9TW5y0xddEByz4pQNZiFVh2AmzFWhBrrJv0weJmYZQ6V5CFhV6i-G5cItOOanUIUPeT0RQ-pHrQiaZFT9_EgpVdHnKiZgYSzpqSiUW3VAkRfvb02GbW8k9bfVDyuJMmNXqIvxKwcwFf6SI06U7dgjhbLgQduy3GghafQc24c5LrCSI3UdJxSFb41PptMtvgjBjcYi_c1_6Q8jTYNni7De9m8kyKGKufVE1CCX_5PEVSkbtFxQQf2rWkMPux4b_ldY4fOEsE0ihowcS41dp0_L-NjzIl6O0obQ0D7uZZI-qDxwofrUgwDCAEOjxbcF-38Y9fU4xWY_JpjPhEhVqDDgJ89bX3VCt2lF759mYE476c5sq53UZj5-jNL8HeQgYffXrgWfzJwYdJlutHJhDpYo1jTc6qKez8-amTmZpuvMwPzhhJBtythAvI5tflSQE_PZZ2wtypYvjsWprvBM-JtZs09JXwJTa-Tx5EcjzD5hSItk2ZmOghqvNi9JM9cfmZ5ButVnj1kcATt7x-ibCA-89G7T4vGQ5BrE6mzBgVktF0YQm9Uq2RHXfy6-Qt3O43G2GY5950Hiwz20qnWiAPsnXGhALv_FZq7Jl2wNipp7XugM1N09Tl6hLafMv6eHVLbvn44_XECLLuWWQmhoSUTNaoWliXQfF2Hwf9c6CASdr9A-bEUVg=s64",
      "userId": "16059923818223643809"
     },
     "user_tz": -600
    },
    "id": "0DhL5fvqyv1T",
    "outputId": "a7257049-405f-4cb1-a911-6f38bf96f587"
   },
   "outputs": [],
   "source": [
    "## Import libraries\n",
    "import numpy as np\n",
    "\n",
    "%matplotlib inline\n",
    "import matplotlib.pyplot as plt\n",
    "\n",
    "from sklearn.datasets import fetch_olivetti_faces\n",
    "from sklearn.metrics import confusion_matrix\n",
    "\n",
    "# import keras\n",
    "from keras.models import Sequential\n",
    "from keras.layers import Dense\n",
    "from keras.layers import Conv2D\n",
    "from keras.layers import Flatten\n",
    "from tensorflow.keras.utils import to_categorical"
   ]
  },
  {
   "cell_type": "markdown",
   "metadata": {
    "colab_type": "text",
    "id": "AFuJDWijyv1Y"
   },
   "source": [
    "## Load data"
   ]
  },
  {
   "cell_type": "code",
   "execution_count": 4,
   "metadata": {
    "colab": {
     "base_uri": "https://localhost:8080/",
     "height": 34
    },
    "colab_type": "code",
    "executionInfo": {
     "elapsed": 6285,
     "status": "ok",
     "timestamp": 1592962766137,
     "user": {
      "displayName": "Mai Anh Ly",
      "photoUrl": "https://lh3.googleusercontent.com/a-/AOh14GhHHDr2i-2k7G_oBtP5D_dy47lN2H4LvcVbnf3Q80DBnN2jD12-0c5n7NBU7YoSmCeob2Jd_kgFLpbz9TW5y0xddEByz4pQNZiFVh2AmzFWhBrrJv0weJmYZQ6V5CFhV6i-G5cItOOanUIUPeT0RQ-pHrQiaZFT9_EgpVdHnKiZgYSzpqSiUW3VAkRfvb02GbW8k9bfVDyuJMmNXqIvxKwcwFf6SI06U7dgjhbLgQduy3GghafQc24c5LrCSI3UdJxSFb41PptMtvgjBjcYi_c1_6Q8jTYNni7De9m8kyKGKufVE1CCX_5PEVSkbtFxQQf2rWkMPux4b_ldY4fOEsE0ihowcS41dp0_L-NjzIl6O0obQ0D7uZZI-qDxwofrUgwDCAEOjxbcF-38Y9fU4xWY_JpjPhEhVqDDgJ89bX3VCt2lF759mYE476c5sq53UZj5-jNL8HeQgYffXrgWfzJwYdJlutHJhDpYo1jTc6qKez8-amTmZpuvMwPzhhJBtythAvI5tflSQE_PZZ2wtypYvjsWprvBM-JtZs09JXwJTa-Tx5EcjzD5hSItk2ZmOghqvNi9JM9cfmZ5ButVnj1kcATt7x-ibCA-89G7T4vGQ5BrE6mzBgVktF0YQm9Uq2RHXfy6-Qt3O43G2GY5950Hiwz20qnWiAPsnXGhALv_FZq7Jl2wNipp7XugM1N09Tl6hLafMv6eHVLbvn44_XECLLuWWQmhoSUTNaoWliXQfF2Hwf9c6CASdr9A-bEUVg=s64",
      "userId": "16059923818223643809"
     },
     "user_tz": -600
    },
    "id": "YpYq76vyyv1a",
    "outputId": "47202aa8-d91e-40ba-f1ce-7ee8933e8597"
   },
   "outputs": [],
   "source": [
    "# The faces dataset\n",
    "faces = fetch_olivetti_faces()"
   ]
  },
  {
   "cell_type": "code",
   "execution_count": 5,
   "metadata": {
    "colab": {
     "base_uri": "https://localhost:8080/",
     "height": 809
    },
    "colab_type": "code",
    "executionInfo": {
     "elapsed": 5225,
     "status": "ok",
     "timestamp": 1592962766139,
     "user": {
      "displayName": "Mai Anh Ly",
      "photoUrl": "https://lh3.googleusercontent.com/a-/AOh14GhHHDr2i-2k7G_oBtP5D_dy47lN2H4LvcVbnf3Q80DBnN2jD12-0c5n7NBU7YoSmCeob2Jd_kgFLpbz9TW5y0xddEByz4pQNZiFVh2AmzFWhBrrJv0weJmYZQ6V5CFhV6i-G5cItOOanUIUPeT0RQ-pHrQiaZFT9_EgpVdHnKiZgYSzpqSiUW3VAkRfvb02GbW8k9bfVDyuJMmNXqIvxKwcwFf6SI06U7dgjhbLgQduy3GghafQc24c5LrCSI3UdJxSFb41PptMtvgjBjcYi_c1_6Q8jTYNni7De9m8kyKGKufVE1CCX_5PEVSkbtFxQQf2rWkMPux4b_ldY4fOEsE0ihowcS41dp0_L-NjzIl6O0obQ0D7uZZI-qDxwofrUgwDCAEOjxbcF-38Y9fU4xWY_JpjPhEhVqDDgJ89bX3VCt2lF759mYE476c5sq53UZj5-jNL8HeQgYffXrgWfzJwYdJlutHJhDpYo1jTc6qKez8-amTmZpuvMwPzhhJBtythAvI5tflSQE_PZZ2wtypYvjsWprvBM-JtZs09JXwJTa-Tx5EcjzD5hSItk2ZmOghqvNi9JM9cfmZ5ButVnj1kcATt7x-ibCA-89G7T4vGQ5BrE6mzBgVktF0YQm9Uq2RHXfy6-Qt3O43G2GY5950Hiwz20qnWiAPsnXGhALv_FZq7Jl2wNipp7XugM1N09Tl6hLafMv6eHVLbvn44_XECLLuWWQmhoSUTNaoWliXQfF2Hwf9c6CASdr9A-bEUVg=s64",
      "userId": "16059923818223643809"
     },
     "user_tz": -600
    },
    "id": "nnadpkG2yv1f",
    "outputId": "bf60e727-b419-44ab-d489-aeb55a1883b1"
   },
   "outputs": [
    {
     "name": "stdout",
     "output_type": "stream",
     "text": [
      ".. _olivetti_faces_dataset:\n",
      "\n",
      "The Olivetti faces dataset\n",
      "--------------------------\n",
      "\n",
      "`This dataset contains a set of face images`_ taken between April 1992 and \n",
      "April 1994 at AT&T Laboratories Cambridge. The\n",
      ":func:`sklearn.datasets.fetch_olivetti_faces` function is the data\n",
      "fetching / caching function that downloads the data\n",
      "archive from AT&T.\n",
      "\n",
      ".. _This dataset contains a set of face images: http://www.cl.cam.ac.uk/research/dtg/attarchive/facedatabase.html\n",
      "\n",
      "As described on the original website:\n",
      "\n",
      "    There are ten different images of each of 40 distinct subjects. For some\n",
      "    subjects, the images were taken at different times, varying the lighting,\n",
      "    facial expressions (open / closed eyes, smiling / not smiling) and facial\n",
      "    details (glasses / no glasses). All the images were taken against a dark\n",
      "    homogeneous background with the subjects in an upright, frontal position \n",
      "    (with tolerance for some side movement).\n",
      "\n",
      "**Data Set Characteristics:**\n",
      "\n",
      "    =================   =====================\n",
      "    Classes                                40\n",
      "    Samples total                         400\n",
      "    Dimensionality                       4096\n",
      "    Features            real, between 0 and 1\n",
      "    =================   =====================\n",
      "\n",
      "The image is quantized to 256 grey levels and stored as unsigned 8-bit \n",
      "integers; the loader will convert these to floating point values on the \n",
      "interval [0, 1], which are easier to work with for many algorithms.\n",
      "\n",
      "The \"target\" for this database is an integer from 0 to 39 indicating the\n",
      "identity of the person pictured; however, with only 10 examples per class, this\n",
      "relatively small dataset is more interesting from an unsupervised or\n",
      "semi-supervised perspective.\n",
      "\n",
      "The original dataset consisted of 92 x 112, while the version available here\n",
      "consists of 64x64 images.\n",
      "\n",
      "When using these images, please give credit to AT&T Laboratories Cambridge.\n",
      "\n"
     ]
    }
   ],
   "source": [
    "print(faces.DESCR)"
   ]
  },
  {
   "cell_type": "code",
   "execution_count": 6,
   "metadata": {
    "colab": {
     "base_uri": "https://localhost:8080/",
     "height": 197
    },
    "colab_type": "code",
    "executionInfo": {
     "elapsed": 1802,
     "status": "ok",
     "timestamp": 1592962774345,
     "user": {
      "displayName": "Mai Anh Ly",
      "photoUrl": "https://lh3.googleusercontent.com/a-/AOh14GhHHDr2i-2k7G_oBtP5D_dy47lN2H4LvcVbnf3Q80DBnN2jD12-0c5n7NBU7YoSmCeob2Jd_kgFLpbz9TW5y0xddEByz4pQNZiFVh2AmzFWhBrrJv0weJmYZQ6V5CFhV6i-G5cItOOanUIUPeT0RQ-pHrQiaZFT9_EgpVdHnKiZgYSzpqSiUW3VAkRfvb02GbW8k9bfVDyuJMmNXqIvxKwcwFf6SI06U7dgjhbLgQduy3GghafQc24c5LrCSI3UdJxSFb41PptMtvgjBjcYi_c1_6Q8jTYNni7De9m8kyKGKufVE1CCX_5PEVSkbtFxQQf2rWkMPux4b_ldY4fOEsE0ihowcS41dp0_L-NjzIl6O0obQ0D7uZZI-qDxwofrUgwDCAEOjxbcF-38Y9fU4xWY_JpjPhEhVqDDgJ89bX3VCt2lF759mYE476c5sq53UZj5-jNL8HeQgYffXrgWfzJwYdJlutHJhDpYo1jTc6qKez8-amTmZpuvMwPzhhJBtythAvI5tflSQE_PZZ2wtypYvjsWprvBM-JtZs09JXwJTa-Tx5EcjzD5hSItk2ZmOghqvNi9JM9cfmZ5ButVnj1kcATt7x-ibCA-89G7T4vGQ5BrE6mzBgVktF0YQm9Uq2RHXfy6-Qt3O43G2GY5950Hiwz20qnWiAPsnXGhALv_FZq7Jl2wNipp7XugM1N09Tl6hLafMv6eHVLbvn44_XECLLuWWQmhoSUTNaoWliXQfF2Hwf9c6CASdr9A-bEUVg=s64",
      "userId": "16059923818223643809"
     },
     "user_tz": -600
    },
    "id": "wO-oI0WUyv1k",
    "outputId": "55c4636a-c670-4ce6-fa59-451c6947843b"
   },
   "outputs": [
    {
     "data": {
      "image/png": "[encoded data removed]",
      "text/plain": [
       "<Figure size 216x216 with 1 Axes>"
      ]
     },
     "metadata": {},
     "output_type": "display_data"
    }
   ],
   "source": [
    "id = np.random.randint(len(faces.target))\n",
    "plt.figure(figsize = (3, 3))\n",
    "plt.imshow(faces.images[id], cmap = 'gray')\n",
    "plt.xticks([])\n",
    "plt.yticks([])\n",
    "plt.show()"
   ]
  },
  {
   "cell_type": "code",
   "execution_count": 7,
   "metadata": {
    "colab": {},
    "colab_type": "code",
    "executionInfo": {
     "elapsed": 1530,
     "status": "ok",
     "timestamp": 1592962774948,
     "user": {
      "displayName": "Mai Anh Ly",
      "photoUrl": "https://lh3.googleusercontent.com/a-/AOh14GhHHDr2i-2k7G_oBtP5D_dy47lN2H4LvcVbnf3Q80DBnN2jD12-0c5n7NBU7YoSmCeob2Jd_kgFLpbz9TW5y0xddEByz4pQNZiFVh2AmzFWhBrrJv0weJmYZQ6V5CFhV6i-G5cItOOanUIUPeT0RQ-pHrQiaZFT9_EgpVdHnKiZgYSzpqSiUW3VAkRfvb02GbW8k9bfVDyuJMmNXqIvxKwcwFf6SI06U7dgjhbLgQduy3GghafQc24c5LrCSI3UdJxSFb41PptMtvgjBjcYi_c1_6Q8jTYNni7De9m8kyKGKufVE1CCX_5PEVSkbtFxQQf2rWkMPux4b_ldY4fOEsE0ihowcS41dp0_L-NjzIl6O0obQ0D7uZZI-qDxwofrUgwDCAEOjxbcF-38Y9fU4xWY_JpjPhEhVqDDgJ89bX3VCt2lF759mYE476c5sq53UZj5-jNL8HeQgYffXrgWfzJwYdJlutHJhDpYo1jTc6qKez8-amTmZpuvMwPzhhJBtythAvI5tflSQE_PZZ2wtypYvjsWprvBM-JtZs09JXwJTa-Tx5EcjzD5hSItk2ZmOghqvNi9JM9cfmZ5ButVnj1kcATt7x-ibCA-89G7T4vGQ5BrE6mzBgVktF0YQm9Uq2RHXfy6-Qt3O43G2GY5950Hiwz20qnWiAPsnXGhALv_FZq7Jl2wNipp7XugM1N09Tl6hLafMv6eHVLbvn44_XECLLuWWQmhoSUTNaoWliXQfF2Hwf9c6CASdr9A-bEUVg=s64",
      "userId": "16059923818223643809"
     },
     "user_tz": -600
    },
    "id": "_3rwC2rdyv1n"
   },
   "outputs": [],
   "source": [
    "# Prepare input data\n",
    "# input\n",
    "X = faces.images\n",
    "img_rows, img_cols = X[0].shape\n",
    "X = X.reshape(X.shape[0], img_rows, img_cols, 1)\n",
    "\n",
    "# output\n",
    "target = faces.target.astype(np.uint8)\n",
    "\n",
    "# Convert the target to categorical\n",
    "y = to_categorical(\n",
    "    target,\n",
    "    num_classes = len(set(target)),\n",
    "    dtype = 'uint8')"
   ]
  },
  {
   "cell_type": "code",
   "execution_count": 8,
   "metadata": {
    "colab": {},
    "colab_type": "code",
    "executionInfo": {
     "elapsed": 1526,
     "status": "ok",
     "timestamp": 1592962778486,
     "user": {
      "displayName": "Mai Anh Ly",
      "photoUrl": "https://lh3.googleusercontent.com/a-/AOh14GhHHDr2i-2k7G_oBtP5D_dy47lN2H4LvcVbnf3Q80DBnN2jD12-0c5n7NBU7YoSmCeob2Jd_kgFLpbz9TW5y0xddEByz4pQNZiFVh2AmzFWhBrrJv0weJmYZQ6V5CFhV6i-G5cItOOanUIUPeT0RQ-pHrQiaZFT9_EgpVdHnKiZgYSzpqSiUW3VAkRfvb02GbW8k9bfVDyuJMmNXqIvxKwcwFf6SI06U7dgjhbLgQduy3GghafQc24c5LrCSI3UdJxSFb41PptMtvgjBjcYi_c1_6Q8jTYNni7De9m8kyKGKufVE1CCX_5PEVSkbtFxQQf2rWkMPux4b_ldY4fOEsE0ihowcS41dp0_L-NjzIl6O0obQ0D7uZZI-qDxwofrUgwDCAEOjxbcF-38Y9fU4xWY_JpjPhEhVqDDgJ89bX3VCt2lF759mYE476c5sq53UZj5-jNL8HeQgYffXrgWfzJwYdJlutHJhDpYo1jTc6qKez8-amTmZpuvMwPzhhJBtythAvI5tflSQE_PZZ2wtypYvjsWprvBM-JtZs09JXwJTa-Tx5EcjzD5hSItk2ZmOghqvNi9JM9cfmZ5ButVnj1kcATt7x-ibCA-89G7T4vGQ5BrE6mzBgVktF0YQm9Uq2RHXfy6-Qt3O43G2GY5950Hiwz20qnWiAPsnXGhALv_FZq7Jl2wNipp7XugM1N09Tl6hLafMv6eHVLbvn44_XECLLuWWQmhoSUTNaoWliXQfF2Hwf9c6CASdr9A-bEUVg=s64",
      "userId": "16059923818223643809"
     },
     "user_tz": -600
    },
    "id": "_hEIZT0Pyv1q"
   },
   "outputs": [],
   "source": [
    "filter = []\n",
    "# run in blocks of 10\n",
    "for i in range(len(target) // 10):\n",
    "    s = set()\n",
    "    while len(s) < 2:\n",
    "        s = set(np.random.randint(0, 10, 2, dtype = np.int8))\n",
    "    a = [x in s for x in range(10)]\n",
    "    filter.append(a)\n",
    "test = np.array(filter).flatten()\n",
    "train = np.array([not t for t in test])"
   ]
  },
  {
   "cell_type": "code",
   "execution_count": 9,
   "metadata": {
    "colab": {},
    "colab_type": "code",
    "executionInfo": {
     "elapsed": 1405,
     "status": "ok",
     "timestamp": 1592962780465,
     "user": {
      "displayName": "Mai Anh Ly",
      "photoUrl": "https://lh3.googleusercontent.com/a-/AOh14GhHHDr2i-2k7G_oBtP5D_dy47lN2H4LvcVbnf3Q80DBnN2jD12-0c5n7NBU7YoSmCeob2Jd_kgFLpbz9TW5y0xddEByz4pQNZiFVh2AmzFWhBrrJv0weJmYZQ6V5CFhV6i-G5cItOOanUIUPeT0RQ-pHrQiaZFT9_EgpVdHnKiZgYSzpqSiUW3VAkRfvb02GbW8k9bfVDyuJMmNXqIvxKwcwFf6SI06U7dgjhbLgQduy3GghafQc24c5LrCSI3UdJxSFb41PptMtvgjBjcYi_c1_6Q8jTYNni7De9m8kyKGKufVE1CCX_5PEVSkbtFxQQf2rWkMPux4b_ldY4fOEsE0ihowcS41dp0_L-NjzIl6O0obQ0D7uZZI-qDxwofrUgwDCAEOjxbcF-38Y9fU4xWY_JpjPhEhVqDDgJ89bX3VCt2lF759mYE476c5sq53UZj5-jNL8HeQgYffXrgWfzJwYdJlutHJhDpYo1jTc6qKez8-amTmZpuvMwPzhhJBtythAvI5tflSQE_PZZ2wtypYvjsWprvBM-JtZs09JXwJTa-Tx5EcjzD5hSItk2ZmOghqvNi9JM9cfmZ5ButVnj1kcATt7x-ibCA-89G7T4vGQ5BrE6mzBgVktF0YQm9Uq2RHXfy6-Qt3O43G2GY5950Hiwz20qnWiAPsnXGhALv_FZq7Jl2wNipp7XugM1N09Tl6hLafMv6eHVLbvn44_XECLLuWWQmhoSUTNaoWliXQfF2Hwf9c6CASdr9A-bEUVg=s64",
      "userId": "16059923818223643809"
     },
     "user_tz": -600
    },
    "id": "yAwmwl9fyv1s"
   },
   "outputs": [],
   "source": [
    "X_train = X[train].copy()\n",
    "X_test  = X[test].copy()\n",
    "y_train = y[train].copy()\n",
    "y_test  = y[test].copy()"
   ]
  },
  {
   "cell_type": "code",
   "execution_count": 10,
   "metadata": {
    "colab": {},
    "colab_type": "code",
    "executionInfo": {
     "elapsed": 734,
     "status": "ok",
     "timestamp": 1592962781188,
     "user": {
      "displayName": "Mai Anh Ly",
      "photoUrl": "https://lh3.googleusercontent.com/a-/AOh14GhHHDr2i-2k7G_oBtP5D_dy47lN2H4LvcVbnf3Q80DBnN2jD12-0c5n7NBU7YoSmCeob2Jd_kgFLpbz9TW5y0xddEByz4pQNZiFVh2AmzFWhBrrJv0weJmYZQ6V5CFhV6i-G5cItOOanUIUPeT0RQ-pHrQiaZFT9_EgpVdHnKiZgYSzpqSiUW3VAkRfvb02GbW8k9bfVDyuJMmNXqIvxKwcwFf6SI06U7dgjhbLgQduy3GghafQc24c5LrCSI3UdJxSFb41PptMtvgjBjcYi_c1_6Q8jTYNni7De9m8kyKGKufVE1CCX_5PEVSkbtFxQQf2rWkMPux4b_ldY4fOEsE0ihowcS41dp0_L-NjzIl6O0obQ0D7uZZI-qDxwofrUgwDCAEOjxbcF-38Y9fU4xWY_JpjPhEhVqDDgJ89bX3VCt2lF759mYE476c5sq53UZj5-jNL8HeQgYffXrgWfzJwYdJlutHJhDpYo1jTc6qKez8-amTmZpuvMwPzhhJBtythAvI5tflSQE_PZZ2wtypYvjsWprvBM-JtZs09JXwJTa-Tx5EcjzD5hSItk2ZmOghqvNi9JM9cfmZ5ButVnj1kcATt7x-ibCA-89G7T4vGQ5BrE6mzBgVktF0YQm9Uq2RHXfy6-Qt3O43G2GY5950Hiwz20qnWiAPsnXGhALv_FZq7Jl2wNipp7XugM1N09Tl6hLafMv6eHVLbvn44_XECLLuWWQmhoSUTNaoWliXQfF2Hwf9c6CASdr9A-bEUVg=s64",
      "userId": "16059923818223643809"
     },
     "user_tz": -600
    },
    "id": "2P9oGZCxyv1t"
   },
   "outputs": [],
   "source": [
    "# Set up the model architecture\n",
    "model = Sequential()"
   ]
  },
  {
   "cell_type": "code",
   "execution_count": 11,
   "metadata": {
    "colab": {},
    "colab_type": "code",
    "executionInfo": {
     "elapsed": 9283,
     "status": "ok",
     "timestamp": 1592962792021,
     "user": {
      "displayName": "Mai Anh Ly",
      "photoUrl": "https://lh3.googleusercontent.com/a-/AOh14GhHHDr2i-2k7G_oBtP5D_dy47lN2H4LvcVbnf3Q80DBnN2jD12-0c5n7NBU7YoSmCeob2Jd_kgFLpbz9TW5y0xddEByz4pQNZiFVh2AmzFWhBrrJv0weJmYZQ6V5CFhV6i-G5cItOOanUIUPeT0RQ-pHrQiaZFT9_EgpVdHnKiZgYSzpqSiUW3VAkRfvb02GbW8k9bfVDyuJMmNXqIvxKwcwFf6SI06U7dgjhbLgQduy3GghafQc24c5LrCSI3UdJxSFb41PptMtvgjBjcYi_c1_6Q8jTYNni7De9m8kyKGKufVE1CCX_5PEVSkbtFxQQf2rWkMPux4b_ldY4fOEsE0ihowcS41dp0_L-NjzIl6O0obQ0D7uZZI-qDxwofrUgwDCAEOjxbcF-38Y9fU4xWY_JpjPhEhVqDDgJ89bX3VCt2lF759mYE476c5sq53UZj5-jNL8HeQgYffXrgWfzJwYdJlutHJhDpYo1jTc6qKez8-amTmZpuvMwPzhhJBtythAvI5tflSQE_PZZ2wtypYvjsWprvBM-JtZs09JXwJTa-Tx5EcjzD5hSItk2ZmOghqvNi9JM9cfmZ5ButVnj1kcATt7x-ibCA-89G7T4vGQ5BrE6mzBgVktF0YQm9Uq2RHXfy6-Qt3O43G2GY5950Hiwz20qnWiAPsnXGhALv_FZq7Jl2wNipp7XugM1N09Tl6hLafMv6eHVLbvn44_XECLLuWWQmhoSUTNaoWliXQfF2Hwf9c6CASdr9A-bEUVg=s64",
      "userId": "16059923818223643809"
     },
     "user_tz": -600
    },
    "id": "UMv2DgJtyv1v"
   },
   "outputs": [],
   "source": [
    "# Add a convolutional layer\n",
    "model.add(Conv2D(60,\n",
    "                 kernel_size = 4,\n",
    "                 activation = 'relu',\n",
    "                 data_format = 'channels_last',\n",
    "                 padding = 'valid',\n",
    "                 input_shape = (img_rows, img_cols, 1)))\n",
    "\n",
    "# Add another convolutional layer\n",
    "model.add(Conv2D(30,\n",
    "                 kernel_size = 2,\n",
    "                 activation = 'relu'))\n",
    "\n",
    "# Flatten the output of the convolutional layer\n",
    "model.add(Flatten())\n",
    "\n",
    "# Add an output layer for the 3 categories\n",
    "model.add(Dense(len(set(target)),\n",
    "                activation = 'softmax'))"
   ]
  },
  {
   "cell_type": "code",
   "execution_count": 12,
   "metadata": {
    "colab": {
     "base_uri": "https://localhost:8080/",
     "height": 316
    },
    "colab_type": "code",
    "executionInfo": {
     "elapsed": 5723,
     "status": "ok",
     "timestamp": 1592962792023,
     "user": {
      "displayName": "Mai Anh Ly",
      "photoUrl": "https://lh3.googleusercontent.com/a-/AOh14GhHHDr2i-2k7G_oBtP5D_dy47lN2H4LvcVbnf3Q80DBnN2jD12-0c5n7NBU7YoSmCeob2Jd_kgFLpbz9TW5y0xddEByz4pQNZiFVh2AmzFWhBrrJv0weJmYZQ6V5CFhV6i-G5cItOOanUIUPeT0RQ-pHrQiaZFT9_EgpVdHnKiZgYSzpqSiUW3VAkRfvb02GbW8k9bfVDyuJMmNXqIvxKwcwFf6SI06U7dgjhbLgQduy3GghafQc24c5LrCSI3UdJxSFb41PptMtvgjBjcYi_c1_6Q8jTYNni7De9m8kyKGKufVE1CCX_5PEVSkbtFxQQf2rWkMPux4b_ldY4fOEsE0ihowcS41dp0_L-NjzIl6O0obQ0D7uZZI-qDxwofrUgwDCAEOjxbcF-38Y9fU4xWY_JpjPhEhVqDDgJ89bX3VCt2lF759mYE476c5sq53UZj5-jNL8HeQgYffXrgWfzJwYdJlutHJhDpYo1jTc6qKez8-amTmZpuvMwPzhhJBtythAvI5tflSQE_PZZ2wtypYvjsWprvBM-JtZs09JXwJTa-Tx5EcjzD5hSItk2ZmOghqvNi9JM9cfmZ5ButVnj1kcATt7x-ibCA-89G7T4vGQ5BrE6mzBgVktF0YQm9Uq2RHXfy6-Qt3O43G2GY5950Hiwz20qnWiAPsnXGhALv_FZq7Jl2wNipp7XugM1N09Tl6hLafMv6eHVLbvn44_XECLLuWWQmhoSUTNaoWliXQfF2Hwf9c6CASdr9A-bEUVg=s64",
      "userId": "16059923818223643809"
     },
     "user_tz": -600
    },
    "id": "QAK8acr9yv1x",
    "outputId": "703074e6-89a9-4a91-c324-19b4d87c9c89",
    "scrolled": true
   },
   "outputs": [
    {
     "name": "stdout",
     "output_type": "stream",
     "text": [
      "Model: \"sequential\"\n",
      "_________________________________________________________________\n",
      "Layer (type)                 Output Shape              Param #   \n",
      "=================================================================\n",
      "conv2d (Conv2D)              (None, 61, 61, 60)        1020      \n",
      "_________________________________________________________________\n",
      "conv2d_1 (Conv2D)            (None, 60, 60, 30)        7230      \n",
      "_________________________________________________________________\n",
      "flatten (Flatten)            (None, 108000)            0         \n",
      "_________________________________________________________________\n",
      "dense (Dense)                (None, 40)                4320040   \n",
      "=================================================================\n",
      "Total params: 4,328,290\n",
      "Trainable params: 4,328,290\n",
      "Non-trainable params: 0\n",
      "_________________________________________________________________\n",
      "None\n"
     ]
    }
   ],
   "source": [
    "print(model.summary())"
   ]
  },
  {
   "cell_type": "code",
   "execution_count": 13,
   "metadata": {
    "colab": {},
    "colab_type": "code",
    "executionInfo": {
     "elapsed": 4463,
     "status": "ok",
     "timestamp": 1592962792025,
     "user": {
      "displayName": "Mai Anh Ly",
      "photoUrl": "https://lh3.googleusercontent.com/a-/AOh14GhHHDr2i-2k7G_oBtP5D_dy47lN2H4LvcVbnf3Q80DBnN2jD12-0c5n7NBU7YoSmCeob2Jd_kgFLpbz9TW5y0xddEByz4pQNZiFVh2AmzFWhBrrJv0weJmYZQ6V5CFhV6i-G5cItOOanUIUPeT0RQ-pHrQiaZFT9_EgpVdHnKiZgYSzpqSiUW3VAkRfvb02GbW8k9bfVDyuJMmNXqIvxKwcwFf6SI06U7dgjhbLgQduy3GghafQc24c5LrCSI3UdJxSFb41PptMtvgjBjcYi_c1_6Q8jTYNni7De9m8kyKGKufVE1CCX_5PEVSkbtFxQQf2rWkMPux4b_ldY4fOEsE0ihowcS41dp0_L-NjzIl6O0obQ0D7uZZI-qDxwofrUgwDCAEOjxbcF-38Y9fU4xWY_JpjPhEhVqDDgJ89bX3VCt2lF759mYE476c5sq53UZj5-jNL8HeQgYffXrgWfzJwYdJlutHJhDpYo1jTc6qKez8-amTmZpuvMwPzhhJBtythAvI5tflSQE_PZZ2wtypYvjsWprvBM-JtZs09JXwJTa-Tx5EcjzD5hSItk2ZmOghqvNi9JM9cfmZ5ButVnj1kcATt7x-ibCA-89G7T4vGQ5BrE6mzBgVktF0YQm9Uq2RHXfy6-Qt3O43G2GY5950Hiwz20qnWiAPsnXGhALv_FZq7Jl2wNipp7XugM1N09Tl6hLafMv6eHVLbvn44_XECLLuWWQmhoSUTNaoWliXQfF2Hwf9c6CASdr9A-bEUVg=s64",
      "userId": "16059923818223643809"
     },
     "user_tz": -600
    },
    "id": "3DkcUhjmyv11"
   },
   "outputs": [],
   "source": [
    "# Compile the model \n",
    "model.compile(optimizer = 'adam', \n",
    "              loss = 'categorical_crossentropy', \n",
    "              metrics = ['accuracy'])"
   ]
  },
  {
   "cell_type": "code",
   "execution_count": 29,
   "metadata": {
    "colab": {
     "base_uri": "https://localhost:8080/",
     "height": 406
    },
    "colab_type": "code",
    "executionInfo": {
     "elapsed": 10959,
     "status": "ok",
     "timestamp": 1592962800978,
     "user": {
      "displayName": "Mai Anh Ly",
      "photoUrl": "https://lh3.googleusercontent.com/a-/AOh14GhHHDr2i-2k7G_oBtP5D_dy47lN2H4LvcVbnf3Q80DBnN2jD12-0c5n7NBU7YoSmCeob2Jd_kgFLpbz9TW5y0xddEByz4pQNZiFVh2AmzFWhBrrJv0weJmYZQ6V5CFhV6i-G5cItOOanUIUPeT0RQ-pHrQiaZFT9_EgpVdHnKiZgYSzpqSiUW3VAkRfvb02GbW8k9bfVDyuJMmNXqIvxKwcwFf6SI06U7dgjhbLgQduy3GghafQc24c5LrCSI3UdJxSFb41PptMtvgjBjcYi_c1_6Q8jTYNni7De9m8kyKGKufVE1CCX_5PEVSkbtFxQQf2rWkMPux4b_ldY4fOEsE0ihowcS41dp0_L-NjzIl6O0obQ0D7uZZI-qDxwofrUgwDCAEOjxbcF-38Y9fU4xWY_JpjPhEhVqDDgJ89bX3VCt2lF759mYE476c5sq53UZj5-jNL8HeQgYffXrgWfzJwYdJlutHJhDpYo1jTc6qKez8-amTmZpuvMwPzhhJBtythAvI5tflSQE_PZZ2wtypYvjsWprvBM-JtZs09JXwJTa-Tx5EcjzD5hSItk2ZmOghqvNi9JM9cfmZ5ButVnj1kcATt7x-ibCA-89G7T4vGQ5BrE6mzBgVktF0YQm9Uq2RHXfy6-Qt3O43G2GY5950Hiwz20qnWiAPsnXGhALv_FZq7Jl2wNipp7XugM1N09Tl6hLafMv6eHVLbvn44_XECLLuWWQmhoSUTNaoWliXQfF2Hwf9c6CASdr9A-bEUVg=s64",
      "userId": "16059923818223643809"
     },
     "user_tz": -600
    },
    "id": "-OCxnEJOyv12",
    "outputId": "229c2b8c-66f3-4725-b5a4-5bf3e91d4d47"
   },
   "outputs": [
    {
     "name": "stdout",
     "output_type": "stream",
     "text": [
      "Epoch 1/9\n",
      "26/26 [==============================] - 1s 52ms/step - loss: 0.0025 - accuracy: 1.0000 - val_loss: 39.7649 - val_accuracy: 0.0000e+00\n",
      "Epoch 2/9\n",
      "26/26 [==============================] - 1s 53ms/step - loss: 0.0018 - accuracy: 1.0000 - val_loss: 40.4392 - val_accuracy: 0.0000e+00\n",
      "Epoch 3/9\n",
      "26/26 [==============================] - 1s 53ms/step - loss: 0.0015 - accuracy: 1.0000 - val_loss: 41.1575 - val_accuracy: 0.0000e+00\n",
      "Epoch 4/9\n",
      "26/26 [==============================] - 2s 57ms/step - loss: 0.0013 - accuracy: 1.0000 - val_loss: 42.1708 - val_accuracy: 0.0000e+00\n",
      "Epoch 5/9\n",
      "26/26 [==============================] - 1s 49ms/step - loss: 0.0012 - accuracy: 1.0000 - val_loss: 43.0140 - val_accuracy: 0.0000e+00\n",
      "Epoch 6/9\n",
      "26/26 [==============================] - 1s 48ms/step - loss: 0.0010 - accuracy: 1.0000 - val_loss: 43.7981 - val_accuracy: 0.0000e+00\n",
      "Epoch 7/9\n",
      "26/26 [==============================] - 1s 52ms/step - loss: 9.1486e-04 - accuracy: 1.0000 - val_loss: 44.3112 - val_accuracy: 0.0000e+00\n",
      "Epoch 8/9\n",
      "26/26 [==============================] - 1s 50ms/step - loss: 8.2930e-04 - accuracy: 1.0000 - val_loss: 44.7108 - val_accuracy: 0.0000e+00\n",
      "Epoch 9/9\n",
      "26/26 [==============================] - 1s 50ms/step - loss: 7.6353e-04 - accuracy: 1.0000 - val_loss: 45.4317 - val_accuracy: 0.0000e+00\n",
      "CPU times: total: 1min 27s\n",
      "Wall time: 12.2 s\n"
     ]
    }
   ],
   "source": [
    "%%time\n",
    "# Fit the model on a training set\n",
    "history = model.fit(\n",
    "    X_train,\n",
    "    y_train,\n",
    "    validation_split = 0.2,\n",
    "    epochs = 9,\n",
    "    batch_size = 10)"
   ]
  },
  {
   "cell_type": "code",
   "execution_count": 30,
   "metadata": {
    "colab": {},
    "colab_type": "code",
    "executionInfo": {
     "elapsed": 8951,
     "status": "ok",
     "timestamp": 1592962800981,
     "user": {
      "displayName": "Mai Anh Ly",
      "photoUrl": "https://lh3.googleusercontent.com/a-/AOh14GhHHDr2i-2k7G_oBtP5D_dy47lN2H4LvcVbnf3Q80DBnN2jD12-0c5n7NBU7YoSmCeob2Jd_kgFLpbz9TW5y0xddEByz4pQNZiFVh2AmzFWhBrrJv0weJmYZQ6V5CFhV6i-G5cItOOanUIUPeT0RQ-pHrQiaZFT9_EgpVdHnKiZgYSzpqSiUW3VAkRfvb02GbW8k9bfVDyuJMmNXqIvxKwcwFf6SI06U7dgjhbLgQduy3GghafQc24c5LrCSI3UdJxSFb41PptMtvgjBjcYi_c1_6Q8jTYNni7De9m8kyKGKufVE1CCX_5PEVSkbtFxQQf2rWkMPux4b_ldY4fOEsE0ihowcS41dp0_L-NjzIl6O0obQ0D7uZZI-qDxwofrUgwDCAEOjxbcF-38Y9fU4xWY_JpjPhEhVqDDgJ89bX3VCt2lF759mYE476c5sq53UZj5-jNL8HeQgYffXrgWfzJwYdJlutHJhDpYo1jTc6qKez8-amTmZpuvMwPzhhJBtythAvI5tflSQE_PZZ2wtypYvjsWprvBM-JtZs09JXwJTa-Tx5EcjzD5hSItk2ZmOghqvNi9JM9cfmZ5ButVnj1kcATt7x-ibCA-89G7T4vGQ5BrE6mzBgVktF0YQm9Uq2RHXfy6-Qt3O43G2GY5950Hiwz20qnWiAPsnXGhALv_FZq7Jl2wNipp7XugM1N09Tl6hLafMv6eHVLbvn44_XECLLuWWQmhoSUTNaoWliXQfF2Hwf9c6CASdr9A-bEUVg=s64",
      "userId": "16059923818223643809"
     },
     "user_tz": -600
    },
    "id": "ENovdR5_yv15"
   },
   "outputs": [],
   "source": [
    "predictions = model.predict(X_test)"
   ]
  },
  {
   "cell_type": "code",
   "execution_count": 31,
   "metadata": {
    "colab": {
     "base_uri": "https://localhost:8080/",
     "height": 70
    },
    "colab_type": "code",
    "executionInfo": {
     "elapsed": 1240,
     "status": "ok",
     "timestamp": 1592962804402,
     "user": {
      "displayName": "Mai Anh Ly",
      "photoUrl": "https://lh3.googleusercontent.com/a-/AOh14GhHHDr2i-2k7G_oBtP5D_dy47lN2H4LvcVbnf3Q80DBnN2jD12-0c5n7NBU7YoSmCeob2Jd_kgFLpbz9TW5y0xddEByz4pQNZiFVh2AmzFWhBrrJv0weJmYZQ6V5CFhV6i-G5cItOOanUIUPeT0RQ-pHrQiaZFT9_EgpVdHnKiZgYSzpqSiUW3VAkRfvb02GbW8k9bfVDyuJMmNXqIvxKwcwFf6SI06U7dgjhbLgQduy3GghafQc24c5LrCSI3UdJxSFb41PptMtvgjBjcYi_c1_6Q8jTYNni7De9m8kyKGKufVE1CCX_5PEVSkbtFxQQf2rWkMPux4b_ldY4fOEsE0ihowcS41dp0_L-NjzIl6O0obQ0D7uZZI-qDxwofrUgwDCAEOjxbcF-38Y9fU4xWY_JpjPhEhVqDDgJ89bX3VCt2lF759mYE476c5sq53UZj5-jNL8HeQgYffXrgWfzJwYdJlutHJhDpYo1jTc6qKez8-amTmZpuvMwPzhhJBtythAvI5tflSQE_PZZ2wtypYvjsWprvBM-JtZs09JXwJTa-Tx5EcjzD5hSItk2ZmOghqvNi9JM9cfmZ5ButVnj1kcATt7x-ibCA-89G7T4vGQ5BrE6mzBgVktF0YQm9Uq2RHXfy6-Qt3O43G2GY5950Hiwz20qnWiAPsnXGhALv_FZq7Jl2wNipp7XugM1N09Tl6hLafMv6eHVLbvn44_XECLLuWWQmhoSUTNaoWliXQfF2Hwf9c6CASdr9A-bEUVg=s64",
      "userId": "16059923818223643809"
     },
     "user_tz": -600
    },
    "id": "vuw-Lnpuyv17",
    "outputId": "886bcf0f-582b-4996-c350-491d404fadf0",
    "scrolled": true
   },
   "outputs": [
    {
     "name": "stdout",
     "output_type": "stream",
     "text": [
      "8/8 [==============================] - 0s 6ms/step - loss: 9.3142 - accuracy: 0.7250\n",
      "\n",
      "Test loss: 9.314237, Test accuracy: 0.725000\n"
     ]
    }
   ],
   "source": [
    "score = model.evaluate(X_test, y_test, batch_size = 10)\n",
    "print('\\nTest loss: %.6f, Test accuracy: %.6f' % tuple(score))"
   ]
  },
  {
   "cell_type": "code",
   "execution_count": 32,
   "metadata": {
    "colab": {},
    "colab_type": "code",
    "executionInfo": {
     "elapsed": 1218,
     "status": "ok",
     "timestamp": 1592962804404,
     "user": {
      "displayName": "Mai Anh Ly",
      "photoUrl": "https://lh3.googleusercontent.com/a-/AOh14GhHHDr2i-2k7G_oBtP5D_dy47lN2H4LvcVbnf3Q80DBnN2jD12-0c5n7NBU7YoSmCeob2Jd_kgFLpbz9TW5y0xddEByz4pQNZiFVh2AmzFWhBrrJv0weJmYZQ6V5CFhV6i-G5cItOOanUIUPeT0RQ-pHrQiaZFT9_EgpVdHnKiZgYSzpqSiUW3VAkRfvb02GbW8k9bfVDyuJMmNXqIvxKwcwFf6SI06U7dgjhbLgQduy3GghafQc24c5LrCSI3UdJxSFb41PptMtvgjBjcYi_c1_6Q8jTYNni7De9m8kyKGKufVE1CCX_5PEVSkbtFxQQf2rWkMPux4b_ldY4fOEsE0ihowcS41dp0_L-NjzIl6O0obQ0D7uZZI-qDxwofrUgwDCAEOjxbcF-38Y9fU4xWY_JpjPhEhVqDDgJ89bX3VCt2lF759mYE476c5sq53UZj5-jNL8HeQgYffXrgWfzJwYdJlutHJhDpYo1jTc6qKez8-amTmZpuvMwPzhhJBtythAvI5tflSQE_PZZ2wtypYvjsWprvBM-JtZs09JXwJTa-Tx5EcjzD5hSItk2ZmOghqvNi9JM9cfmZ5ButVnj1kcATt7x-ibCA-89G7T4vGQ5BrE6mzBgVktF0YQm9Uq2RHXfy6-Qt3O43G2GY5950Hiwz20qnWiAPsnXGhALv_FZq7Jl2wNipp7XugM1N09Tl6hLafMv6eHVLbvn44_XECLLuWWQmhoSUTNaoWliXQfF2Hwf9c6CASdr9A-bEUVg=s64",
      "userId": "16059923818223643809"
     },
     "user_tz": -600
    },
    "id": "rZkGlsB2yv19"
   },
   "outputs": [],
   "source": [
    "def print_cm(cm):\n",
    "    d_size = max(len('%d' % cm.max()), len('%d' % cm.shape[1]))\n",
    "    if min(cm.shape) > 10: # make sparse\n",
    "        print('Sparse Matrix (*=diagonal)')\n",
    "        fmt_r = 'r%%0%dd' % d_size\n",
    "        fmt_c = ', c%%0%dd%%s= %%%dd' % (d_size, d_size)\n",
    "        for i in range(cm.shape[0]):\n",
    "            s = fmt_r % i\n",
    "            for j in range(cm.shape[1]):\n",
    "                if cm[i, j] > 0:\n",
    "                    s += fmt_c % (j, '*' if i == j else ' ', cm[i, j])\n",
    "            print(s)\n",
    "    else: # make dense\n",
    "        c = '%%%dd ' % d_size\n",
    "        s = '%s| ' % (' ' * d_size)\n",
    "        s += ''.join([c % i for i in range(len(cm[0]))])\n",
    "        print(s)\n",
    "        print('-' * len(s))\n",
    "        for i, r in enumerate(cm):\n",
    "            s = '%2d| ' % i\n",
    "            s += c * len(r)\n",
    "            print(s % tuple(r))"
   ]
  },
  {
   "cell_type": "code",
   "execution_count": 33,
   "metadata": {
    "colab": {
     "base_uri": "https://localhost:8080/",
     "height": 738
    },
    "colab_type": "code",
    "executionInfo": {
     "elapsed": 731,
     "status": "ok",
     "timestamp": 1592962804405,
     "user": {
      "displayName": "Mai Anh Ly",
      "photoUrl": "https://lh3.googleusercontent.com/a-/AOh14GhHHDr2i-2k7G_oBtP5D_dy47lN2H4LvcVbnf3Q80DBnN2jD12-0c5n7NBU7YoSmCeob2Jd_kgFLpbz9TW5y0xddEByz4pQNZiFVh2AmzFWhBrrJv0weJmYZQ6V5CFhV6i-G5cItOOanUIUPeT0RQ-pHrQiaZFT9_EgpVdHnKiZgYSzpqSiUW3VAkRfvb02GbW8k9bfVDyuJMmNXqIvxKwcwFf6SI06U7dgjhbLgQduy3GghafQc24c5LrCSI3UdJxSFb41PptMtvgjBjcYi_c1_6Q8jTYNni7De9m8kyKGKufVE1CCX_5PEVSkbtFxQQf2rWkMPux4b_ldY4fOEsE0ihowcS41dp0_L-NjzIl6O0obQ0D7uZZI-qDxwofrUgwDCAEOjxbcF-38Y9fU4xWY_JpjPhEhVqDDgJ89bX3VCt2lF759mYE476c5sq53UZj5-jNL8HeQgYffXrgWfzJwYdJlutHJhDpYo1jTc6qKez8-amTmZpuvMwPzhhJBtythAvI5tflSQE_PZZ2wtypYvjsWprvBM-JtZs09JXwJTa-Tx5EcjzD5hSItk2ZmOghqvNi9JM9cfmZ5ButVnj1kcATt7x-ibCA-89G7T4vGQ5BrE6mzBgVktF0YQm9Uq2RHXfy6-Qt3O43G2GY5950Hiwz20qnWiAPsnXGhALv_FZq7Jl2wNipp7XugM1N09Tl6hLafMv6eHVLbvn44_XECLLuWWQmhoSUTNaoWliXQfF2Hwf9c6CASdr9A-bEUVg=s64",
      "userId": "16059923818223643809"
     },
     "user_tz": -600
    },
    "id": "_Jz1anYwyv1-",
    "outputId": "60023cd8-db90-41a8-9efb-f7bc8cece1d2"
   },
   "outputs": [],
   "source": [
    "#y_test_target = np.array([x.argmax() for x in y_test])\n",
    "#Y_pred = np.argmax(model.predict(X_test),axis=1)\n",
    "#cm = confusion_matrix(y_test_target, Y_pred)\n",
    "#print_cm(cm)"
   ]
  },
  {
   "cell_type": "code",
   "execution_count": 34,
   "metadata": {},
   "outputs": [
    {
     "name": "stdout",
     "output_type": "stream",
     "text": [
      "Confusion Matrix\n",
      "[[2 0 0 ... 0 0 0]\n",
      " [0 2 0 ... 0 0 0]\n",
      " [0 0 2 ... 0 0 0]\n",
      " ...\n",
      " [0 0 0 ... 0 0 0]\n",
      " [0 0 0 ... 0 0 0]\n",
      " [0 0 0 ... 0 0 0]]\n"
     ]
    }
   ],
   "source": [
    "y_test_arg=np.argmax(y_test,axis=1)\n",
    "Y_pred = np.argmax(model.predict(X_test),axis=1)\n",
    "print('Confusion Matrix')\n",
    "print(confusion_matrix(y_test_arg, Y_pred))"
   ]
  },
  {
   "cell_type": "code",
   "execution_count": 35,
   "metadata": {
    "colab": {
     "base_uri": "https://localhost:8080/",
     "height": 290
    },
    "colab_type": "code",
    "executionInfo": {
     "elapsed": 1660,
     "status": "ok",
     "timestamp": 1592962883897,
     "user": {
      "displayName": "Mai Anh Ly",
      "photoUrl": "https://lh3.googleusercontent.com/a-/AOh14GhHHDr2i-2k7G_oBtP5D_dy47lN2H4LvcVbnf3Q80DBnN2jD12-0c5n7NBU7YoSmCeob2Jd_kgFLpbz9TW5y0xddEByz4pQNZiFVh2AmzFWhBrrJv0weJmYZQ6V5CFhV6i-G5cItOOanUIUPeT0RQ-pHrQiaZFT9_EgpVdHnKiZgYSzpqSiUW3VAkRfvb02GbW8k9bfVDyuJMmNXqIvxKwcwFf6SI06U7dgjhbLgQduy3GghafQc24c5LrCSI3UdJxSFb41PptMtvgjBjcYi_c1_6Q8jTYNni7De9m8kyKGKufVE1CCX_5PEVSkbtFxQQf2rWkMPux4b_ldY4fOEsE0ihowcS41dp0_L-NjzIl6O0obQ0D7uZZI-qDxwofrUgwDCAEOjxbcF-38Y9fU4xWY_JpjPhEhVqDDgJ89bX3VCt2lF759mYE476c5sq53UZj5-jNL8HeQgYffXrgWfzJwYdJlutHJhDpYo1jTc6qKez8-amTmZpuvMwPzhhJBtythAvI5tflSQE_PZZ2wtypYvjsWprvBM-JtZs09JXwJTa-Tx5EcjzD5hSItk2ZmOghqvNi9JM9cfmZ5ButVnj1kcATt7x-ibCA-89G7T4vGQ5BrE6mzBgVktF0YQm9Uq2RHXfy6-Qt3O43G2GY5950Hiwz20qnWiAPsnXGhALv_FZq7Jl2wNipp7XugM1N09Tl6hLafMv6eHVLbvn44_XECLLuWWQmhoSUTNaoWliXQfF2Hwf9c6CASdr9A-bEUVg=s64",
      "userId": "16059923818223643809"
     },
     "user_tz": -600
    },
    "id": "2ngmNXvOyv2C",
    "outputId": "628a0407-9da8-4cc6-cd26-a558f50d893e"
   },
   "outputs": [
    {
     "data": {
      "image/png": "[encoded data removed]",
      "text/plain": [
       "<Figure size 1296x432 with 2 Axes>"
      ]
     },
     "metadata": {
      "needs_background": "light"
     },
     "output_type": "display_data"
    }
   ],
   "source": [
    "fig, ax = plt.subplots(1, 2, figsize = (18, 6))\n",
    "fig.subplots_adjust(left = 0.02, right = 0.98, wspace = 0.2)\n",
    "\n",
    "plt.rcParams.update({'font.size': 18})\n",
    "\n",
    "# Plot training & validation accuracy values\n",
    "ax[0].plot(history.history['accuracy'])\n",
    "ax[0].plot(history.history['val_accuracy'])\n",
    "ax[0].set_title('Model accuracy')\n",
    "ax[0].set_ylabel('Accuracy')\n",
    "ax[0].set_xlabel('Epoch')\n",
    "ax[0].legend(['Train', 'Validation'])\n",
    "\n",
    "# Plot training & validation loss values\n",
    "ax[1].plot(history.history['loss'])\n",
    "ax[1].plot(history.history['val_loss'])\n",
    "ax[1].set_title('Model loss')\n",
    "ax[1].set_ylabel('Loss')\n",
    "ax[1].set_xlabel('Epoch')\n",
    "ax[1].legend(['Train', 'Validation'])\n",
    "\n",
    "plt.show()"
   ]
  },
  {
   "cell_type": "code",
   "execution_count": 36,
   "metadata": {
    "colab": {},
    "colab_type": "code",
    "executionInfo": {
     "elapsed": 1448,
     "status": "ok",
     "timestamp": 1592962895929,
     "user": {
      "displayName": "Mai Anh Ly",
      "photoUrl": "https://lh3.googleusercontent.com/a-/AOh14GhHHDr2i-2k7G_oBtP5D_dy47lN2H4LvcVbnf3Q80DBnN2jD12-0c5n7NBU7YoSmCeob2Jd_kgFLpbz9TW5y0xddEByz4pQNZiFVh2AmzFWhBrrJv0weJmYZQ6V5CFhV6i-G5cItOOanUIUPeT0RQ-pHrQiaZFT9_EgpVdHnKiZgYSzpqSiUW3VAkRfvb02GbW8k9bfVDyuJMmNXqIvxKwcwFf6SI06U7dgjhbLgQduy3GghafQc24c5LrCSI3UdJxSFb41PptMtvgjBjcYi_c1_6Q8jTYNni7De9m8kyKGKufVE1CCX_5PEVSkbtFxQQf2rWkMPux4b_ldY4fOEsE0ihowcS41dp0_L-NjzIl6O0obQ0D7uZZI-qDxwofrUgwDCAEOjxbcF-38Y9fU4xWY_JpjPhEhVqDDgJ89bX3VCt2lF759mYE476c5sq53UZj5-jNL8HeQgYffXrgWfzJwYdJlutHJhDpYo1jTc6qKez8-amTmZpuvMwPzhhJBtythAvI5tflSQE_PZZ2wtypYvjsWprvBM-JtZs09JXwJTa-Tx5EcjzD5hSItk2ZmOghqvNi9JM9cfmZ5ButVnj1kcATt7x-ibCA-89G7T4vGQ5BrE6mzBgVktF0YQm9Uq2RHXfy6-Qt3O43G2GY5950Hiwz20qnWiAPsnXGhALv_FZq7Jl2wNipp7XugM1N09Tl6hLafMv6eHVLbvn44_XECLLuWWQmhoSUTNaoWliXQfF2Hwf9c6CASdr9A-bEUVg=s64",
      "userId": "16059923818223643809"
     },
     "user_tz": -600
    },
    "id": "r9V0zAzJyv2E"
   },
   "outputs": [],
   "source": [
    "def implot2(im1, im2, id):\n",
    "    t1 = y_test[id].argmax()\n",
    "    t2 = predictions[id]\n",
    "\n",
    "    fig, ax = plt.subplots(1, 2, figsize = (6, 3))\n",
    "    fig.subplots_adjust(left = 0.02, right = 0.98, top = 0.85, wspace = 0.2)\n",
    "    fig.suptitle('Prediction %d' % id, fontsize = 12, fontweight = 'bold')\n",
    "\n",
    "    plt.rcParams.update({'font.size': 10})\n",
    "\n",
    "    # original image\n",
    "    ax[0].imshow(im1, cmap = 'gray')\n",
    "    ax[0].set_title('Original id: %d' % t1)\n",
    "    ax[0].set_xticks([])\n",
    "    ax[0].set_yticks([])\n",
    "\n",
    "    # convoluted image\n",
    "    ax[1].imshow(im2, cmap = 'gray')\n",
    "    ax[1].set_title('Test id: %d' % t2)\n",
    "    ax[1].set_xticks([])\n",
    "    ax[1].set_yticks([])\n",
    "\n",
    "    plt.show()"
   ]
  },
  {
   "cell_type": "code",
   "execution_count": 37,
   "metadata": {
    "colab": {},
    "colab_type": "code",
    "executionInfo": {
     "elapsed": 1534,
     "status": "ok",
     "timestamp": 1592962901282,
     "user": {
      "displayName": "Mai Anh Ly",
      "photoUrl": "https://lh3.googleusercontent.com/a-/AOh14GhHHDr2i-2k7G_oBtP5D_dy47lN2H4LvcVbnf3Q80DBnN2jD12-0c5n7NBU7YoSmCeob2Jd_kgFLpbz9TW5y0xddEByz4pQNZiFVh2AmzFWhBrrJv0weJmYZQ6V5CFhV6i-G5cItOOanUIUPeT0RQ-pHrQiaZFT9_EgpVdHnKiZgYSzpqSiUW3VAkRfvb02GbW8k9bfVDyuJMmNXqIvxKwcwFf6SI06U7dgjhbLgQduy3GghafQc24c5LrCSI3UdJxSFb41PptMtvgjBjcYi_c1_6Q8jTYNni7De9m8kyKGKufVE1CCX_5PEVSkbtFxQQf2rWkMPux4b_ldY4fOEsE0ihowcS41dp0_L-NjzIl6O0obQ0D7uZZI-qDxwofrUgwDCAEOjxbcF-38Y9fU4xWY_JpjPhEhVqDDgJ89bX3VCt2lF759mYE476c5sq53UZj5-jNL8HeQgYffXrgWfzJwYdJlutHJhDpYo1jTc6qKez8-amTmZpuvMwPzhhJBtythAvI5tflSQE_PZZ2wtypYvjsWprvBM-JtZs09JXwJTa-Tx5EcjzD5hSItk2ZmOghqvNi9JM9cfmZ5ButVnj1kcATt7x-ibCA-89G7T4vGQ5BrE6mzBgVktF0YQm9Uq2RHXfy6-Qt3O43G2GY5950Hiwz20qnWiAPsnXGhALv_FZq7Jl2wNipp7XugM1N09Tl6hLafMv6eHVLbvn44_XECLLuWWQmhoSUTNaoWliXQfF2Hwf9c6CASdr9A-bEUVg=s64",
      "userId": "16059923818223643809"
     },
     "user_tz": -600
    },
    "id": "9x2SbfxNyv2G"
   },
   "outputs": [],
   "source": [
    "def pick_test_image(pid):\n",
    "    # pick the prediction\n",
    "    ppid = predictions[pid]\n",
    "    # find the corresponding image\n",
    "    j = -1\n",
    "    for ipid in range(test.shape[0]):\n",
    "        if test[ipid]:\n",
    "            j += 1\n",
    "        if j == pid:\n",
    "            break\n",
    "    return X[ipid].reshape(img_rows, img_cols)"
   ]
  },
  {
   "cell_type": "code",
   "execution_count": 38,
   "metadata": {
    "colab": {},
    "colab_type": "code",
    "executionInfo": {
     "elapsed": 1378,
     "status": "ok",
     "timestamp": 1592962904487,
     "user": {
      "displayName": "Mai Anh Ly",
      "photoUrl": "https://lh3.googleusercontent.com/a-/AOh14GhHHDr2i-2k7G_oBtP5D_dy47lN2H4LvcVbnf3Q80DBnN2jD12-0c5n7NBU7YoSmCeob2Jd_kgFLpbz9TW5y0xddEByz4pQNZiFVh2AmzFWhBrrJv0weJmYZQ6V5CFhV6i-G5cItOOanUIUPeT0RQ-pHrQiaZFT9_EgpVdHnKiZgYSzpqSiUW3VAkRfvb02GbW8k9bfVDyuJMmNXqIvxKwcwFf6SI06U7dgjhbLgQduy3GghafQc24c5LrCSI3UdJxSFb41PptMtvgjBjcYi_c1_6Q8jTYNni7De9m8kyKGKufVE1CCX_5PEVSkbtFxQQf2rWkMPux4b_ldY4fOEsE0ihowcS41dp0_L-NjzIl6O0obQ0D7uZZI-qDxwofrUgwDCAEOjxbcF-38Y9fU4xWY_JpjPhEhVqDDgJ89bX3VCt2lF759mYE476c5sq53UZj5-jNL8HeQgYffXrgWfzJwYdJlutHJhDpYo1jTc6qKez8-amTmZpuvMwPzhhJBtythAvI5tflSQE_PZZ2wtypYvjsWprvBM-JtZs09JXwJTa-Tx5EcjzD5hSItk2ZmOghqvNi9JM9cfmZ5ButVnj1kcATt7x-ibCA-89G7T4vGQ5BrE6mzBgVktF0YQm9Uq2RHXfy6-Qt3O43G2GY5950Hiwz20qnWiAPsnXGhALv_FZq7Jl2wNipp7XugM1N09Tl6hLafMv6eHVLbvn44_XECLLuWWQmhoSUTNaoWliXQfF2Hwf9c6CASdr9A-bEUVg=s64",
      "userId": "16059923818223643809"
     },
     "user_tz": -600
    },
    "id": "PWkU7UEGyv2J"
   },
   "outputs": [],
   "source": [
    "def pick_train_image(ppid):\n",
    "    oid = np.array([a.argmax() == ppid for a in y_train]).argmax()\n",
    "    poid = y_train[oid].argmax()\n",
    "    j = -1\n",
    "    for ioid in range(train.shape[0]):\n",
    "        if train[ioid]:\n",
    "            j += 1\n",
    "        if j == oid:\n",
    "            break\n",
    "    return X[ioid].reshape(img_rows, img_cols)"
   ]
  },
  {
   "cell_type": "code",
   "execution_count": 39,
   "metadata": {
    "colab": {},
    "colab_type": "code",
    "executionInfo": {
     "elapsed": 1381,
     "status": "ok",
     "timestamp": 1592962909058,
     "user": {
      "displayName": "Mai Anh Ly",
      "photoUrl": "https://lh3.googleusercontent.com/a-/AOh14GhHHDr2i-2k7G_oBtP5D_dy47lN2H4LvcVbnf3Q80DBnN2jD12-0c5n7NBU7YoSmCeob2Jd_kgFLpbz9TW5y0xddEByz4pQNZiFVh2AmzFWhBrrJv0weJmYZQ6V5CFhV6i-G5cItOOanUIUPeT0RQ-pHrQiaZFT9_EgpVdHnKiZgYSzpqSiUW3VAkRfvb02GbW8k9bfVDyuJMmNXqIvxKwcwFf6SI06U7dgjhbLgQduy3GghafQc24c5LrCSI3UdJxSFb41PptMtvgjBjcYi_c1_6Q8jTYNni7De9m8kyKGKufVE1CCX_5PEVSkbtFxQQf2rWkMPux4b_ldY4fOEsE0ihowcS41dp0_L-NjzIl6O0obQ0D7uZZI-qDxwofrUgwDCAEOjxbcF-38Y9fU4xWY_JpjPhEhVqDDgJ89bX3VCt2lF759mYE476c5sq53UZj5-jNL8HeQgYffXrgWfzJwYdJlutHJhDpYo1jTc6qKez8-amTmZpuvMwPzhhJBtythAvI5tflSQE_PZZ2wtypYvjsWprvBM-JtZs09JXwJTa-Tx5EcjzD5hSItk2ZmOghqvNi9JM9cfmZ5ButVnj1kcATt7x-ibCA-89G7T4vGQ5BrE6mzBgVktF0YQm9Uq2RHXfy6-Qt3O43G2GY5950Hiwz20qnWiAPsnXGhALv_FZq7Jl2wNipp7XugM1N09Tl6hLafMv6eHVLbvn44_XECLLuWWQmhoSUTNaoWliXQfF2Hwf9c6CASdr9A-bEUVg=s64",
      "userId": "16059923818223643809"
     },
     "user_tz": -600
    },
    "id": "xEnS6712yv2K"
   },
   "outputs": [],
   "source": [
    "def compare_images(id):\n",
    "    XTest = pick_test_image(id)\n",
    "    XTrain = pick_train_image(predictions[id])\n",
    "    implot2(XTrain, XTest, id)"
   ]
  },
  {
   "cell_type": "code",
   "execution_count": 40,
   "metadata": {
    "colab": {
     "base_uri": "https://localhost:8080/",
     "height": 219
    },
    "colab_type": "code",
    "executionInfo": {
     "elapsed": 1969,
     "status": "ok",
     "timestamp": 1592962915561,
     "user": {
      "displayName": "Mai Anh Ly",
      "photoUrl": "https://lh3.googleusercontent.com/a-/AOh14GhHHDr2i-2k7G_oBtP5D_dy47lN2H4LvcVbnf3Q80DBnN2jD12-0c5n7NBU7YoSmCeob2Jd_kgFLpbz9TW5y0xddEByz4pQNZiFVh2AmzFWhBrrJv0weJmYZQ6V5CFhV6i-G5cItOOanUIUPeT0RQ-pHrQiaZFT9_EgpVdHnKiZgYSzpqSiUW3VAkRfvb02GbW8k9bfVDyuJMmNXqIvxKwcwFf6SI06U7dgjhbLgQduy3GghafQc24c5LrCSI3UdJxSFb41PptMtvgjBjcYi_c1_6Q8jTYNni7De9m8kyKGKufVE1CCX_5PEVSkbtFxQQf2rWkMPux4b_ldY4fOEsE0ihowcS41dp0_L-NjzIl6O0obQ0D7uZZI-qDxwofrUgwDCAEOjxbcF-38Y9fU4xWY_JpjPhEhVqDDgJ89bX3VCt2lF759mYE476c5sq53UZj5-jNL8HeQgYffXrgWfzJwYdJlutHJhDpYo1jTc6qKez8-amTmZpuvMwPzhhJBtythAvI5tflSQE_PZZ2wtypYvjsWprvBM-JtZs09JXwJTa-Tx5EcjzD5hSItk2ZmOghqvNi9JM9cfmZ5ButVnj1kcATt7x-ibCA-89G7T4vGQ5BrE6mzBgVktF0YQm9Uq2RHXfy6-Qt3O43G2GY5950Hiwz20qnWiAPsnXGhALv_FZq7Jl2wNipp7XugM1N09Tl6hLafMv6eHVLbvn44_XECLLuWWQmhoSUTNaoWliXQfF2Hwf9c6CASdr9A-bEUVg=s64",
      "userId": "16059923818223643809"
     },
     "user_tz": -600
    },
    "id": "ZEUyv-UAyv2M",
    "outputId": "b8a78c4b-fd59-4bc4-d173-a862577adbac"
   },
   "outputs": [
    {
     "ename": "TypeError",
     "evalue": "%d format: a number is required, not numpy.ndarray",
     "output_type": "error",
     "traceback": [
      "\u001b[1;31m---------------------------------------------------------------------------\u001b[0m",
      "\u001b[1;31mTypeError\u001b[0m                                 Traceback (most recent call last)",
      "Input \u001b[1;32mIn [40]\u001b[0m, in \u001b[0;36m<module>\u001b[1;34m\u001b[0m\n\u001b[0;32m      1\u001b[0m \u001b[38;5;66;03m# compare one\u001b[39;00m\n\u001b[0;32m      2\u001b[0m \u001b[38;5;28mid\u001b[39m \u001b[38;5;241m=\u001b[39m np\u001b[38;5;241m.\u001b[39mrandom\u001b[38;5;241m.\u001b[39mrandint(\u001b[38;5;28mlen\u001b[39m(predictions))\n\u001b[1;32m----> 3\u001b[0m \u001b[43mcompare_images\u001b[49m\u001b[43m(\u001b[49m\u001b[38;5;28;43mid\u001b[39;49m\u001b[43m)\u001b[49m\n",
      "Input \u001b[1;32mIn [39]\u001b[0m, in \u001b[0;36mcompare_images\u001b[1;34m(id)\u001b[0m\n\u001b[0;32m      2\u001b[0m XTest \u001b[38;5;241m=\u001b[39m pick_test_image(\u001b[38;5;28mid\u001b[39m)\n\u001b[0;32m      3\u001b[0m XTrain \u001b[38;5;241m=\u001b[39m pick_train_image(predictions[\u001b[38;5;28mid\u001b[39m])\n\u001b[1;32m----> 4\u001b[0m \u001b[43mimplot2\u001b[49m\u001b[43m(\u001b[49m\u001b[43mXTrain\u001b[49m\u001b[43m,\u001b[49m\u001b[43m \u001b[49m\u001b[43mXTest\u001b[49m\u001b[43m,\u001b[49m\u001b[43m \u001b[49m\u001b[38;5;28;43mid\u001b[39;49m\u001b[43m)\u001b[49m\n",
      "Input \u001b[1;32mIn [36]\u001b[0m, in \u001b[0;36mimplot2\u001b[1;34m(im1, im2, id)\u001b[0m\n\u001b[0;32m     17\u001b[0m \u001b[38;5;66;03m# convoluted image\u001b[39;00m\n\u001b[0;32m     18\u001b[0m ax[\u001b[38;5;241m1\u001b[39m]\u001b[38;5;241m.\u001b[39mimshow(im2, cmap \u001b[38;5;241m=\u001b[39m \u001b[38;5;124m'\u001b[39m\u001b[38;5;124mgray\u001b[39m\u001b[38;5;124m'\u001b[39m)\n\u001b[1;32m---> 19\u001b[0m ax[\u001b[38;5;241m1\u001b[39m]\u001b[38;5;241m.\u001b[39mset_title(\u001b[38;5;124;43m'\u001b[39;49m\u001b[38;5;124;43mTest id: \u001b[39;49m\u001b[38;5;132;43;01m%d\u001b[39;49;00m\u001b[38;5;124;43m'\u001b[39;49m\u001b[43m \u001b[49m\u001b[38;5;241;43m%\u001b[39;49m\u001b[43m \u001b[49m\u001b[43mt2\u001b[49m)\n\u001b[0;32m     20\u001b[0m ax[\u001b[38;5;241m1\u001b[39m]\u001b[38;5;241m.\u001b[39mset_xticks([])\n\u001b[0;32m     21\u001b[0m ax[\u001b[38;5;241m1\u001b[39m]\u001b[38;5;241m.\u001b[39mset_yticks([])\n",
      "\u001b[1;31mTypeError\u001b[0m: %d format: a number is required, not numpy.ndarray"
     ]
    },
    {
     "data": {
      "image/png": "[encoded data removed]",
      "text/plain": [
       "<Figure size 432x216 with 2 Axes>"
      ]
     },
     "metadata": {
      "needs_background": "light"
     },
     "output_type": "display_data"
    }
   ],
   "source": [
    "# compare one\n",
    "id = np.random.randint(len(predictions))\n",
    "compare_images(id)"
   ]
  },
  {
   "cell_type": "code",
   "execution_count": null,
   "metadata": {
    "colab": {
     "base_uri": "https://localhost:8080/",
     "height": 1000
    },
    "colab_type": "code",
    "executionInfo": {
     "elapsed": 4374,
     "status": "ok",
     "timestamp": 1592962924006,
     "user": {
      "displayName": "Mai Anh Ly",
      "photoUrl": "https://lh3.googleusercontent.com/a-/AOh14GhHHDr2i-2k7G_oBtP5D_dy47lN2H4LvcVbnf3Q80DBnN2jD12-0c5n7NBU7YoSmCeob2Jd_kgFLpbz9TW5y0xddEByz4pQNZiFVh2AmzFWhBrrJv0weJmYZQ6V5CFhV6i-G5cItOOanUIUPeT0RQ-pHrQiaZFT9_EgpVdHnKiZgYSzpqSiUW3VAkRfvb02GbW8k9bfVDyuJMmNXqIvxKwcwFf6SI06U7dgjhbLgQduy3GghafQc24c5LrCSI3UdJxSFb41PptMtvgjBjcYi_c1_6Q8jTYNni7De9m8kyKGKufVE1CCX_5PEVSkbtFxQQf2rWkMPux4b_ldY4fOEsE0ihowcS41dp0_L-NjzIl6O0obQ0D7uZZI-qDxwofrUgwDCAEOjxbcF-38Y9fU4xWY_JpjPhEhVqDDgJ89bX3VCt2lF759mYE476c5sq53UZj5-jNL8HeQgYffXrgWfzJwYdJlutHJhDpYo1jTc6qKez8-amTmZpuvMwPzhhJBtythAvI5tflSQE_PZZ2wtypYvjsWprvBM-JtZs09JXwJTa-Tx5EcjzD5hSItk2ZmOghqvNi9JM9cfmZ5ButVnj1kcATt7x-ibCA-89G7T4vGQ5BrE6mzBgVktF0YQm9Uq2RHXfy6-Qt3O43G2GY5950Hiwz20qnWiAPsnXGhALv_FZq7Jl2wNipp7XugM1N09Tl6hLafMv6eHVLbvn44_XECLLuWWQmhoSUTNaoWliXQfF2Hwf9c6CASdr9A-bEUVg=s64",
      "userId": "16059923818223643809"
     },
     "user_tz": -600
    },
    "id": "_o2EPD7syv2N",
    "outputId": "5504d5b6-a076-4c99-af23-8651a38fb1e5"
   },
   "outputs": [],
   "source": [
    "# compare ten\n",
    "ids = np.random.randint(len(predictions), size = 10)\n",
    "for id in ids:\n",
    "    compare_images(id)"
   ]
  },
  {
   "cell_type": "markdown",
   "metadata": {
    "colab_type": "text",
    "id": "IS5Tc4z9FoYy"
   },
   "source": [
    ">"
   ]
  },
  {
   "cell_type": "markdown",
   "metadata": {
    "colab_type": "text",
    "id": "RERADKgNFq9T"
   },
   "source": [
    "\n",
    "\n",
    "---\n",
    "\n",
    "\n",
    "\n",
    "---\n",
    "\n",
    "\n",
    "\n",
    "> > > > > > > > > © 2021 Institute of Data\n",
    "\n",
    "\n",
    "---\n",
    "\n",
    "\n",
    "\n",
    "---\n",
    "\n",
    "\n",
    "\n"
   ]
  },
  {
   "cell_type": "code",
   "execution_count": null,
   "metadata": {},
   "outputs": [],
   "source": []
  }
 ],
 "metadata": {
  "accelerator": "GPU",
  "colab": {
   "collapsed_sections": [],
   "name": "IOD_Demo-10-Keras_CNNs.ipynb",
   "provenance": []
  },
  "kernelspec": {
   "display_name": "Python 3 (ipykernel)",
   "language": "python",
   "name": "python3"
  },
  "language_info": {
   "codemirror_mode": {
    "name": "ipython",
    "version": 3
   },
   "file_extension": ".py",
   "mimetype": "text/x-python",
   "name": "python",
   "nbconvert_exporter": "python",
   "pygments_lexer": "ipython3",
   "version": "3.9.7"
  }
 },
 "nbformat": 4,
 "nbformat_minor": 4
}
