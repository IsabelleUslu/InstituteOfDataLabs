{
 "cells": [
  {
   "cell_type": "markdown",
   "metadata": {
    "id": "26KthBFty-QG"
   },
   "source": [
    "<div>\n",
    "<img src=https://www.institutedata.com/wp-content/uploads/2019/10/iod_h_tp_primary_c.svg width=\"300\">\n",
    "</div>"
   ]
  },
  {
   "cell_type": "markdown",
   "metadata": {
    "id": "W5NydEUxy-QJ"
   },
   "source": [
    "# Demo: NN with Keras\n",
    "INSTRUCTIONS:\n",
    "- Run the cells\n",
    "- Observe and understand the results\n",
    "- Answer the questions"
   ]
  },
  {
   "cell_type": "markdown",
   "metadata": {
    "id": "9n746euhy-QN"
   },
   "source": [
    "## Written digits classification with Keras"
   ]
  },
  {
   "cell_type": "code",
   "execution_count": 1,
   "metadata": {
    "colab": {
     "base_uri": "https://localhost:8080/",
     "height": 34
    },
    "executionInfo": {
     "elapsed": 2928,
     "status": "ok",
     "timestamp": 1592824749653,
     "user": {
      "displayName": "Mai Anh Ly",
      "photoUrl": "https://lh3.googleusercontent.com/a-/AOh14Gj3m3ePWBwBFT7szOlaK8W7lylc_ZnY93J_HKbY5EYiLuSsLy7FtOhGAmfpk-co2FX3NdvOSoUHAjcKyRo5fYAxzXGwBuB_Scz8EEoI0Sd99Sg0jA2hPKbGGL6l3OXXH3RcebQAVwm8daKZ2HaryKtOGaYPEs9Xm4WwmZilYvP12BkymjKBBw7wXJMbb_FMuYXiSJ7kmY0DWt455ZoAKqVSJa8qwbs2DTI_8qb-mnSxDEsvUDfWP5HYXMJ0-_ZkGM3e4Ar7WqqeTz_ra4LyeKayfg3WeqVtxylbHQIDlD2SoYjxZBk1F9dK1eYMhV9norQqhOu7Vd-ye50GdIbvJT8-QvhH3mj6uskBTzXPrA1fEo302QbdbXAVY3r8PvhwuUw4aJtvHHsk37YZNZ36XzswOyKGtKP7YQr9nItYSOQ8ZmWzlJojcN0uHH1RFCoshmE-ncc5Vf8-0LXicZIQp4x8HCIVH93zt4_P9E3PyrYf5mw9oOzmxcBIX3u9yuRv_K3-XV9oUJTZRFCBOqP3phE4KUy_Hwn2ZSv0cfUiuFz5XpPAjvO6hYAsZTayx4_Tr-REFcps30D5U05ItXMetcHTu4JM9Yvg624ZAgWv6NZ526HoOcOja57kG4pX8lmBpLnL6r9bb7PolwB2hpZuZ1Ma4wzL6EG3xNS9VJzMmyN0nZTqf_05jxnnn0wsvqcUAhRqK9PbPxfieRzYPTE20QrMG6gxUrSZ9PDWIMEm5YAYgZb7dZU7_k51mccLXc2mEA=s64",
      "userId": "16059923818223643809"
     },
     "user_tz": -600
    },
    "id": "hJgb9UC1y-QQ",
    "outputId": "a21eacbd-ae6c-4e7d-dd78-d9ea165fbbb9"
   },
   "outputs": [],
   "source": [
    "## Import libraries\n",
    "import numpy as np\n",
    "import pandas as pd\n",
    "\n",
    "%matplotlib inline\n",
    "import matplotlib.pyplot as plt\n",
    "\n",
    "from sklearn.datasets import load_digits\n",
    "from sklearn.metrics import confusion_matrix\n",
    "from sklearn.model_selection import train_test_split\n",
    "\n",
    "import keras\n",
    "import tensorflow as tf\n",
    "from keras.models import Sequential\n",
    "from keras.layers import Dense\n",
    "from tensorflow.keras.utils import to_categorical"
   ]
  },
  {
   "cell_type": "code",
   "execution_count": 2,
   "metadata": {
    "id": "0tQuyTyyy-QZ"
   },
   "outputs": [],
   "source": [
    "# The digits dataset\n",
    "digits = load_digits()"
   ]
  },
  {
   "cell_type": "code",
   "execution_count": 3,
   "metadata": {
    "colab": {
     "base_uri": "https://localhost:8080/",
     "height": 826
    },
    "executionInfo": {
     "elapsed": 937,
     "status": "ok",
     "timestamp": 1592824754743,
     "user": {
      "displayName": "Mai Anh Ly",
      "photoUrl": "https://lh3.googleusercontent.com/a-/AOh14Gj3m3ePWBwBFT7szOlaK8W7lylc_ZnY93J_HKbY5EYiLuSsLy7FtOhGAmfpk-co2FX3NdvOSoUHAjcKyRo5fYAxzXGwBuB_Scz8EEoI0Sd99Sg0jA2hPKbGGL6l3OXXH3RcebQAVwm8daKZ2HaryKtOGaYPEs9Xm4WwmZilYvP12BkymjKBBw7wXJMbb_FMuYXiSJ7kmY0DWt455ZoAKqVSJa8qwbs2DTI_8qb-mnSxDEsvUDfWP5HYXMJ0-_ZkGM3e4Ar7WqqeTz_ra4LyeKayfg3WeqVtxylbHQIDlD2SoYjxZBk1F9dK1eYMhV9norQqhOu7Vd-ye50GdIbvJT8-QvhH3mj6uskBTzXPrA1fEo302QbdbXAVY3r8PvhwuUw4aJtvHHsk37YZNZ36XzswOyKGtKP7YQr9nItYSOQ8ZmWzlJojcN0uHH1RFCoshmE-ncc5Vf8-0LXicZIQp4x8HCIVH93zt4_P9E3PyrYf5mw9oOzmxcBIX3u9yuRv_K3-XV9oUJTZRFCBOqP3phE4KUy_Hwn2ZSv0cfUiuFz5XpPAjvO6hYAsZTayx4_Tr-REFcps30D5U05ItXMetcHTu4JM9Yvg624ZAgWv6NZ526HoOcOja57kG4pX8lmBpLnL6r9bb7PolwB2hpZuZ1Ma4wzL6EG3xNS9VJzMmyN0nZTqf_05jxnnn0wsvqcUAhRqK9PbPxfieRzYPTE20QrMG6gxUrSZ9PDWIMEm5YAYgZb7dZU7_k51mccLXc2mEA=s64",
      "userId": "16059923818223643809"
     },
     "user_tz": -600
    },
    "id": "Zn2DiwPXy-Qd",
    "outputId": "35034698-a503-4771-8176-a6a24a2aa06d"
   },
   "outputs": [
    {
     "name": "stdout",
     "output_type": "stream",
     "text": [
      ".. _digits_dataset:\n",
      "\n",
      "Optical recognition of handwritten digits dataset\n",
      "--------------------------------------------------\n",
      "\n",
      "**Data Set Characteristics:**\n",
      "\n",
      "    :Number of Instances: 1797\n",
      "    :Number of Attributes: 64\n",
      "    :Attribute Information: 8x8 image of integer pixels in the range 0..16.\n",
      "    :Missing Attribute Values: None\n",
      "    :Creator: E. Alpaydin (alpaydin '@' boun.edu.tr)\n",
      "    :Date: July; 1998\n",
      "\n",
      "This is a copy of the test set of the UCI ML hand-written digits datasets\n",
      "https://archive.ics.uci.edu/ml/datasets/Optical+Recognition+of+Handwritten+Digits\n",
      "\n",
      "The data set contains images of hand-written digits: 10 classes where\n",
      "each class refers to a digit.\n",
      "\n",
      "Preprocessing programs made available by NIST were used to extract\n",
      "normalized bitmaps of handwritten digits from a preprinted form. From a\n",
      "total of 43 people, 30 contributed to the training set and different 13\n",
      "to the test set. 32x32 bitmaps are divided into nonoverlapping blocks of\n",
      "4x4 and the number of on pixels are counted in each block. This generates\n",
      "an input matrix of 8x8 where each element is an integer in the range\n",
      "0..16. This reduces dimensionality and gives invariance to small\n",
      "distortions.\n",
      "\n",
      "For info on NIST preprocessing routines, see M. D. Garris, J. L. Blue, G.\n",
      "T. Candela, D. L. Dimmick, J. Geist, P. J. Grother, S. A. Janet, and C.\n",
      "L. Wilson, NIST Form-Based Handprint Recognition System, NISTIR 5469,\n",
      "1994.\n",
      "\n",
      ".. topic:: References\n",
      "\n",
      "  - C. Kaynak (1995) Methods of Combining Multiple Classifiers and Their\n",
      "    Applications to Handwritten Digit Recognition, MSc Thesis, Institute of\n",
      "    Graduate Studies in Science and Engineering, Bogazici University.\n",
      "  - E. Alpaydin, C. Kaynak (1998) Cascading Classifiers, Kybernetika.\n",
      "  - Ken Tang and Ponnuthurai N. Suganthan and Xi Yao and A. Kai Qin.\n",
      "    Linear dimensionalityreduction using relevance weighted LDA. School of\n",
      "    Electrical and Electronic Engineering Nanyang Technological University.\n",
      "    2005.\n",
      "  - Claudio Gentile. A New Approximate Maximal Margin Classification\n",
      "    Algorithm. NIPS. 2000.\n",
      "\n"
     ]
    }
   ],
   "source": [
    "print(digits.DESCR)"
   ]
  },
  {
   "cell_type": "code",
   "execution_count": 4,
   "metadata": {
    "colab": {
     "base_uri": "https://localhost:8080/",
     "height": 147
    },
    "executionInfo": {
     "elapsed": 670,
     "status": "ok",
     "timestamp": 1560987197507,
     "user": {
      "displayName": "Ibrahim Faisal",
      "photoUrl": "https://lh3.googleusercontent.com/-67DMczu7rgM/AAAAAAAAAAI/AAAAAAAAAAc/6f5FCnBgxFs/s64/photo.jpg",
      "userId": "02685917636347920688"
     },
     "user_tz": -600
    },
    "id": "oi5lOrDYy-Qh",
    "outputId": "2efb7206-c6e1-4070-d8f5-57b76ffeea7c"
   },
   "outputs": [
    {
     "data": {
      "image/png": "[encoded data removed]",
      "text/plain": [
       "<Figure size 144x144 with 1 Axes>"
      ]
     },
     "metadata": {},
     "output_type": "display_data"
    }
   ],
   "source": [
    "id = np.random.randint(len(digits.target))\n",
    "plt.figure(figsize = (2, 2))\n",
    "plt.imshow(digits.images[id], cmap = 'gray')\n",
    "plt.xticks([])\n",
    "plt.yticks([])\n",
    "plt.show()"
   ]
  },
  {
   "cell_type": "code",
   "execution_count": 5,
   "metadata": {
    "id": "k-Wu4bQJy-Ql"
   },
   "outputs": [],
   "source": [
    "# Prepare input data\n",
    "# input\n",
    "#X = digits.data.astype(np.uint8)\n",
    "#n_cols = X.shape[1]\n",
    "\n",
    "# output\n",
    "#target = digits.target.astype(np.uint8)\n",
    "\n",
    "# Convert the target to categorical\n",
    "#y = to_categorical(\n",
    "    #target,\n",
    "    #num_classes = len(set(target)),\n",
    "    #dtype = 'uint8')"
   ]
  },
  {
   "cell_type": "code",
   "execution_count": 25,
   "metadata": {},
   "outputs": [],
   "source": [
    "X = digits.data.astype('float32')\n",
    "n_cols = X.shape[1]\n",
    "\n",
    "target = digits.target.astype('float32')\n",
    "\n",
    "y = to_categorical(target, num_classes = len(set(target)),dtype = 'uint8')"
   ]
  },
  {
   "cell_type": "code",
   "execution_count": 26,
   "metadata": {},
   "outputs": [
    {
     "data": {
      "text/plain": [
       "dtype('float32')"
      ]
     },
     "execution_count": 26,
     "metadata": {},
     "output_type": "execute_result"
    }
   ],
   "source": [
    "target.dtype"
   ]
  },
  {
   "cell_type": "code",
   "execution_count": 27,
   "metadata": {},
   "outputs": [
    {
     "data": {
      "text/plain": [
       "dtype('uint8')"
      ]
     },
     "execution_count": 27,
     "metadata": {},
     "output_type": "execute_result"
    }
   ],
   "source": [
    "y.dtype"
   ]
  },
  {
   "cell_type": "code",
   "execution_count": 28,
   "metadata": {},
   "outputs": [],
   "source": [
    "#y.unique()"
   ]
  },
  {
   "cell_type": "code",
   "execution_count": 29,
   "metadata": {
    "id": "nBFFtaWcy-Qo"
   },
   "outputs": [],
   "source": [
    "X_train, X_test, y_train, y_test = train_test_split(\n",
    "    X, y, \n",
    "    test_size = 0.3,\n",
    "    random_state = 65)"
   ]
  },
  {
   "cell_type": "code",
   "execution_count": 30,
   "metadata": {
    "id": "aKrm9Miqy-Qq"
   },
   "outputs": [],
   "source": [
    "# Set up the model architecture\n",
    "model = Sequential()"
   ]
  },
  {
   "cell_type": "code",
   "execution_count": 31,
   "metadata": {
    "id": "KC9AVmkFy-Qr"
   },
   "outputs": [],
   "source": [
    "# Add the first hidden layer\n",
    "model.add(Dense(100, activation = 'relu', input_shape = (n_cols, )))\n",
    "# Add the second hidden layer\n",
    "model.add(Dense(50, activation = 'relu'))\n",
    "\n",
    "# Add the output layer\n",
    "model.add(Dense(10, activation = 'softmax'))"
   ]
  },
  {
   "cell_type": "code",
   "execution_count": 32,
   "metadata": {
    "colab": {
     "base_uri": "https://localhost:8080/",
     "height": 281
    },
    "executionInfo": {
     "elapsed": 3737,
     "status": "ok",
     "timestamp": 1592825439619,
     "user": {
      "displayName": "Mai Anh Ly",
      "photoUrl": "https://lh3.googleusercontent.com/a-/AOh14Gj3m3ePWBwBFT7szOlaK8W7lylc_ZnY93J_HKbY5EYiLuSsLy7FtOhGAmfpk-co2FX3NdvOSoUHAjcKyRo5fYAxzXGwBuB_Scz8EEoI0Sd99Sg0jA2hPKbGGL6l3OXXH3RcebQAVwm8daKZ2HaryKtOGaYPEs9Xm4WwmZilYvP12BkymjKBBw7wXJMbb_FMuYXiSJ7kmY0DWt455ZoAKqVSJa8qwbs2DTI_8qb-mnSxDEsvUDfWP5HYXMJ0-_ZkGM3e4Ar7WqqeTz_ra4LyeKayfg3WeqVtxylbHQIDlD2SoYjxZBk1F9dK1eYMhV9norQqhOu7Vd-ye50GdIbvJT8-QvhH3mj6uskBTzXPrA1fEo302QbdbXAVY3r8PvhwuUw4aJtvHHsk37YZNZ36XzswOyKGtKP7YQr9nItYSOQ8ZmWzlJojcN0uHH1RFCoshmE-ncc5Vf8-0LXicZIQp4x8HCIVH93zt4_P9E3PyrYf5mw9oOzmxcBIX3u9yuRv_K3-XV9oUJTZRFCBOqP3phE4KUy_Hwn2ZSv0cfUiuFz5XpPAjvO6hYAsZTayx4_Tr-REFcps30D5U05ItXMetcHTu4JM9Yvg624ZAgWv6NZ526HoOcOja57kG4pX8lmBpLnL6r9bb7PolwB2hpZuZ1Ma4wzL6EG3xNS9VJzMmyN0nZTqf_05jxnnn0wsvqcUAhRqK9PbPxfieRzYPTE20QrMG6gxUrSZ9PDWIMEm5YAYgZb7dZU7_k51mccLXc2mEA=s64",
      "userId": "16059923818223643809"
     },
     "user_tz": -600
    },
    "id": "05KgUEX8y-Qt",
    "outputId": "eb02ea89-956b-466a-913f-3904294686b4"
   },
   "outputs": [
    {
     "name": "stdout",
     "output_type": "stream",
     "text": [
      "Model: \"sequential_1\"\n",
      "_________________________________________________________________\n",
      "Layer (type)                 Output Shape              Param #   \n",
      "=================================================================\n",
      "dense_3 (Dense)              (None, 100)               6500      \n",
      "_________________________________________________________________\n",
      "dense_4 (Dense)              (None, 50)                5050      \n",
      "_________________________________________________________________\n",
      "dense_5 (Dense)              (None, 10)                510       \n",
      "=================================================================\n",
      "Total params: 12,060\n",
      "Trainable params: 12,060\n",
      "Non-trainable params: 0\n",
      "_________________________________________________________________\n",
      "None\n"
     ]
    }
   ],
   "source": [
    "print(model.summary())"
   ]
  },
  {
   "cell_type": "code",
   "execution_count": 33,
   "metadata": {
    "id": "4eu9O-5Xy-Qv"
   },
   "outputs": [],
   "source": [
    "# Compile the model\n",
    "model.compile(\n",
    "    optimizer = 'adam',\n",
    "    loss = 'categorical_crossentropy',\n",
    "    metrics = ['accuracy'])"
   ]
  },
  {
   "cell_type": "code",
   "execution_count": 34,
   "metadata": {
    "colab": {
     "base_uri": "https://localhost:8080/",
     "height": 1000
    },
    "executionInfo": {
     "elapsed": 20827,
     "status": "ok",
     "timestamp": 1592825467331,
     "user": {
      "displayName": "Mai Anh Ly",
      "photoUrl": "https://lh3.googleusercontent.com/a-/AOh14Gj3m3ePWBwBFT7szOlaK8W7lylc_ZnY93J_HKbY5EYiLuSsLy7FtOhGAmfpk-co2FX3NdvOSoUHAjcKyRo5fYAxzXGwBuB_Scz8EEoI0Sd99Sg0jA2hPKbGGL6l3OXXH3RcebQAVwm8daKZ2HaryKtOGaYPEs9Xm4WwmZilYvP12BkymjKBBw7wXJMbb_FMuYXiSJ7kmY0DWt455ZoAKqVSJa8qwbs2DTI_8qb-mnSxDEsvUDfWP5HYXMJ0-_ZkGM3e4Ar7WqqeTz_ra4LyeKayfg3WeqVtxylbHQIDlD2SoYjxZBk1F9dK1eYMhV9norQqhOu7Vd-ye50GdIbvJT8-QvhH3mj6uskBTzXPrA1fEo302QbdbXAVY3r8PvhwuUw4aJtvHHsk37YZNZ36XzswOyKGtKP7YQr9nItYSOQ8ZmWzlJojcN0uHH1RFCoshmE-ncc5Vf8-0LXicZIQp4x8HCIVH93zt4_P9E3PyrYf5mw9oOzmxcBIX3u9yuRv_K3-XV9oUJTZRFCBOqP3phE4KUy_Hwn2ZSv0cfUiuFz5XpPAjvO6hYAsZTayx4_Tr-REFcps30D5U05ItXMetcHTu4JM9Yvg624ZAgWv6NZ526HoOcOja57kG4pX8lmBpLnL6r9bb7PolwB2hpZuZ1Ma4wzL6EG3xNS9VJzMmyN0nZTqf_05jxnnn0wsvqcUAhRqK9PbPxfieRzYPTE20QrMG6gxUrSZ9PDWIMEm5YAYgZb7dZU7_k51mccLXc2mEA=s64",
      "userId": "16059923818223643809"
     },
     "user_tz": -600
    },
    "id": "DSnIhJ0My-Qw",
    "outputId": "26c418d2-14a1-43b2-de47-f64e320dbcb9"
   },
   "outputs": [
    {
     "name": "stdout",
     "output_type": "stream",
     "text": [
      "Epoch 1/100\n",
      "48/48 [==============================] - 1s 5ms/step - loss: 2.0172 - accuracy: 0.5064 - val_loss: 0.6751 - val_accuracy: 0.7841\n",
      "Epoch 2/100\n",
      "48/48 [==============================] - 0s 1ms/step - loss: 0.3909 - accuracy: 0.8907 - val_loss: 0.3729 - val_accuracy: 0.8984\n",
      "Epoch 3/100\n",
      "48/48 [==============================] - 0s 1ms/step - loss: 0.1877 - accuracy: 0.9490 - val_loss: 0.2805 - val_accuracy: 0.9079\n",
      "Epoch 4/100\n",
      "48/48 [==============================] - 0s 1ms/step - loss: 0.1132 - accuracy: 0.9777 - val_loss: 0.2444 - val_accuracy: 0.9206\n",
      "Epoch 5/100\n",
      "48/48 [==============================] - 0s 1ms/step - loss: 0.0825 - accuracy: 0.9851 - val_loss: 0.2157 - val_accuracy: 0.9397\n",
      "Epoch 6/100\n",
      "48/48 [==============================] - 0s 1ms/step - loss: 0.0612 - accuracy: 0.9904 - val_loss: 0.2159 - val_accuracy: 0.9333\n",
      "Epoch 7/100\n",
      "48/48 [==============================] - 0s 1ms/step - loss: 0.0451 - accuracy: 0.9968 - val_loss: 0.2181 - val_accuracy: 0.9365\n",
      "Epoch 8/100\n",
      "48/48 [==============================] - 0s 1ms/step - loss: 0.0377 - accuracy: 0.9947 - val_loss: 0.1870 - val_accuracy: 0.9460\n",
      "Epoch 9/100\n",
      "48/48 [==============================] - 0s 1ms/step - loss: 0.0297 - accuracy: 0.9968 - val_loss: 0.2001 - val_accuracy: 0.9460\n",
      "Epoch 10/100\n",
      "48/48 [==============================] - 0s 1ms/step - loss: 0.0224 - accuracy: 0.9968 - val_loss: 0.1852 - val_accuracy: 0.9587\n",
      "Epoch 11/100\n",
      "48/48 [==============================] - 0s 1ms/step - loss: 0.0181 - accuracy: 0.9989 - val_loss: 0.1928 - val_accuracy: 0.9524\n",
      "Epoch 12/100\n",
      "48/48 [==============================] - 0s 1ms/step - loss: 0.0144 - accuracy: 0.9989 - val_loss: 0.1724 - val_accuracy: 0.9397\n",
      "Epoch 13/100\n",
      "48/48 [==============================] - 0s 2ms/step - loss: 0.0145 - accuracy: 0.9989 - val_loss: 0.1904 - val_accuracy: 0.9429\n",
      "Epoch 14/100\n",
      "48/48 [==============================] - 0s 1ms/step - loss: 0.0106 - accuracy: 1.0000 - val_loss: 0.1711 - val_accuracy: 0.9556\n",
      "Epoch 15/100\n",
      "48/48 [==============================] - 0s 1ms/step - loss: 0.0095 - accuracy: 1.0000 - val_loss: 0.1634 - val_accuracy: 0.9492\n",
      "Epoch 16/100\n",
      "48/48 [==============================] - 0s 1ms/step - loss: 0.0084 - accuracy: 1.0000 - val_loss: 0.1683 - val_accuracy: 0.9524\n",
      "Epoch 17/100\n",
      "48/48 [==============================] - 0s 1ms/step - loss: 0.0074 - accuracy: 1.0000 - val_loss: 0.1785 - val_accuracy: 0.9587\n",
      "Epoch 18/100\n",
      "48/48 [==============================] - 0s 1ms/step - loss: 0.0058 - accuracy: 1.0000 - val_loss: 0.1655 - val_accuracy: 0.9524\n",
      "Epoch 19/100\n",
      "48/48 [==============================] - 0s 1ms/step - loss: 0.0053 - accuracy: 1.0000 - val_loss: 0.1684 - val_accuracy: 0.9556\n",
      "Epoch 20/100\n",
      "48/48 [==============================] - 0s 1ms/step - loss: 0.0045 - accuracy: 1.0000 - val_loss: 0.1767 - val_accuracy: 0.9524\n",
      "Epoch 21/100\n",
      "48/48 [==============================] - 0s 1ms/step - loss: 0.0044 - accuracy: 1.0000 - val_loss: 0.1699 - val_accuracy: 0.9556\n",
      "Epoch 22/100\n",
      "48/48 [==============================] - 0s 1ms/step - loss: 0.0037 - accuracy: 1.0000 - val_loss: 0.1653 - val_accuracy: 0.9556\n",
      "Epoch 23/100\n",
      "48/48 [==============================] - ETA: 0s - loss: 0.0027 - accuracy: 1.00 - 0s 1ms/step - loss: 0.0032 - accuracy: 1.0000 - val_loss: 0.1667 - val_accuracy: 0.9556\n",
      "Epoch 24/100\n",
      "48/48 [==============================] - 0s 1ms/step - loss: 0.0029 - accuracy: 1.0000 - val_loss: 0.1625 - val_accuracy: 0.9556\n",
      "Epoch 25/100\n",
      "48/48 [==============================] - 0s 1ms/step - loss: 0.0028 - accuracy: 1.0000 - val_loss: 0.1646 - val_accuracy: 0.9587\n",
      "Epoch 26/100\n",
      "48/48 [==============================] - 0s 1ms/step - loss: 0.0026 - accuracy: 1.0000 - val_loss: 0.1712 - val_accuracy: 0.9587\n",
      "Epoch 27/100\n",
      "48/48 [==============================] - 0s 1ms/step - loss: 0.0024 - accuracy: 1.0000 - val_loss: 0.1633 - val_accuracy: 0.9587\n",
      "Epoch 28/100\n",
      "48/48 [==============================] - 0s 1ms/step - loss: 0.0021 - accuracy: 1.0000 - val_loss: 0.1585 - val_accuracy: 0.9619\n",
      "Epoch 29/100\n",
      "48/48 [==============================] - 0s 1ms/step - loss: 0.0019 - accuracy: 1.0000 - val_loss: 0.1633 - val_accuracy: 0.9619\n",
      "Epoch 30/100\n",
      "48/48 [==============================] - 0s 1ms/step - loss: 0.0018 - accuracy: 1.0000 - val_loss: 0.1553 - val_accuracy: 0.9619\n",
      "Epoch 31/100\n",
      "48/48 [==============================] - 0s 1ms/step - loss: 0.0016 - accuracy: 1.0000 - val_loss: 0.1551 - val_accuracy: 0.9619\n",
      "Epoch 32/100\n",
      "48/48 [==============================] - 0s 1ms/step - loss: 0.0016 - accuracy: 1.0000 - val_loss: 0.1640 - val_accuracy: 0.9619\n",
      "Epoch 33/100\n",
      "48/48 [==============================] - 0s 1ms/step - loss: 0.0014 - accuracy: 1.0000 - val_loss: 0.1566 - val_accuracy: 0.9619\n",
      "Epoch 34/100\n",
      "48/48 [==============================] - 0s 1ms/step - loss: 0.0013 - accuracy: 1.0000 - val_loss: 0.1543 - val_accuracy: 0.9651\n",
      "Epoch 35/100\n",
      "48/48 [==============================] - 0s 1ms/step - loss: 0.0013 - accuracy: 1.0000 - val_loss: 0.1531 - val_accuracy: 0.9651\n",
      "Epoch 36/100\n",
      "48/48 [==============================] - 0s 1ms/step - loss: 0.0013 - accuracy: 1.0000 - val_loss: 0.1569 - val_accuracy: 0.9619\n",
      "Epoch 37/100\n",
      "48/48 [==============================] - 0s 1ms/step - loss: 0.0011 - accuracy: 1.0000 - val_loss: 0.1485 - val_accuracy: 0.9619\n",
      "Epoch 38/100\n",
      "48/48 [==============================] - 0s 1ms/step - loss: 0.0010 - accuracy: 1.0000 - val_loss: 0.1507 - val_accuracy: 0.9683\n",
      "Epoch 39/100\n",
      "48/48 [==============================] - 0s 1ms/step - loss: 9.9058e-04 - accuracy: 1.0000 - val_loss: 0.1550 - val_accuracy: 0.9651\n",
      "Epoch 40/100\n",
      "48/48 [==============================] - 0s 1ms/step - loss: 9.0153e-04 - accuracy: 1.0000 - val_loss: 0.1528 - val_accuracy: 0.9651\n",
      "Epoch 41/100\n",
      "48/48 [==============================] - 0s 1ms/step - loss: 8.5286e-04 - accuracy: 1.0000 - val_loss: 0.1511 - val_accuracy: 0.9619\n",
      "Epoch 42/100\n",
      "48/48 [==============================] - 0s 1ms/step - loss: 8.1049e-04 - accuracy: 1.0000 - val_loss: 0.1538 - val_accuracy: 0.9651\n",
      "Epoch 43/100\n",
      "48/48 [==============================] - 0s 1ms/step - loss: 7.8077e-04 - accuracy: 1.0000 - val_loss: 0.1499 - val_accuracy: 0.9683\n",
      "Epoch 44/100\n",
      "48/48 [==============================] - 0s 1ms/step - loss: 7.1763e-04 - accuracy: 1.0000 - val_loss: 0.1561 - val_accuracy: 0.9651\n",
      "Epoch 45/100\n",
      "48/48 [==============================] - 0s 1ms/step - loss: 6.8147e-04 - accuracy: 1.0000 - val_loss: 0.1535 - val_accuracy: 0.9651\n",
      "Epoch 46/100\n",
      "48/48 [==============================] - 0s 1ms/step - loss: 6.4035e-04 - accuracy: 1.0000 - val_loss: 0.1513 - val_accuracy: 0.9651\n",
      "Epoch 47/100\n",
      "48/48 [==============================] - 0s 1ms/step - loss: 6.3938e-04 - accuracy: 1.0000 - val_loss: 0.1537 - val_accuracy: 0.9651\n",
      "Epoch 48/100\n",
      "48/48 [==============================] - 0s 1ms/step - loss: 6.0004e-04 - accuracy: 1.0000 - val_loss: 0.1516 - val_accuracy: 0.9683\n",
      "Epoch 49/100\n",
      "48/48 [==============================] - 0s 1ms/step - loss: 5.5456e-04 - accuracy: 1.0000 - val_loss: 0.1570 - val_accuracy: 0.9714\n",
      "Epoch 50/100\n",
      "48/48 [==============================] - 0s 1ms/step - loss: 5.2058e-04 - accuracy: 1.0000 - val_loss: 0.1516 - val_accuracy: 0.9651\n",
      "Epoch 51/100\n",
      "48/48 [==============================] - 0s 1ms/step - loss: 4.9565e-04 - accuracy: 1.0000 - val_loss: 0.1576 - val_accuracy: 0.9683\n",
      "Epoch 52/100\n",
      "48/48 [==============================] - 0s 1ms/step - loss: 4.6807e-04 - accuracy: 1.0000 - val_loss: 0.1531 - val_accuracy: 0.9714\n",
      "Epoch 53/100\n",
      "48/48 [==============================] - 0s 1ms/step - loss: 4.4347e-04 - accuracy: 1.0000 - val_loss: 0.1555 - val_accuracy: 0.9714\n",
      "Epoch 54/100\n",
      "48/48 [==============================] - 0s 1ms/step - loss: 4.3248e-04 - accuracy: 1.0000 - val_loss: 0.1596 - val_accuracy: 0.9683\n",
      "Epoch 55/100\n",
      "48/48 [==============================] - 0s 1ms/step - loss: 4.1369e-04 - accuracy: 1.0000 - val_loss: 0.1582 - val_accuracy: 0.9714\n",
      "Epoch 56/100\n",
      "48/48 [==============================] - 0s 1ms/step - loss: 3.8667e-04 - accuracy: 1.0000 - val_loss: 0.1604 - val_accuracy: 0.9683\n",
      "Epoch 57/100\n",
      "48/48 [==============================] - 0s 1ms/step - loss: 3.7121e-04 - accuracy: 1.0000 - val_loss: 0.1568 - val_accuracy: 0.9651\n",
      "Epoch 58/100\n",
      "48/48 [==============================] - 0s 1ms/step - loss: 3.5393e-04 - accuracy: 1.0000 - val_loss: 0.1606 - val_accuracy: 0.9714\n",
      "Epoch 59/100\n",
      "48/48 [==============================] - 0s 1ms/step - loss: 3.7688e-04 - accuracy: 1.0000 - val_loss: 0.1578 - val_accuracy: 0.9683\n",
      "Epoch 60/100\n",
      "48/48 [==============================] - 0s 1ms/step - loss: 3.2404e-04 - accuracy: 1.0000 - val_loss: 0.1620 - val_accuracy: 0.9683\n",
      "Epoch 61/100\n",
      "48/48 [==============================] - 0s 1ms/step - loss: 3.1028e-04 - accuracy: 1.0000 - val_loss: 0.1595 - val_accuracy: 0.9683\n",
      "Epoch 62/100\n",
      "48/48 [==============================] - 0s 1ms/step - loss: 2.9904e-04 - accuracy: 1.0000 - val_loss: 0.1638 - val_accuracy: 0.9683\n",
      "Epoch 63/100\n",
      "48/48 [==============================] - 0s 1ms/step - loss: 2.8180e-04 - accuracy: 1.0000 - val_loss: 0.1640 - val_accuracy: 0.9683\n",
      "Epoch 64/100\n",
      "48/48 [==============================] - 0s 1ms/step - loss: 2.8011e-04 - accuracy: 1.0000 - val_loss: 0.1653 - val_accuracy: 0.9683\n",
      "Epoch 65/100\n",
      "48/48 [==============================] - 0s 1ms/step - loss: 2.7205e-04 - accuracy: 1.0000 - val_loss: 0.1639 - val_accuracy: 0.9683\n",
      "Epoch 66/100\n",
      "48/48 [==============================] - 0s 1ms/step - loss: 2.6443e-04 - accuracy: 1.0000 - val_loss: 0.1615 - val_accuracy: 0.9683\n",
      "Epoch 67/100\n",
      "48/48 [==============================] - 0s 1ms/step - loss: 2.4140e-04 - accuracy: 1.0000 - val_loss: 0.1634 - val_accuracy: 0.9683\n",
      "Epoch 68/100\n",
      "48/48 [==============================] - 0s 1ms/step - loss: 2.2810e-04 - accuracy: 1.0000 - val_loss: 0.1612 - val_accuracy: 0.9683\n",
      "Epoch 69/100\n",
      "48/48 [==============================] - 0s 1ms/step - loss: 2.1776e-04 - accuracy: 1.0000 - val_loss: 0.1632 - val_accuracy: 0.9683\n",
      "Epoch 70/100\n",
      "48/48 [==============================] - 0s 1ms/step - loss: 2.0937e-04 - accuracy: 1.0000 - val_loss: 0.1631 - val_accuracy: 0.9683\n",
      "Epoch 71/100\n",
      "48/48 [==============================] - 0s 1ms/step - loss: 2.0589e-04 - accuracy: 1.0000 - val_loss: 0.1678 - val_accuracy: 0.9683\n",
      "Epoch 72/100\n",
      "48/48 [==============================] - 0s 1ms/step - loss: 1.9582e-04 - accuracy: 1.0000 - val_loss: 0.1657 - val_accuracy: 0.9683\n",
      "Epoch 73/100\n",
      "48/48 [==============================] - 0s 1ms/step - loss: 1.8633e-04 - accuracy: 1.0000 - val_loss: 0.1643 - val_accuracy: 0.9651\n",
      "Epoch 74/100\n",
      "48/48 [==============================] - 0s 1ms/step - loss: 1.7961e-04 - accuracy: 1.0000 - val_loss: 0.1652 - val_accuracy: 0.9651\n",
      "Epoch 75/100\n",
      "48/48 [==============================] - 0s 1ms/step - loss: 1.7403e-04 - accuracy: 1.0000 - val_loss: 0.1673 - val_accuracy: 0.9651\n",
      "Epoch 76/100\n",
      "48/48 [==============================] - 0s 1ms/step - loss: 1.6763e-04 - accuracy: 1.0000 - val_loss: 0.1669 - val_accuracy: 0.9683\n",
      "Epoch 77/100\n",
      "48/48 [==============================] - 0s 1ms/step - loss: 1.6307e-04 - accuracy: 1.0000 - val_loss: 0.1670 - val_accuracy: 0.9619\n",
      "Epoch 78/100\n",
      "48/48 [==============================] - 0s 1ms/step - loss: 1.5624e-04 - accuracy: 1.0000 - val_loss: 0.1707 - val_accuracy: 0.9619\n",
      "Epoch 79/100\n",
      "48/48 [==============================] - 0s 1ms/step - loss: 1.5012e-04 - accuracy: 1.0000 - val_loss: 0.1707 - val_accuracy: 0.9651\n",
      "Epoch 80/100\n",
      "48/48 [==============================] - 0s 1ms/step - loss: 1.4626e-04 - accuracy: 1.0000 - val_loss: 0.1679 - val_accuracy: 0.9619\n",
      "Epoch 81/100\n",
      "48/48 [==============================] - 0s 1ms/step - loss: 1.4085e-04 - accuracy: 1.0000 - val_loss: 0.1701 - val_accuracy: 0.9619\n",
      "Epoch 82/100\n",
      "48/48 [==============================] - 0s 1ms/step - loss: 6.7861e-04 - accuracy: 1.0000 - val_loss: 0.2120 - val_accuracy: 0.9651\n",
      "Epoch 83/100\n",
      "48/48 [==============================] - 0s 1ms/step - loss: 0.1862 - accuracy: 0.9639 - val_loss: 0.6623 - val_accuracy: 0.9048\n",
      "Epoch 84/100\n",
      "48/48 [==============================] - 0s 1ms/step - loss: 0.2114 - accuracy: 0.9544 - val_loss: 0.2559 - val_accuracy: 0.9556\n",
      "Epoch 85/100\n",
      "48/48 [==============================] - 0s 1ms/step - loss: 0.0186 - accuracy: 0.9968 - val_loss: 0.1660 - val_accuracy: 0.9619\n",
      "Epoch 86/100\n",
      "48/48 [==============================] - 0s 1ms/step - loss: 0.0041 - accuracy: 1.0000 - val_loss: 0.1685 - val_accuracy: 0.9651\n",
      "Epoch 87/100\n",
      "48/48 [==============================] - 0s 1ms/step - loss: 0.0014 - accuracy: 1.0000 - val_loss: 0.1887 - val_accuracy: 0.9651\n",
      "Epoch 88/100\n",
      "48/48 [==============================] - 0s 1ms/step - loss: 9.8282e-04 - accuracy: 1.0000 - val_loss: 0.1852 - val_accuracy: 0.9651\n",
      "Epoch 89/100\n",
      "48/48 [==============================] - 0s 1ms/step - loss: 8.1615e-04 - accuracy: 1.0000 - val_loss: 0.1858 - val_accuracy: 0.9651\n",
      "Epoch 90/100\n",
      "48/48 [==============================] - 0s 1ms/step - loss: 7.0353e-04 - accuracy: 1.0000 - val_loss: 0.1864 - val_accuracy: 0.9651\n",
      "Epoch 91/100\n",
      "48/48 [==============================] - 0s 1ms/step - loss: 6.6631e-04 - accuracy: 1.0000 - val_loss: 0.1918 - val_accuracy: 0.9651\n",
      "Epoch 92/100\n",
      "48/48 [==============================] - 0s 1ms/step - loss: 5.7027e-04 - accuracy: 1.0000 - val_loss: 0.1892 - val_accuracy: 0.9651\n",
      "Epoch 93/100\n",
      "48/48 [==============================] - 0s 1ms/step - loss: 5.1617e-04 - accuracy: 1.0000 - val_loss: 0.1891 - val_accuracy: 0.9651\n",
      "Epoch 94/100\n",
      "48/48 [==============================] - 0s 1ms/step - loss: 4.6779e-04 - accuracy: 1.0000 - val_loss: 0.1888 - val_accuracy: 0.9651\n",
      "Epoch 95/100\n",
      "48/48 [==============================] - 0s 1ms/step - loss: 4.3456e-04 - accuracy: 1.0000 - val_loss: 0.1893 - val_accuracy: 0.9651\n",
      "Epoch 96/100\n",
      "48/48 [==============================] - 0s 1ms/step - loss: 4.0121e-04 - accuracy: 1.0000 - val_loss: 0.1892 - val_accuracy: 0.9651\n",
      "Epoch 97/100\n",
      "48/48 [==============================] - 0s 1ms/step - loss: 3.7516e-04 - accuracy: 1.0000 - val_loss: 0.1893 - val_accuracy: 0.9651\n",
      "Epoch 98/100\n",
      "48/48 [==============================] - 0s 1ms/step - loss: 3.5291e-04 - accuracy: 1.0000 - val_loss: 0.1898 - val_accuracy: 0.9651\n",
      "Epoch 99/100\n",
      "48/48 [==============================] - 0s 1ms/step - loss: 3.3535e-04 - accuracy: 1.0000 - val_loss: 0.1907 - val_accuracy: 0.9651\n",
      "Epoch 100/100\n",
      "48/48 [==============================] - 0s 1ms/step - loss: 3.2060e-04 - accuracy: 1.0000 - val_loss: 0.1897 - val_accuracy: 0.9651\n",
      "CPU times: total: 37.2 s\n",
      "Wall time: 6.95 s\n"
     ]
    }
   ],
   "source": [
    "%%time\n",
    "# Fit the model\n",
    "history = model.fit(\n",
    "    X_train,\n",
    "    y_train,\n",
    "    validation_split = 0.25,\n",
    "    batch_size = 20,\n",
    "    epochs = 100,\n",
    "    verbose = 1)"
   ]
  },
  {
   "cell_type": "code",
   "execution_count": 35,
   "metadata": {
    "id": "CQsFQY0fy-Qy"
   },
   "outputs": [],
   "source": [
    "predictions = model.predict(X_test)"
   ]
  },
  {
   "cell_type": "code",
   "execution_count": 36,
   "metadata": {
    "colab": {
     "base_uri": "https://localhost:8080/",
     "height": 70
    },
    "executionInfo": {
     "elapsed": 1160,
     "status": "ok",
     "timestamp": 1592825475254,
     "user": {
      "displayName": "Mai Anh Ly",
      "photoUrl": "https://lh3.googleusercontent.com/a-/AOh14Gj3m3ePWBwBFT7szOlaK8W7lylc_ZnY93J_HKbY5EYiLuSsLy7FtOhGAmfpk-co2FX3NdvOSoUHAjcKyRo5fYAxzXGwBuB_Scz8EEoI0Sd99Sg0jA2hPKbGGL6l3OXXH3RcebQAVwm8daKZ2HaryKtOGaYPEs9Xm4WwmZilYvP12BkymjKBBw7wXJMbb_FMuYXiSJ7kmY0DWt455ZoAKqVSJa8qwbs2DTI_8qb-mnSxDEsvUDfWP5HYXMJ0-_ZkGM3e4Ar7WqqeTz_ra4LyeKayfg3WeqVtxylbHQIDlD2SoYjxZBk1F9dK1eYMhV9norQqhOu7Vd-ye50GdIbvJT8-QvhH3mj6uskBTzXPrA1fEo302QbdbXAVY3r8PvhwuUw4aJtvHHsk37YZNZ36XzswOyKGtKP7YQr9nItYSOQ8ZmWzlJojcN0uHH1RFCoshmE-ncc5Vf8-0LXicZIQp4x8HCIVH93zt4_P9E3PyrYf5mw9oOzmxcBIX3u9yuRv_K3-XV9oUJTZRFCBOqP3phE4KUy_Hwn2ZSv0cfUiuFz5XpPAjvO6hYAsZTayx4_Tr-REFcps30D5U05ItXMetcHTu4JM9Yvg624ZAgWv6NZ526HoOcOja57kG4pX8lmBpLnL6r9bb7PolwB2hpZuZ1Ma4wzL6EG3xNS9VJzMmyN0nZTqf_05jxnnn0wsvqcUAhRqK9PbPxfieRzYPTE20QrMG6gxUrSZ9PDWIMEm5YAYgZb7dZU7_k51mccLXc2mEA=s64",
      "userId": "16059923818223643809"
     },
     "user_tz": -600
    },
    "id": "7XbWCdmmy-Q0",
    "outputId": "24e9b6ce-ba9f-41de-c035-7b6fa869d690",
    "scrolled": true
   },
   "outputs": [
    {
     "name": "stdout",
     "output_type": "stream",
     "text": [
      "2/2 [==============================] - 0s 1ms/step - loss: 0.1178 - accuracy: 0.9722\n",
      "\n",
      "Test loss: 0.117826, Test accuracy: 0.972222\n"
     ]
    }
   ],
   "source": [
    "score = model.evaluate(X_test, y_test, batch_size = 315)\n",
    "print('\\nTest loss: %.6f, Test accuracy: %.6f' % tuple(score))"
   ]
  },
  {
   "cell_type": "code",
   "execution_count": 37,
   "metadata": {
    "id": "YAEoxWaNy-Q2"
   },
   "outputs": [],
   "source": [
    "def print_cm(cm):\n",
    "    c = '%%%dd ' % len('%d' % cm.max())\n",
    "    s = ' | '\n",
    "    s += ''.join([c % i for i in range(len(cm[0]))])\n",
    "    print(s)\n",
    "    print('-' * len(s))\n",
    "    for i, r in enumerate(cm):\n",
    "        s = '%d| ' % i\n",
    "        s += c * len(r)\n",
    "        print(s % tuple(r))"
   ]
  },
  {
   "cell_type": "code",
   "execution_count": 38,
   "metadata": {
    "colab": {
     "base_uri": "https://localhost:8080/",
     "height": 230
    },
    "executionInfo": {
     "elapsed": 677,
     "status": "ok",
     "timestamp": 1560987282219,
     "user": {
      "displayName": "Ibrahim Faisal",
      "photoUrl": "https://lh3.googleusercontent.com/-67DMczu7rgM/AAAAAAAAAAI/AAAAAAAAAAc/6f5FCnBgxFs/s64/photo.jpg",
      "userId": "02685917636347920688"
     },
     "user_tz": -600
    },
    "id": "5a00OEH5y-Q4",
    "outputId": "3344a8e1-bb45-4799-9e98-2fef7e4b907f",
    "scrolled": true
   },
   "outputs": [
    {
     "ename": "ValueError",
     "evalue": "Classification metrics can't handle a mix of multiclass and continuous-multioutput targets",
     "output_type": "error",
     "traceback": [
      "\u001b[1;31m---------------------------------------------------------------------------\u001b[0m",
      "\u001b[1;31mValueError\u001b[0m                                Traceback (most recent call last)",
      "Input \u001b[1;32mIn [38]\u001b[0m, in \u001b[0;36m<module>\u001b[1;34m\u001b[0m\n\u001b[0;32m      1\u001b[0m y_test_target \u001b[38;5;241m=\u001b[39m np\u001b[38;5;241m.\u001b[39marray([x\u001b[38;5;241m.\u001b[39margmax() \u001b[38;5;28;01mfor\u001b[39;00m x \u001b[38;5;129;01min\u001b[39;00m y_test])\n\u001b[1;32m----> 2\u001b[0m cm \u001b[38;5;241m=\u001b[39m \u001b[43mconfusion_matrix\u001b[49m\u001b[43m(\u001b[49m\u001b[43my_test_target\u001b[49m\u001b[43m,\u001b[49m\u001b[43m \u001b[49m\u001b[43mpredictions\u001b[49m\u001b[43m)\u001b[49m\n\u001b[0;32m      3\u001b[0m print_cm(cm)\n",
      "File \u001b[1;32m~\\anaconda3_1\\envs\\iod_deep_learning\\lib\\site-packages\\sklearn\\metrics\\_classification.py:307\u001b[0m, in \u001b[0;36mconfusion_matrix\u001b[1;34m(y_true, y_pred, labels, sample_weight, normalize)\u001b[0m\n\u001b[0;32m    222\u001b[0m \u001b[38;5;28;01mdef\u001b[39;00m \u001b[38;5;21mconfusion_matrix\u001b[39m(\n\u001b[0;32m    223\u001b[0m     y_true, y_pred, \u001b[38;5;241m*\u001b[39m, labels\u001b[38;5;241m=\u001b[39m\u001b[38;5;28;01mNone\u001b[39;00m, sample_weight\u001b[38;5;241m=\u001b[39m\u001b[38;5;28;01mNone\u001b[39;00m, normalize\u001b[38;5;241m=\u001b[39m\u001b[38;5;28;01mNone\u001b[39;00m\n\u001b[0;32m    224\u001b[0m ):\n\u001b[0;32m    225\u001b[0m     \u001b[38;5;124;03m\"\"\"Compute confusion matrix to evaluate the accuracy of a classification.\u001b[39;00m\n\u001b[0;32m    226\u001b[0m \n\u001b[0;32m    227\u001b[0m \u001b[38;5;124;03m    By definition a confusion matrix :math:`C` is such that :math:`C_{i, j}`\u001b[39;00m\n\u001b[1;32m   (...)\u001b[0m\n\u001b[0;32m    305\u001b[0m \u001b[38;5;124;03m    (0, 2, 1, 1)\u001b[39;00m\n\u001b[0;32m    306\u001b[0m \u001b[38;5;124;03m    \"\"\"\u001b[39;00m\n\u001b[1;32m--> 307\u001b[0m     y_type, y_true, y_pred \u001b[38;5;241m=\u001b[39m \u001b[43m_check_targets\u001b[49m\u001b[43m(\u001b[49m\u001b[43my_true\u001b[49m\u001b[43m,\u001b[49m\u001b[43m \u001b[49m\u001b[43my_pred\u001b[49m\u001b[43m)\u001b[49m\n\u001b[0;32m    308\u001b[0m     \u001b[38;5;28;01mif\u001b[39;00m y_type \u001b[38;5;129;01mnot\u001b[39;00m \u001b[38;5;129;01min\u001b[39;00m (\u001b[38;5;124m\"\u001b[39m\u001b[38;5;124mbinary\u001b[39m\u001b[38;5;124m\"\u001b[39m, \u001b[38;5;124m\"\u001b[39m\u001b[38;5;124mmulticlass\u001b[39m\u001b[38;5;124m\"\u001b[39m):\n\u001b[0;32m    309\u001b[0m         \u001b[38;5;28;01mraise\u001b[39;00m \u001b[38;5;167;01mValueError\u001b[39;00m(\u001b[38;5;124m\"\u001b[39m\u001b[38;5;132;01m%s\u001b[39;00m\u001b[38;5;124m is not supported\u001b[39m\u001b[38;5;124m\"\u001b[39m \u001b[38;5;241m%\u001b[39m y_type)\n",
      "File \u001b[1;32m~\\anaconda3_1\\envs\\iod_deep_learning\\lib\\site-packages\\sklearn\\metrics\\_classification.py:93\u001b[0m, in \u001b[0;36m_check_targets\u001b[1;34m(y_true, y_pred)\u001b[0m\n\u001b[0;32m     90\u001b[0m     y_type \u001b[38;5;241m=\u001b[39m {\u001b[38;5;124m\"\u001b[39m\u001b[38;5;124mmulticlass\u001b[39m\u001b[38;5;124m\"\u001b[39m}\n\u001b[0;32m     92\u001b[0m \u001b[38;5;28;01mif\u001b[39;00m \u001b[38;5;28mlen\u001b[39m(y_type) \u001b[38;5;241m>\u001b[39m \u001b[38;5;241m1\u001b[39m:\n\u001b[1;32m---> 93\u001b[0m     \u001b[38;5;28;01mraise\u001b[39;00m \u001b[38;5;167;01mValueError\u001b[39;00m(\n\u001b[0;32m     94\u001b[0m         \u001b[38;5;124m\"\u001b[39m\u001b[38;5;124mClassification metrics can\u001b[39m\u001b[38;5;124m'\u001b[39m\u001b[38;5;124mt handle a mix of \u001b[39m\u001b[38;5;132;01m{0}\u001b[39;00m\u001b[38;5;124m and \u001b[39m\u001b[38;5;132;01m{1}\u001b[39;00m\u001b[38;5;124m targets\u001b[39m\u001b[38;5;124m\"\u001b[39m\u001b[38;5;241m.\u001b[39mformat(\n\u001b[0;32m     95\u001b[0m             type_true, type_pred\n\u001b[0;32m     96\u001b[0m         )\n\u001b[0;32m     97\u001b[0m     )\n\u001b[0;32m     99\u001b[0m \u001b[38;5;66;03m# We can't have more than one value on y_type => The set is no more needed\u001b[39;00m\n\u001b[0;32m    100\u001b[0m y_type \u001b[38;5;241m=\u001b[39m y_type\u001b[38;5;241m.\u001b[39mpop()\n",
      "\u001b[1;31mValueError\u001b[0m: Classification metrics can't handle a mix of multiclass and continuous-multioutput targets"
     ]
    }
   ],
   "source": [
    "y_test_target = np.array([x.argmax() for x in y_test])\n",
    "cm = confusion_matrix(y_test_target, predictions)\n",
    "print_cm(cm)\n",
    "\n",
    "#tf.math.confusion_matrix(\n",
    "    #target, predictions, num_classes=None, weights=None, dtype=tf.dtypes.int32,\n",
    "    #name=None)"
   ]
  },
  {
   "cell_type": "code",
   "execution_count": null,
   "metadata": {
    "colab": {
     "base_uri": "https://localhost:8080/",
     "height": 430
    },
    "executionInfo": {
     "elapsed": 1308,
     "status": "ok",
     "timestamp": 1560987288359,
     "user": {
      "displayName": "Ibrahim Faisal",
      "photoUrl": "https://lh3.googleusercontent.com/-67DMczu7rgM/AAAAAAAAAAI/AAAAAAAAAAc/6f5FCnBgxFs/s64/photo.jpg",
      "userId": "02685917636347920688"
     },
     "user_tz": -600
    },
    "id": "UhiEYNVqy-Q6",
    "outputId": "f2584738-9742-4c15-8735-98938107e333",
    "scrolled": true
   },
   "outputs": [],
   "source": [
    "fig, ax = plt.subplots(1, 2, figsize = (18, 6))\n",
    "fig.subplots_adjust(left = 0.02, right = 0.98, wspace = 0.2)\n",
    "\n",
    "plt.rcParams.update({'font.size': 18})\n",
    "\n",
    "# Plot training & validation accuracy values\n",
    "ax[0].plot(history.history['accuracy'], label = 'Training')\n",
    "ax[0].plot(history.history['val_accuracy'], label = 'Validation')\n",
    "ax[0].set_title('Model accuracy')\n",
    "ax[0].set_ylabel('Accuracy')\n",
    "ax[0].set_xlabel('Epoch')\n",
    "ax[0].legend()\n",
    "\n",
    "# Plot training & validation loss values\n",
    "ax[1].plot(history.history['loss'], label = 'Training')\n",
    "ax[1].plot(history.history['val_loss'], label = 'Validation')\n",
    "ax[1].set_title('Model loss')\n",
    "ax[1].set_ylabel('Loss')\n",
    "ax[1].set_xlabel('Epoch')\n",
    "ax[1].legend()\n",
    "\n",
    "plt.show()"
   ]
  },
  {
   "cell_type": "code",
   "execution_count": null,
   "metadata": {
    "id": "grQoh06wy-Q7"
   },
   "outputs": [],
   "source": [
    "def show_digit():\n",
    "    id = np.random.randint(len(predictions))\n",
    "    XTest = X_test[id].reshape(8, 8)\n",
    "    plt.figure(figsize = (2, 2))\n",
    "    plt.imshow(XTest, cmap = 'gray')\n",
    "    plt.title('Prediction: %d' % predictions[id])\n",
    "    plt.xticks([])\n",
    "    plt.yticks([])\n",
    "    plt.show()"
   ]
  },
  {
   "cell_type": "code",
   "execution_count": null,
   "metadata": {
    "id": "4A6G2LEPy-Q9"
   },
   "outputs": [],
   "source": [
    "def show_10_digits():\n",
    "    fig, ax = plt.subplots(2, 5, figsize = (8, 4))\n",
    "    fig.subplots_adjust(left = 0.02, right = 0.98, top = 0.8, wspace = 0.2, hspace = 0.3)\n",
    "    fig.suptitle('Ten Predictions', fontsize = 12, fontweight = 'bold')\n",
    "\n",
    "    plt.rcParams.update({'font.size': 10})\n",
    "    \n",
    "    ids = np.random.randint(len(predictions), size = 10)\n",
    "    r = 0\n",
    "    c = 0\n",
    "    for id in ids:\n",
    "        XTest = X_test[id].reshape(8, 8)\n",
    "\n",
    "        # original image\n",
    "        ax[r, c].imshow(XTest, cmap = 'gray')\n",
    "        ax[r, c].set_title('Prediction: %d' % predictions[id])\n",
    "        ax[r, c].set_xticks([])\n",
    "        ax[r, c].set_yticks([])\n",
    "        c += 1\n",
    "        if c > 4:\n",
    "            r += 1\n",
    "            c = 0\n",
    "\n",
    "    plt.show()"
   ]
  },
  {
   "cell_type": "code",
   "execution_count": null,
   "metadata": {
    "colab": {
     "base_uri": "https://localhost:8080/",
     "height": 165
    },
    "executionInfo": {
     "elapsed": 750,
     "status": "ok",
     "timestamp": 1560987306209,
     "user": {
      "displayName": "Ibrahim Faisal",
      "photoUrl": "https://lh3.googleusercontent.com/-67DMczu7rgM/AAAAAAAAAAI/AAAAAAAAAAc/6f5FCnBgxFs/s64/photo.jpg",
      "userId": "02685917636347920688"
     },
     "user_tz": -600
    },
    "id": "iG9wf-bTy-Q-",
    "outputId": "2092ecd0-c4a8-4252-d4df-3f383a3d3b34"
   },
   "outputs": [],
   "source": [
    "# show one\n",
    "show_digit()"
   ]
  },
  {
   "cell_type": "code",
   "execution_count": null,
   "metadata": {
    "colab": {
     "base_uri": "https://localhost:8080/",
     "height": 281
    },
    "executionInfo": {
     "elapsed": 958,
     "status": "ok",
     "timestamp": 1560987309548,
     "user": {
      "displayName": "Ibrahim Faisal",
      "photoUrl": "https://lh3.googleusercontent.com/-67DMczu7rgM/AAAAAAAAAAI/AAAAAAAAAAc/6f5FCnBgxFs/s64/photo.jpg",
      "userId": "02685917636347920688"
     },
     "user_tz": -600
    },
    "id": "Ue7Oo4Vxy-Q_",
    "outputId": "e6dc190e-2096-4da0-ab9c-db6d67e18e3c",
    "scrolled": true
   },
   "outputs": [],
   "source": [
    "# show ten\n",
    "show_10_digits()"
   ]
  },
  {
   "cell_type": "markdown",
   "metadata": {
    "id": "RERADKgNFq9T"
   },
   "source": [
    "\n",
    "\n",
    "---\n",
    "\n",
    "\n",
    "\n",
    "---\n",
    "\n",
    "\n",
    "\n",
    "> > > > > > > > > © 2021 Institute of Data\n",
    "\n",
    "\n",
    "---\n",
    "\n",
    "\n",
    "\n",
    "---"
   ]
  }
 ],
 "metadata": {
  "accelerator": "GPU",
  "colab": {
   "collapsed_sections": [],
   "name": "IOD_Demo-10-Keras.ipynb",
   "provenance": []
  },
  "kernelspec": {
   "display_name": "Python 3 (ipykernel)",
   "language": "python",
   "name": "python3"
  },
  "language_info": {
   "codemirror_mode": {
    "name": "ipython",
    "version": 3
   },
   "file_extension": ".py",
   "mimetype": "text/x-python",
   "name": "python",
   "nbconvert_exporter": "python",
   "pygments_lexer": "ipython3",
   "version": "3.9.7"
  }
 },
 "nbformat": 4,
 "nbformat_minor": 4
}
