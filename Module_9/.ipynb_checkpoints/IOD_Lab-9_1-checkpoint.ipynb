{
 "cells": [
  {
   "cell_type": "markdown",
   "metadata": {
    "colab_type": "text",
    "id": "gn3SG1yo1KdV"
   },
   "source": [
    "<div>\n",
    "<img src=https://www.institutedata.com/wp-content/uploads/2019/10/iod_h_tp_primary_c.svg width=\"300\">\n",
    "</div>"
   ]
  },
  {
   "cell_type": "markdown",
   "metadata": {
    "colab_type": "text",
    "id": "g-SD7a9X1KdY"
   },
   "source": [
    "# Lab 9.1: NN with Keras\n",
    "INSTRUCTIONS:\n",
    "- Read the guides and hints, then create the necessary analysis and code to find an answer and conclusion for the task below.\n",
    "- **NOTE**: This is a Regression problem. Consider the appropriate:\n",
    "    - Activation function\n",
    "    - Loss/Cost Function\n",
    "    - Metrics"
   ]
  },
  {
   "cell_type": "markdown",
   "metadata": {
    "colab_type": "text",
    "id": "ENgfRnvL1Kdc"
   },
   "source": [
    "### Import libraries"
   ]
  },
  {
   "cell_type": "code",
   "execution_count": 1,
   "metadata": {
    "colab": {},
    "colab_type": "code",
    "id": "Z9H465X-1Kde"
   },
   "outputs": [],
   "source": [
    "# insert code here\n",
    "\n",
    "## Import libraries\n",
    "import numpy as np\n",
    "import pandas as pd\n",
    "\n",
    "%matplotlib inline\n",
    "import matplotlib.pyplot as plt\n",
    "\n",
    "from sklearn.datasets import load_diabetes\n",
    "from sklearn.metrics import confusion_matrix\n",
    "from sklearn.model_selection import train_test_split\n",
    "\n",
    "import keras\n",
    "import tensorflow as tf\n",
    "from keras.models import Sequential\n",
    "from keras.layers import Dense\n",
    "from tensorflow.keras.utils import to_categorical"
   ]
  },
  {
   "cell_type": "markdown",
   "metadata": {
    "colab_type": "text",
    "id": "5FHh910J1Kdm"
   },
   "source": [
    "### Load data\n",
    "Load the Diabetes dataset from **SciKit-Learn**."
   ]
  },
  {
   "cell_type": "code",
   "execution_count": 3,
   "metadata": {
    "colab": {},
    "colab_type": "code",
    "id": "MWu8SlQF1Kdo"
   },
   "outputs": [
    {
     "name": "stdout",
     "output_type": "stream",
     "text": [
      ".. _diabetes_dataset:\n",
      "\n",
      "Diabetes dataset\n",
      "----------------\n",
      "\n",
      "Ten baseline variables, age, sex, body mass index, average blood\n",
      "pressure, and six blood serum measurements were obtained for each of n =\n",
      "442 diabetes patients, as well as the response of interest, a\n",
      "quantitative measure of disease progression one year after baseline.\n",
      "\n",
      "**Data Set Characteristics:**\n",
      "\n",
      "  :Number of Instances: 442\n",
      "\n",
      "  :Number of Attributes: First 10 columns are numeric predictive values\n",
      "\n",
      "  :Target: Column 11 is a quantitative measure of disease progression one year after baseline\n",
      "\n",
      "  :Attribute Information:\n",
      "      - age     age in years\n",
      "      - sex\n",
      "      - bmi     body mass index\n",
      "      - bp      average blood pressure\n",
      "      - s1      tc, total serum cholesterol\n",
      "      - s2      ldl, low-density lipoproteins\n",
      "      - s3      hdl, high-density lipoproteins\n",
      "      - s4      tch, total cholesterol / HDL\n",
      "      - s5      ltg, possibly log of serum triglycerides level\n",
      "      - s6      glu, blood sugar level\n",
      "\n",
      "Note: Each of these 10 feature variables have been mean centered and scaled by the standard deviation times `n_samples` (i.e. the sum of squares of each column totals 1).\n",
      "\n",
      "Source URL:\n",
      "https://www4.stat.ncsu.edu/~boos/var.select/diabetes.html\n",
      "\n",
      "For more information see:\n",
      "Bradley Efron, Trevor Hastie, Iain Johnstone and Robert Tibshirani (2004) \"Least Angle Regression,\" Annals of Statistics (with discussion), 407-499.\n",
      "(https://web.stanford.edu/~hastie/Papers/LARS/LeastAngle_2002.pdf)\n"
     ]
    }
   ],
   "source": [
    "# insert code here\n",
    "\n",
    "diabetes = load_diabetes()\n",
    "\n",
    "print(diabetes.DESCR)"
   ]
  },
  {
   "cell_type": "markdown",
   "metadata": {
    "colab_type": "text",
    "id": "xR_yLpR01Kdr"
   },
   "source": [
    "### Prepare input data"
   ]
  },
  {
   "cell_type": "code",
   "execution_count": 4,
   "metadata": {
    "colab": {},
    "colab_type": "code",
    "id": "Sp2mf2bB1Kds"
   },
   "outputs": [
    {
     "name": "stdout",
     "output_type": "stream",
     "text": [
      "X is a  <class 'numpy.ndarray'>\n",
      "X has 442 rows and 10 columns\n",
      "First 10 values in y:  [151.  75. 141. 206. 135.  97. 138.  63. 110. 310.]\n"
     ]
    }
   ],
   "source": [
    "# insert code here\n",
    "\n",
    "# input\n",
    "X = diabetes.data\n",
    "\n",
    "# print the type of X to check that it is a numpy array\n",
    "print(\"X is a \", type(X))\n",
    "\n",
    "# Print shape to check rows and columns\n",
    "print(\"X has {} rows and {} columns\".format(X.shape[0], X.shape[1]))\n",
    "\n",
    "# Save number of columns as n_cols\n",
    "n_cols = X.shape[1]\n",
    "\n",
    "# output\n",
    "y = diabetes.target\n",
    "\n",
    "print(\"First 10 values in y: \", y[:10])\n",
    "    \n",
    "    "
   ]
  },
  {
   "cell_type": "markdown",
   "metadata": {
    "colab_type": "text",
    "id": "j1Vsh6cm1Kdv"
   },
   "source": [
    "### Split the data (training/test)"
   ]
  },
  {
   "cell_type": "code",
   "execution_count": 5,
   "metadata": {
    "colab": {},
    "colab_type": "code",
    "id": "O341llJz1Kdw"
   },
   "outputs": [],
   "source": [
    "# insert code here\n",
    "\n",
    "X_train, X_test, y_train, y_test = train_test_split(\n",
    "    X, y, \n",
    "    test_size = 0.3,\n",
    "    random_state = 65)"
   ]
  },
  {
   "cell_type": "code",
   "execution_count": 6,
   "metadata": {},
   "outputs": [
    {
     "data": {
      "text/plain": [
       "(442, 10)"
      ]
     },
     "execution_count": 6,
     "metadata": {},
     "output_type": "execute_result"
    }
   ],
   "source": [
    "X.shape"
   ]
  },
  {
   "cell_type": "code",
   "execution_count": 7,
   "metadata": {},
   "outputs": [
    {
     "data": {
      "text/plain": [
       "(442,)"
      ]
     },
     "execution_count": 7,
     "metadata": {},
     "output_type": "execute_result"
    }
   ],
   "source": [
    "y.shape"
   ]
  },
  {
   "cell_type": "code",
   "execution_count": 8,
   "metadata": {},
   "outputs": [],
   "source": [
    "from sklearn.utils import shuffle\n",
    "X_train2, y_train2 = shuffle(X_train, y_train, random_state=42)"
   ]
  },
  {
   "cell_type": "markdown",
   "metadata": {
    "colab_type": "text",
    "id": "o4dJViJD1Kd0"
   },
   "source": [
    "### Create the model's architecture"
   ]
  },
  {
   "cell_type": "code",
   "execution_count": 9,
   "metadata": {
    "colab": {},
    "colab_type": "code",
    "id": "Tkgf_BLl1Kd1"
   },
   "outputs": [],
   "source": [
    "# insert code here\n",
    "\n",
    "model = Sequential()\n",
    "\n",
    "model.add(Dense(15, activation = 'relu', input_shape = (n_cols, )))\n",
    "# Add the second hidden layer\n",
    "model.add(Dense(5, activation = 'relu'))\n",
    "\n",
    "# Add the output layer\n",
    "model.add(Dense(1, activation = 'sigmoid'))"
   ]
  },
  {
   "cell_type": "code",
   "execution_count": 10,
   "metadata": {},
   "outputs": [
    {
     "name": "stdout",
     "output_type": "stream",
     "text": [
      "Model: \"sequential\"\n",
      "_________________________________________________________________\n",
      "Layer (type)                 Output Shape              Param #   \n",
      "=================================================================\n",
      "dense (Dense)                (None, 15)                165       \n",
      "_________________________________________________________________\n",
      "dense_1 (Dense)              (None, 5)                 80        \n",
      "_________________________________________________________________\n",
      "dense_2 (Dense)              (None, 1)                 6         \n",
      "=================================================================\n",
      "Total params: 251\n",
      "Trainable params: 251\n",
      "Non-trainable params: 0\n",
      "_________________________________________________________________\n",
      "None\n"
     ]
    }
   ],
   "source": [
    "print(model.summary())"
   ]
  },
  {
   "cell_type": "markdown",
   "metadata": {
    "colab_type": "text",
    "id": "5hQTS42V1Kd4"
   },
   "source": [
    "### Compile the model"
   ]
  },
  {
   "cell_type": "code",
   "execution_count": 11,
   "metadata": {
    "colab": {},
    "colab_type": "code",
    "id": "BvLsoanF1Kd5"
   },
   "outputs": [],
   "source": [
    "# insert code here\n",
    "\n",
    "model.compile(\n",
    "    optimizer = 'adam',\n",
    "    loss = 'binary_crossentropy',\n",
    "    metrics = ['accuracy'])"
   ]
  },
  {
   "cell_type": "markdown",
   "metadata": {
    "colab_type": "text",
    "id": "6KPQbnEj1Kd7"
   },
   "source": [
    "### Fit the training data"
   ]
  },
  {
   "cell_type": "code",
   "execution_count": 12,
   "metadata": {
    "colab": {},
    "colab_type": "code",
    "id": "-oiuHjEj1Kd8"
   },
   "outputs": [
    {
     "name": "stdout",
     "output_type": "stream",
     "text": [
      "Epoch 1/100\n",
      "12/12 [==============================] - 2s 56ms/step - loss: -1.2435 - accuracy: 0.0000e+00 - val_loss: -5.5322 - val_accuracy: 0.0000e+00\n",
      "Epoch 2/100\n",
      "12/12 [==============================] - 0s 9ms/step - loss: -9.3227 - accuracy: 0.0000e+00 - val_loss: -14.1154 - val_accuracy: 0.0000e+00\n",
      "Epoch 3/100\n",
      "12/12 [==============================] - 0s 9ms/step - loss: -18.0884 - accuracy: 0.0000e+00 - val_loss: -23.5244 - val_accuracy: 0.0000e+00\n",
      "Epoch 4/100\n",
      "12/12 [==============================] - 0s 9ms/step - loss: -27.9102 - accuracy: 0.0000e+00 - val_loss: -34.3876 - val_accuracy: 0.0000e+00\n",
      "Epoch 5/100\n",
      "12/12 [==============================] - 0s 7ms/step - loss: -39.8630 - accuracy: 0.0000e+00 - val_loss: -46.9673 - val_accuracy: 0.0000e+00\n",
      "Epoch 6/100\n",
      "12/12 [==============================] - 0s 8ms/step - loss: -53.5952 - accuracy: 0.0000e+00 - val_loss: -62.1821 - val_accuracy: 0.0000e+00\n",
      "Epoch 7/100\n",
      "12/12 [==============================] - 0s 8ms/step - loss: -70.0416 - accuracy: 0.0000e+00 - val_loss: -80.0665 - val_accuracy: 0.0000e+00\n",
      "Epoch 8/100\n",
      "12/12 [==============================] - 0s 7ms/step - loss: -89.0007 - accuracy: 0.0000e+00 - val_loss: -100.8254 - val_accuracy: 0.0000e+00\n",
      "Epoch 9/100\n",
      "12/12 [==============================] - 0s 7ms/step - loss: -111.0330 - accuracy: 0.0000e+00 - val_loss: -124.3368 - val_accuracy: 0.0000e+00\n",
      "Epoch 10/100\n",
      "12/12 [==============================] - 0s 7ms/step - loss: -136.4448 - accuracy: 0.0000e+00 - val_loss: -151.0004 - val_accuracy: 0.0000e+00\n",
      "Epoch 11/100\n",
      "12/12 [==============================] - 0s 8ms/step - loss: -164.6821 - accuracy: 0.0000e+00 - val_loss: -181.5279 - val_accuracy: 0.0000e+00\n",
      "Epoch 12/100\n",
      "12/12 [==============================] - 0s 7ms/step - loss: -196.8280 - accuracy: 0.0000e+00 - val_loss: -215.7778 - val_accuracy: 0.0000e+00\n",
      "Epoch 13/100\n",
      "12/12 [==============================] - 0s 7ms/step - loss: -233.0534 - accuracy: 0.0000e+00 - val_loss: -253.6091 - val_accuracy: 0.0000e+00\n",
      "Epoch 14/100\n",
      "12/12 [==============================] - 0s 7ms/step - loss: -273.0210 - accuracy: 0.0000e+00 - val_loss: -295.8776 - val_accuracy: 0.0000e+00\n",
      "Epoch 15/100\n",
      "12/12 [==============================] - 0s 10ms/step - loss: -318.2496 - accuracy: 0.0000e+00 - val_loss: -342.0186 - val_accuracy: 0.0000e+00\n",
      "Epoch 16/100\n",
      "12/12 [==============================] - 0s 8ms/step - loss: -367.0411 - accuracy: 0.0000e+00 - val_loss: -393.3904 - val_accuracy: 0.0000e+00\n",
      "Epoch 17/100\n",
      "12/12 [==============================] - 0s 8ms/step - loss: -421.3866 - accuracy: 0.0000e+00 - val_loss: -449.3157 - val_accuracy: 0.0000e+00\n",
      "Epoch 18/100\n",
      "12/12 [==============================] - 0s 8ms/step - loss: -479.4879 - accuracy: 0.0000e+00 - val_loss: -511.1488 - val_accuracy: 0.0000e+00\n",
      "Epoch 19/100\n",
      "12/12 [==============================] - 0s 8ms/step - loss: -544.6013 - accuracy: 0.0000e+00 - val_loss: -577.0342 - val_accuracy: 0.0000e+00\n",
      "Epoch 20/100\n",
      "12/12 [==============================] - 0s 7ms/step - loss: -613.5323 - accuracy: 0.0000e+00 - val_loss: -649.1303 - val_accuracy: 0.0000e+00\n",
      "Epoch 21/100\n",
      "12/12 [==============================] - 0s 8ms/step - loss: -689.1160 - accuracy: 0.0000e+00 - val_loss: -727.6129 - val_accuracy: 0.0000e+00\n",
      "Epoch 22/100\n",
      "12/12 [==============================] - 0s 7ms/step - loss: -771.7259 - accuracy: 0.0000e+00 - val_loss: -811.6376 - val_accuracy: 0.0000e+00\n",
      "Epoch 23/100\n",
      "12/12 [==============================] - 0s 8ms/step - loss: -860.4344 - accuracy: 0.0000e+00 - val_loss: -902.8852 - val_accuracy: 0.0000e+00\n",
      "Epoch 24/100\n",
      "12/12 [==============================] - 0s 9ms/step - loss: -955.5421 - accuracy: 0.0000e+00 - val_loss: -1000.6671 - val_accuracy: 0.0000e+00\n",
      "Epoch 25/100\n",
      "12/12 [==============================] - 0s 9ms/step - loss: -1056.2878 - accuracy: 0.0000e+00 - val_loss: -1105.0674 - val_accuracy: 0.0000e+00\n",
      "Epoch 26/100\n",
      "12/12 [==============================] - 0s 9ms/step - loss: -1164.5862 - accuracy: 0.0000e+00 - val_loss: -1216.5228 - val_accuracy: 0.0000e+00\n",
      "Epoch 27/100\n",
      "12/12 [==============================] - 0s 8ms/step - loss: -1280.3907 - accuracy: 0.0000e+00 - val_loss: -1334.0336 - val_accuracy: 0.0000e+00\n",
      "Epoch 28/100\n",
      "12/12 [==============================] - 0s 8ms/step - loss: -1401.4348 - accuracy: 0.0000e+00 - val_loss: -1461.2147 - val_accuracy: 0.0000e+00\n",
      "Epoch 29/100\n",
      "12/12 [==============================] - 0s 8ms/step - loss: -1536.0656 - accuracy: 0.0000e+00 - val_loss: -1592.9343 - val_accuracy: 0.0000e+00\n",
      "Epoch 30/100\n",
      "12/12 [==============================] - 0s 8ms/step - loss: -1672.2865 - accuracy: 0.0000e+00 - val_loss: -1736.2081 - val_accuracy: 0.0000e+00\n",
      "Epoch 31/100\n",
      "12/12 [==============================] - 0s 8ms/step - loss: -1822.2251 - accuracy: 0.0000e+00 - val_loss: -1883.6967 - val_accuracy: 0.0000e+00\n",
      "Epoch 32/100\n",
      "12/12 [==============================] - 0s 8ms/step - loss: -1976.8250 - accuracy: 0.0000e+00 - val_loss: -2041.6382 - val_accuracy: 0.0000e+00\n",
      "Epoch 33/100\n",
      "12/12 [==============================] - 0s 8ms/step - loss: -2140.3743 - accuracy: 0.0000e+00 - val_loss: -2209.5825 - val_accuracy: 0.0000e+00\n",
      "Epoch 34/100\n",
      "12/12 [==============================] - 0s 8ms/step - loss: -2312.2605 - accuracy: 0.0000e+00 - val_loss: -2387.4517 - val_accuracy: 0.0000e+00\n",
      "Epoch 35/100\n",
      "12/12 [==============================] - 0s 8ms/step - loss: -2497.1877 - accuracy: 0.0000e+00 - val_loss: -2571.2397 - val_accuracy: 0.0000e+00\n",
      "Epoch 36/100\n",
      "12/12 [==============================] - 0s 8ms/step - loss: -2688.8386 - accuracy: 0.0000e+00 - val_loss: -2765.9492 - val_accuracy: 0.0000e+00\n",
      "Epoch 37/100\n",
      "12/12 [==============================] - 0s 8ms/step - loss: -2890.1606 - accuracy: 0.0000e+00 - val_loss: -2970.8362 - val_accuracy: 0.0000e+00\n",
      "Epoch 38/100\n",
      "12/12 [==============================] - 0s 8ms/step - loss: -3100.3079 - accuracy: 0.0000e+00 - val_loss: -3185.5776 - val_accuracy: 0.0000e+00\n",
      "Epoch 39/100\n",
      "12/12 [==============================] - 0s 8ms/step - loss: -3325.4685 - accuracy: 0.0000e+00 - val_loss: -3406.0769 - val_accuracy: 0.0000e+00\n",
      "Epoch 40/100\n",
      "12/12 [==============================] - 0s 8ms/step - loss: -3551.8101 - accuracy: 0.0000e+00 - val_loss: -3644.2349 - val_accuracy: 0.0000e+00\n",
      "Epoch 41/100\n",
      "12/12 [==============================] - 0s 9ms/step - loss: -3794.0229 - accuracy: 0.0000e+00 - val_loss: -3890.7444 - val_accuracy: 0.0000e+00\n",
      "Epoch 42/100\n",
      "12/12 [==============================] - 0s 9ms/step - loss: -4051.2085 - accuracy: 0.0000e+00 - val_loss: -4141.5723 - val_accuracy: 0.0000e+00\n",
      "Epoch 43/100\n",
      "12/12 [==============================] - 0s 9ms/step - loss: -4308.0288 - accuracy: 0.0000e+00 - val_loss: -4408.2554 - val_accuracy: 0.0000e+00\n",
      "Epoch 44/100\n",
      "12/12 [==============================] - 0s 8ms/step - loss: -4585.5679 - accuracy: 0.0000e+00 - val_loss: -4678.4185 - val_accuracy: 0.0000e+00\n",
      "Epoch 45/100\n",
      "12/12 [==============================] - 0s 8ms/step - loss: -4866.1782 - accuracy: 0.0000e+00 - val_loss: -4964.1660 - val_accuracy: 0.0000e+00\n",
      "Epoch 46/100\n",
      "12/12 [==============================] - 0s 9ms/step - loss: -5158.5293 - accuracy: 0.0000e+00 - val_loss: -5264.4248 - val_accuracy: 0.0000e+00\n",
      "Epoch 47/100\n",
      "12/12 [==============================] - 0s 9ms/step - loss: -5467.0342 - accuracy: 0.0000e+00 - val_loss: -5575.4678 - val_accuracy: 0.0000e+00\n",
      "Epoch 48/100\n",
      "12/12 [==============================] - 0s 8ms/step - loss: -5790.4897 - accuracy: 0.0000e+00 - val_loss: -5892.1660 - val_accuracy: 0.0000e+00\n",
      "Epoch 49/100\n",
      "12/12 [==============================] - 0s 9ms/step - loss: -6110.6768 - accuracy: 0.0000e+00 - val_loss: -6230.1572 - val_accuracy: 0.0000e+00\n",
      "Epoch 50/100\n",
      "12/12 [==============================] - 0s 8ms/step - loss: -6456.7046 - accuracy: 0.0000e+00 - val_loss: -6573.8716 - val_accuracy: 0.0000e+00\n",
      "Epoch 51/100\n",
      "12/12 [==============================] - 0s 8ms/step - loss: -6811.6533 - accuracy: 0.0000e+00 - val_loss: -6926.7549 - val_accuracy: 0.0000e+00\n",
      "Epoch 52/100\n",
      "12/12 [==============================] - 0s 8ms/step - loss: -7178.3394 - accuracy: 0.0000e+00 - val_loss: -7291.1401 - val_accuracy: 0.0000e+00\n",
      "Epoch 53/100\n",
      "12/12 [==============================] - 0s 8ms/step - loss: -7560.4814 - accuracy: 0.0000e+00 - val_loss: -7672.2778 - val_accuracy: 0.0000e+00\n",
      "Epoch 54/100\n",
      "12/12 [==============================] - 0s 8ms/step - loss: -7947.4106 - accuracy: 0.0000e+00 - val_loss: -8074.8550 - val_accuracy: 0.0000e+00\n",
      "Epoch 55/100\n",
      "12/12 [==============================] - 0s 9ms/step - loss: -8355.3105 - accuracy: 0.0000e+00 - val_loss: -8481.6152 - val_accuracy: 0.0000e+00\n",
      "Epoch 56/100\n",
      "12/12 [==============================] - 0s 9ms/step - loss: -8768.2168 - accuracy: 0.0000e+00 - val_loss: -8903.1289 - val_accuracy: 0.0000e+00\n",
      "Epoch 57/100\n",
      "12/12 [==============================] - 0s 8ms/step - loss: -9206.4219 - accuracy: 0.0000e+00 - val_loss: -9328.5732 - val_accuracy: 0.0000e+00\n",
      "Epoch 58/100\n",
      "12/12 [==============================] - 0s 8ms/step - loss: -9648.4834 - accuracy: 0.0000e+00 - val_loss: -9767.6328 - val_accuracy: 0.0000e+00\n",
      "Epoch 59/100\n",
      "12/12 [==============================] - 0s 8ms/step - loss: -10099.6230 - accuracy: 0.0000e+00 - val_loss: -10230.4746 - val_accuracy: 0.0000e+00\n",
      "Epoch 60/100\n",
      "12/12 [==============================] - 0s 8ms/step - loss: -10573.0586 - accuracy: 0.0000e+00 - val_loss: -10705.5322 - val_accuracy: 0.0000e+00\n",
      "Epoch 61/100\n",
      "12/12 [==============================] - 0s 9ms/step - loss: -11061.9111 - accuracy: 0.0000e+00 - val_loss: -11190.7295 - val_accuracy: 0.0000e+00\n",
      "Epoch 62/100\n",
      "12/12 [==============================] - 0s 8ms/step - loss: -11556.5400 - accuracy: 0.0000e+00 - val_loss: -11697.2734 - val_accuracy: 0.0000e+00\n",
      "Epoch 63/100\n",
      "12/12 [==============================] - 0s 8ms/step - loss: -12079.5264 - accuracy: 0.0000e+00 - val_loss: -12205.5244 - val_accuracy: 0.0000e+00\n",
      "Epoch 64/100\n",
      "12/12 [==============================] - 0s 8ms/step - loss: -12598.9766 - accuracy: 0.0000e+00 - val_loss: -12740.7275 - val_accuracy: 0.0000e+00\n",
      "Epoch 65/100\n",
      "12/12 [==============================] - 0s 8ms/step - loss: -13156.1729 - accuracy: 0.0000e+00 - val_loss: -13276.4814 - val_accuracy: 0.0000e+00\n",
      "Epoch 66/100\n",
      "12/12 [==============================] - 0s 9ms/step - loss: -13699.9824 - accuracy: 0.0000e+00 - val_loss: -13843.6729 - val_accuracy: 0.0000e+00\n",
      "Epoch 67/100\n",
      "12/12 [==============================] - 0s 8ms/step - loss: -14278.7529 - accuracy: 0.0000e+00 - val_loss: -14417.5693 - val_accuracy: 0.0000e+00\n",
      "Epoch 68/100\n",
      "12/12 [==============================] - 0s 8ms/step - loss: -14869.1045 - accuracy: 0.0000e+00 - val_loss: -15001.6846 - val_accuracy: 0.0000e+00\n",
      "Epoch 69/100\n",
      "12/12 [==============================] - 0s 9ms/step - loss: -15458.4727 - accuracy: 0.0000e+00 - val_loss: -15611.7646 - val_accuracy: 0.0000e+00\n",
      "Epoch 70/100\n",
      "12/12 [==============================] - 0s 9ms/step - loss: -16084.0059 - accuracy: 0.0000e+00 - val_loss: -16225.6982 - val_accuracy: 0.0000e+00\n",
      "Epoch 71/100\n",
      "12/12 [==============================] - 0s 7ms/step - loss: -16717.4766 - accuracy: 0.0000e+00 - val_loss: -16857.5840 - val_accuracy: 0.0000e+00\n",
      "Epoch 72/100\n",
      "12/12 [==============================] - 0s 8ms/step - loss: -17370.8457 - accuracy: 0.0000e+00 - val_loss: -17499.8906 - val_accuracy: 0.0000e+00\n",
      "Epoch 73/100\n",
      "12/12 [==============================] - 0s 9ms/step - loss: -18023.1270 - accuracy: 0.0000e+00 - val_loss: -18165.1973 - val_accuracy: 0.0000e+00\n",
      "Epoch 74/100\n",
      "12/12 [==============================] - 0s 7ms/step - loss: -18706.3223 - accuracy: 0.0000e+00 - val_loss: -18842.3906 - val_accuracy: 0.0000e+00\n",
      "Epoch 75/100\n",
      "12/12 [==============================] - 0s 7ms/step - loss: -19407.4180 - accuracy: 0.0000e+00 - val_loss: -19535.9512 - val_accuracy: 0.0000e+00\n",
      "Epoch 76/100\n",
      "12/12 [==============================] - 0s 8ms/step - loss: -20112.7871 - accuracy: 0.0000e+00 - val_loss: -20255.7207 - val_accuracy: 0.0000e+00\n",
      "Epoch 77/100\n",
      "12/12 [==============================] - 0s 9ms/step - loss: -20844.5410 - accuracy: 0.0000e+00 - val_loss: -20988.8086 - val_accuracy: 0.0000e+00\n",
      "Epoch 78/100\n",
      "12/12 [==============================] - 0s 8ms/step - loss: -21588.4199 - accuracy: 0.0000e+00 - val_loss: -21729.2910 - val_accuracy: 0.0000e+00\n",
      "Epoch 79/100\n",
      "12/12 [==============================] - 0s 8ms/step - loss: -22341.3945 - accuracy: 0.0000e+00 - val_loss: -22483.8750 - val_accuracy: 0.0000e+00\n",
      "Epoch 80/100\n",
      "12/12 [==============================] - 0s 8ms/step - loss: -23118.9551 - accuracy: 0.0000e+00 - val_loss: -23251.8789 - val_accuracy: 0.0000e+00\n",
      "Epoch 81/100\n",
      "12/12 [==============================] - 0s 8ms/step - loss: -23897.1680 - accuracy: 0.0000e+00 - val_loss: -24045.8613 - val_accuracy: 0.0000e+00\n",
      "Epoch 82/100\n",
      "12/12 [==============================] - 0s 7ms/step - loss: -24721.3848 - accuracy: 0.0000e+00 - val_loss: -24842.0625 - val_accuracy: 0.0000e+00\n",
      "Epoch 83/100\n",
      "12/12 [==============================] - 0s 7ms/step - loss: -25538.0859 - accuracy: 0.0000e+00 - val_loss: -25666.5645 - val_accuracy: 0.0000e+00\n",
      "Epoch 84/100\n",
      "12/12 [==============================] - 0s 8ms/step - loss: -26389.5645 - accuracy: 0.0000e+00 - val_loss: -26500.9863 - val_accuracy: 0.0000e+00\n",
      "Epoch 85/100\n",
      "12/12 [==============================] - 0s 8ms/step - loss: -27232.0605 - accuracy: 0.0000e+00 - val_loss: -27378.0605 - val_accuracy: 0.0000e+00\n",
      "Epoch 86/100\n",
      "12/12 [==============================] - 0s 7ms/step - loss: -28136.5195 - accuracy: 0.0000e+00 - val_loss: -28245.9297 - val_accuracy: 0.0000e+00\n",
      "Epoch 87/100\n",
      "12/12 [==============================] - 0s 8ms/step - loss: -29021.1172 - accuracy: 0.0000e+00 - val_loss: -29148.0938 - val_accuracy: 0.0000e+00\n",
      "Epoch 88/100\n",
      "12/12 [==============================] - 0s 7ms/step - loss: -29946.3145 - accuracy: 0.0000e+00 - val_loss: -30054.3203 - val_accuracy: 0.0000e+00\n",
      "Epoch 89/100\n",
      "12/12 [==============================] - 0s 8ms/step - loss: -30884.2656 - accuracy: 0.0000e+00 - val_loss: -30980.2812 - val_accuracy: 0.0000e+00\n",
      "Epoch 90/100\n",
      "12/12 [==============================] - 0s 9ms/step - loss: -31824.1582 - accuracy: 0.0000e+00 - val_loss: -31940.1406 - val_accuracy: 0.0000e+00\n",
      "Epoch 91/100\n",
      "12/12 [==============================] - 0s 8ms/step - loss: -32793.4375 - accuracy: 0.0000e+00 - val_loss: -32916.1328 - val_accuracy: 0.0000e+00\n",
      "Epoch 92/100\n",
      "12/12 [==============================] - 0s 8ms/step - loss: -33791.7578 - accuracy: 0.0000e+00 - val_loss: -33893.6328 - val_accuracy: 0.0000e+00\n",
      "Epoch 93/100\n",
      "12/12 [==============================] - 0s 8ms/step - loss: -34786.8555 - accuracy: 0.0000e+00 - val_loss: -34890.2188 - val_accuracy: 0.0000e+00\n",
      "Epoch 94/100\n",
      "12/12 [==============================] - 0s 8ms/step - loss: -35816.0000 - accuracy: 0.0000e+00 - val_loss: -35894.9883 - val_accuracy: 0.0000e+00\n",
      "Epoch 95/100\n",
      "12/12 [==============================] - 0s 9ms/step - loss: -36851.1172 - accuracy: 0.0000e+00 - val_loss: -36926.3008 - val_accuracy: 0.0000e+00\n",
      "Epoch 96/100\n",
      "12/12 [==============================] - 0s 8ms/step - loss: -37901.3594 - accuracy: 0.0000e+00 - val_loss: -37978.1250 - val_accuracy: 0.0000e+00\n",
      "Epoch 97/100\n",
      "12/12 [==============================] - 0s 19ms/step - loss: -38970.0469 - accuracy: 0.0000e+00 - val_loss: -39048.9102 - val_accuracy: 0.0000e+00\n",
      "Epoch 98/100\n",
      "12/12 [==============================] - 0s 9ms/step - loss: -40066.6836 - accuracy: 0.0000e+00 - val_loss: -40136.8828 - val_accuracy: 0.0000e+00\n",
      "Epoch 99/100\n",
      "12/12 [==============================] - 0s 12ms/step - loss: -41168.7734 - accuracy: 0.0000e+00 - val_loss: -41253.4180 - val_accuracy: 0.0000e+00\n",
      "Epoch 100/100\n",
      "12/12 [==============================] - 0s 9ms/step - loss: -42293.9492 - accuracy: 0.0000e+00 - val_loss: -42372.1914 - val_accuracy: 0.0000e+00\n",
      "CPU times: total: 28.3 s\n",
      "Wall time: 12.1 s\n"
     ]
    }
   ],
   "source": [
    "%%time\n",
    "# insert code here\n",
    "\n",
    "history = model.fit(\n",
    "    X_train2,\n",
    "    y_train2,\n",
    "    validation_split = 0.25,\n",
    "    batch_size = 20,\n",
    "    epochs = 100,\n",
    "    verbose = 1)"
   ]
  },
  {
   "cell_type": "markdown",
   "metadata": {
    "colab_type": "text",
    "id": "CR-kCu3c1Kd-"
   },
   "source": [
    "### Create predictions"
   ]
  },
  {
   "cell_type": "code",
   "execution_count": 13,
   "metadata": {
    "colab": {},
    "colab_type": "code",
    "id": "wkywKqPg1Kd-"
   },
   "outputs": [],
   "source": [
    "# insert code here\n",
    "\n",
    "predictions = np.argmax(model.predict(X_test),axis=1)"
   ]
  },
  {
   "cell_type": "markdown",
   "metadata": {
    "colab_type": "text",
    "id": "-unEmrGo1KeA"
   },
   "source": [
    "### Evaluate the model"
   ]
  },
  {
   "cell_type": "code",
   "execution_count": 14,
   "metadata": {
    "colab": {},
    "colab_type": "code",
    "id": "QCIVpVrG1KeB"
   },
   "outputs": [],
   "source": [
    "# insert code here\n",
    "\n",
    "#score = model.evaluate(X_test, y_test)\n",
    "#print('\\nTest loss: %.6f, Test accuracy: %.6f' % tuple(score[0]))"
   ]
  },
  {
   "cell_type": "code",
   "execution_count": 15,
   "metadata": {},
   "outputs": [
    {
     "name": "stdout",
     "output_type": "stream",
     "text": [
      "5/5 [==============================] - 0s 2ms/step - loss: -45241.7148 - accuracy: 0.0000e+00\n",
      "\n",
      "Test loss: -45241.714844\n"
     ]
    }
   ],
   "source": [
    "score = model.evaluate(X_test, y_test)\n",
    "print('\\nTest loss: %.6f' % score[0])"
   ]
  },
  {
   "cell_type": "code",
   "execution_count": 16,
   "metadata": {},
   "outputs": [
    {
     "data": {
      "text/plain": [
       "(1.3024179861061524e-14+212.70099869006256j)"
      ]
     },
     "execution_count": 16,
     "metadata": {},
     "output_type": "execute_result"
    }
   ],
   "source": [
    "# Find RMSE\n",
    "score[0] ** (1/2)"
   ]
  },
  {
   "cell_type": "code",
   "execution_count": 17,
   "metadata": {},
   "outputs": [
    {
     "data": {
      "text/plain": [
       "152.13348416289594"
      ]
     },
     "execution_count": 17,
     "metadata": {},
     "output_type": "execute_result"
    }
   ],
   "source": [
    "y.mean()"
   ]
  },
  {
   "cell_type": "code",
   "execution_count": 18,
   "metadata": {},
   "outputs": [
    {
     "data": {
      "text/plain": [
       "77.00574586945044"
      ]
     },
     "execution_count": 18,
     "metadata": {},
     "output_type": "execute_result"
    }
   ],
   "source": [
    "y.std()"
   ]
  },
  {
   "cell_type": "code",
   "execution_count": 19,
   "metadata": {},
   "outputs": [
    {
     "data": {
      "text/plain": [
       "25.0"
      ]
     },
     "execution_count": 19,
     "metadata": {},
     "output_type": "execute_result"
    }
   ],
   "source": [
    "y.min()"
   ]
  },
  {
   "cell_type": "code",
   "execution_count": 20,
   "metadata": {},
   "outputs": [
    {
     "data": {
      "text/plain": [
       "346.0"
      ]
     },
     "execution_count": 20,
     "metadata": {},
     "output_type": "execute_result"
    }
   ],
   "source": [
    "y.max()"
   ]
  },
  {
   "cell_type": "code",
   "execution_count": 21,
   "metadata": {},
   "outputs": [
    {
     "data": {
      "text/plain": [
       "{'loss': [-1.243543267250061,\n",
       "  -9.322653770446777,\n",
       "  -18.088422775268555,\n",
       "  -27.910240173339844,\n",
       "  -39.862979888916016,\n",
       "  -53.59518814086914,\n",
       "  -70.04161834716797,\n",
       "  -89.00070190429688,\n",
       "  -111.03296661376953,\n",
       "  -136.44480895996094,\n",
       "  -164.68209838867188,\n",
       "  -196.8279571533203,\n",
       "  -233.0534210205078,\n",
       "  -273.0209655761719,\n",
       "  -318.2496337890625,\n",
       "  -367.04107666015625,\n",
       "  -421.3866271972656,\n",
       "  -479.48785400390625,\n",
       "  -544.6012573242188,\n",
       "  -613.5323486328125,\n",
       "  -689.1160278320312,\n",
       "  -771.7258911132812,\n",
       "  -860.4343872070312,\n",
       "  -955.5421142578125,\n",
       "  -1056.287841796875,\n",
       "  -1164.586181640625,\n",
       "  -1280.3907470703125,\n",
       "  -1401.434814453125,\n",
       "  -1536.0655517578125,\n",
       "  -1672.2864990234375,\n",
       "  -1822.22509765625,\n",
       "  -1976.824951171875,\n",
       "  -2140.374267578125,\n",
       "  -2312.260498046875,\n",
       "  -2497.187744140625,\n",
       "  -2688.838623046875,\n",
       "  -2890.16064453125,\n",
       "  -3100.307861328125,\n",
       "  -3325.468505859375,\n",
       "  -3551.81005859375,\n",
       "  -3794.02294921875,\n",
       "  -4051.20849609375,\n",
       "  -4308.02880859375,\n",
       "  -4585.56787109375,\n",
       "  -4866.17822265625,\n",
       "  -5158.529296875,\n",
       "  -5467.0341796875,\n",
       "  -5790.48974609375,\n",
       "  -6110.6767578125,\n",
       "  -6456.70458984375,\n",
       "  -6811.6533203125,\n",
       "  -7178.33935546875,\n",
       "  -7560.4814453125,\n",
       "  -7947.41064453125,\n",
       "  -8355.310546875,\n",
       "  -8768.216796875,\n",
       "  -9206.421875,\n",
       "  -9648.4833984375,\n",
       "  -10099.623046875,\n",
       "  -10573.05859375,\n",
       "  -11061.9111328125,\n",
       "  -11556.5400390625,\n",
       "  -12079.5263671875,\n",
       "  -12598.9765625,\n",
       "  -13156.1728515625,\n",
       "  -13699.982421875,\n",
       "  -14278.7529296875,\n",
       "  -14869.1044921875,\n",
       "  -15458.47265625,\n",
       "  -16084.005859375,\n",
       "  -16717.4765625,\n",
       "  -17370.845703125,\n",
       "  -18023.126953125,\n",
       "  -18706.322265625,\n",
       "  -19407.41796875,\n",
       "  -20112.787109375,\n",
       "  -20844.541015625,\n",
       "  -21588.419921875,\n",
       "  -22341.39453125,\n",
       "  -23118.955078125,\n",
       "  -23897.16796875,\n",
       "  -24721.384765625,\n",
       "  -25538.0859375,\n",
       "  -26389.564453125,\n",
       "  -27232.060546875,\n",
       "  -28136.51953125,\n",
       "  -29021.1171875,\n",
       "  -29946.314453125,\n",
       "  -30884.265625,\n",
       "  -31824.158203125,\n",
       "  -32793.4375,\n",
       "  -33791.7578125,\n",
       "  -34786.85546875,\n",
       "  -35816.0,\n",
       "  -36851.1171875,\n",
       "  -37901.359375,\n",
       "  -38970.046875,\n",
       "  -40066.68359375,\n",
       "  -41168.7734375,\n",
       "  -42293.94921875],\n",
       " 'accuracy': [0.0,\n",
       "  0.0,\n",
       "  0.0,\n",
       "  0.0,\n",
       "  0.0,\n",
       "  0.0,\n",
       "  0.0,\n",
       "  0.0,\n",
       "  0.0,\n",
       "  0.0,\n",
       "  0.0,\n",
       "  0.0,\n",
       "  0.0,\n",
       "  0.0,\n",
       "  0.0,\n",
       "  0.0,\n",
       "  0.0,\n",
       "  0.0,\n",
       "  0.0,\n",
       "  0.0,\n",
       "  0.0,\n",
       "  0.0,\n",
       "  0.0,\n",
       "  0.0,\n",
       "  0.0,\n",
       "  0.0,\n",
       "  0.0,\n",
       "  0.0,\n",
       "  0.0,\n",
       "  0.0,\n",
       "  0.0,\n",
       "  0.0,\n",
       "  0.0,\n",
       "  0.0,\n",
       "  0.0,\n",
       "  0.0,\n",
       "  0.0,\n",
       "  0.0,\n",
       "  0.0,\n",
       "  0.0,\n",
       "  0.0,\n",
       "  0.0,\n",
       "  0.0,\n",
       "  0.0,\n",
       "  0.0,\n",
       "  0.0,\n",
       "  0.0,\n",
       "  0.0,\n",
       "  0.0,\n",
       "  0.0,\n",
       "  0.0,\n",
       "  0.0,\n",
       "  0.0,\n",
       "  0.0,\n",
       "  0.0,\n",
       "  0.0,\n",
       "  0.0,\n",
       "  0.0,\n",
       "  0.0,\n",
       "  0.0,\n",
       "  0.0,\n",
       "  0.0,\n",
       "  0.0,\n",
       "  0.0,\n",
       "  0.0,\n",
       "  0.0,\n",
       "  0.0,\n",
       "  0.0,\n",
       "  0.0,\n",
       "  0.0,\n",
       "  0.0,\n",
       "  0.0,\n",
       "  0.0,\n",
       "  0.0,\n",
       "  0.0,\n",
       "  0.0,\n",
       "  0.0,\n",
       "  0.0,\n",
       "  0.0,\n",
       "  0.0,\n",
       "  0.0,\n",
       "  0.0,\n",
       "  0.0,\n",
       "  0.0,\n",
       "  0.0,\n",
       "  0.0,\n",
       "  0.0,\n",
       "  0.0,\n",
       "  0.0,\n",
       "  0.0,\n",
       "  0.0,\n",
       "  0.0,\n",
       "  0.0,\n",
       "  0.0,\n",
       "  0.0,\n",
       "  0.0,\n",
       "  0.0,\n",
       "  0.0,\n",
       "  0.0,\n",
       "  0.0],\n",
       " 'val_loss': [-5.53222131729126,\n",
       "  -14.11538028717041,\n",
       "  -23.52436637878418,\n",
       "  -34.387577056884766,\n",
       "  -46.96732711791992,\n",
       "  -62.18212890625,\n",
       "  -80.06647491455078,\n",
       "  -100.82537841796875,\n",
       "  -124.33675384521484,\n",
       "  -151.00038146972656,\n",
       "  -181.52792358398438,\n",
       "  -215.77780151367188,\n",
       "  -253.609130859375,\n",
       "  -295.8775939941406,\n",
       "  -342.01861572265625,\n",
       "  -393.39044189453125,\n",
       "  -449.3157043457031,\n",
       "  -511.1487731933594,\n",
       "  -577.0341796875,\n",
       "  -649.1303100585938,\n",
       "  -727.6128540039062,\n",
       "  -811.6376342773438,\n",
       "  -902.8851928710938,\n",
       "  -1000.6670532226562,\n",
       "  -1105.0673828125,\n",
       "  -1216.5228271484375,\n",
       "  -1334.0335693359375,\n",
       "  -1461.2147216796875,\n",
       "  -1592.934326171875,\n",
       "  -1736.2081298828125,\n",
       "  -1883.6966552734375,\n",
       "  -2041.63818359375,\n",
       "  -2209.58251953125,\n",
       "  -2387.45166015625,\n",
       "  -2571.23974609375,\n",
       "  -2765.94921875,\n",
       "  -2970.836181640625,\n",
       "  -3185.57763671875,\n",
       "  -3406.076904296875,\n",
       "  -3644.23486328125,\n",
       "  -3890.744384765625,\n",
       "  -4141.572265625,\n",
       "  -4408.25537109375,\n",
       "  -4678.41845703125,\n",
       "  -4964.166015625,\n",
       "  -5264.4248046875,\n",
       "  -5575.4677734375,\n",
       "  -5892.166015625,\n",
       "  -6230.1572265625,\n",
       "  -6573.87158203125,\n",
       "  -6926.7548828125,\n",
       "  -7291.14013671875,\n",
       "  -7672.27783203125,\n",
       "  -8074.85498046875,\n",
       "  -8481.615234375,\n",
       "  -8903.12890625,\n",
       "  -9328.5732421875,\n",
       "  -9767.6328125,\n",
       "  -10230.474609375,\n",
       "  -10705.5322265625,\n",
       "  -11190.7294921875,\n",
       "  -11697.2734375,\n",
       "  -12205.5244140625,\n",
       "  -12740.7275390625,\n",
       "  -13276.4814453125,\n",
       "  -13843.6728515625,\n",
       "  -14417.5693359375,\n",
       "  -15001.6845703125,\n",
       "  -15611.7646484375,\n",
       "  -16225.6982421875,\n",
       "  -16857.583984375,\n",
       "  -17499.890625,\n",
       "  -18165.197265625,\n",
       "  -18842.390625,\n",
       "  -19535.951171875,\n",
       "  -20255.720703125,\n",
       "  -20988.80859375,\n",
       "  -21729.291015625,\n",
       "  -22483.875,\n",
       "  -23251.87890625,\n",
       "  -24045.861328125,\n",
       "  -24842.0625,\n",
       "  -25666.564453125,\n",
       "  -26500.986328125,\n",
       "  -27378.060546875,\n",
       "  -28245.9296875,\n",
       "  -29148.09375,\n",
       "  -30054.3203125,\n",
       "  -30980.28125,\n",
       "  -31940.140625,\n",
       "  -32916.1328125,\n",
       "  -33893.6328125,\n",
       "  -34890.21875,\n",
       "  -35894.98828125,\n",
       "  -36926.30078125,\n",
       "  -37978.125,\n",
       "  -39048.91015625,\n",
       "  -40136.8828125,\n",
       "  -41253.41796875,\n",
       "  -42372.19140625],\n",
       " 'val_accuracy': [0.0,\n",
       "  0.0,\n",
       "  0.0,\n",
       "  0.0,\n",
       "  0.0,\n",
       "  0.0,\n",
       "  0.0,\n",
       "  0.0,\n",
       "  0.0,\n",
       "  0.0,\n",
       "  0.0,\n",
       "  0.0,\n",
       "  0.0,\n",
       "  0.0,\n",
       "  0.0,\n",
       "  0.0,\n",
       "  0.0,\n",
       "  0.0,\n",
       "  0.0,\n",
       "  0.0,\n",
       "  0.0,\n",
       "  0.0,\n",
       "  0.0,\n",
       "  0.0,\n",
       "  0.0,\n",
       "  0.0,\n",
       "  0.0,\n",
       "  0.0,\n",
       "  0.0,\n",
       "  0.0,\n",
       "  0.0,\n",
       "  0.0,\n",
       "  0.0,\n",
       "  0.0,\n",
       "  0.0,\n",
       "  0.0,\n",
       "  0.0,\n",
       "  0.0,\n",
       "  0.0,\n",
       "  0.0,\n",
       "  0.0,\n",
       "  0.0,\n",
       "  0.0,\n",
       "  0.0,\n",
       "  0.0,\n",
       "  0.0,\n",
       "  0.0,\n",
       "  0.0,\n",
       "  0.0,\n",
       "  0.0,\n",
       "  0.0,\n",
       "  0.0,\n",
       "  0.0,\n",
       "  0.0,\n",
       "  0.0,\n",
       "  0.0,\n",
       "  0.0,\n",
       "  0.0,\n",
       "  0.0,\n",
       "  0.0,\n",
       "  0.0,\n",
       "  0.0,\n",
       "  0.0,\n",
       "  0.0,\n",
       "  0.0,\n",
       "  0.0,\n",
       "  0.0,\n",
       "  0.0,\n",
       "  0.0,\n",
       "  0.0,\n",
       "  0.0,\n",
       "  0.0,\n",
       "  0.0,\n",
       "  0.0,\n",
       "  0.0,\n",
       "  0.0,\n",
       "  0.0,\n",
       "  0.0,\n",
       "  0.0,\n",
       "  0.0,\n",
       "  0.0,\n",
       "  0.0,\n",
       "  0.0,\n",
       "  0.0,\n",
       "  0.0,\n",
       "  0.0,\n",
       "  0.0,\n",
       "  0.0,\n",
       "  0.0,\n",
       "  0.0,\n",
       "  0.0,\n",
       "  0.0,\n",
       "  0.0,\n",
       "  0.0,\n",
       "  0.0,\n",
       "  0.0,\n",
       "  0.0,\n",
       "  0.0,\n",
       "  0.0,\n",
       "  0.0]}"
      ]
     },
     "execution_count": 21,
     "metadata": {},
     "output_type": "execute_result"
    }
   ],
   "source": [
    "history.history"
   ]
  },
  {
   "cell_type": "markdown",
   "metadata": {
    "colab_type": "text",
    "id": "sSlqjs7e1KeD"
   },
   "source": [
    "### Visualisation of cost"
   ]
  },
  {
   "cell_type": "code",
   "execution_count": 22,
   "metadata": {
    "colab": {},
    "colab_type": "code",
    "id": "1F6hYpNh1KeE",
    "scrolled": true
   },
   "outputs": [
    {
     "data": {
      "image/png": "[encoded data removed]",
      "text/plain": [
       "<Figure size 720x432 with 2 Axes>"
      ]
     },
     "metadata": {
      "needs_background": "light"
     },
     "output_type": "display_data"
    }
   ],
   "source": [
    "# insert code here\n",
    "\n",
    "\n",
    "fig, ax = plt.subplots(1, 2, figsize = (10, 6))\n",
    "fig.subplots_adjust(left = 0.02, right = 0.98, wspace = 0.2)\n",
    "\n",
    "plt.rcParams.update({'font.size': 18})\n",
    "\n",
    "# Plot training & validation accuracy values\n",
    "ax[0].plot(history.history['accuracy'], label = 'Training')\n",
    "ax[0].plot(history.history['val_accuracy'], label = 'Validation')\n",
    "ax[0].set_title('Model accuracy')\n",
    "ax[0].set_ylabel('Accuracy')\n",
    "ax[0].set_xlabel('Epoch')\n",
    "ax[0].legend()\n",
    "\n",
    "# Plot training & validation loss values\n",
    "ax[1].plot(history.history['loss'], label = 'Training')\n",
    "ax[1].plot(history.history['val_loss'], label = 'Validation')\n",
    "ax[1].set_title('Model loss')\n",
    "ax[1].set_ylabel('Loss')\n",
    "ax[1].set_xlabel('Epoch')\n",
    "ax[1].legend()\n",
    "\n",
    "plt.show()"
   ]
  },
  {
   "cell_type": "markdown",
   "metadata": {
    "colab_type": "text",
    "id": "vQLzMZTM1KeG"
   },
   "source": [
    "### Visualisation of residuals"
   ]
  },
  {
   "cell_type": "code",
   "execution_count": 23,
   "metadata": {
    "colab": {},
    "colab_type": "code",
    "id": "opIulVSw1KeH"
   },
   "outputs": [],
   "source": [
    "# insert code here\n",
    "from sklearn.metrics import r2_score\n",
    "# Calculate R2 and adjusted R2\n",
    "r2 = r2_score(y_test, predictions)\n",
    "n, p = X.shape # sample size, number of explanatory variables\n",
    "adjusted_r2 = 1 - (1 - r2) * ((n - 1) / (n - p - 1))"
   ]
  },
  {
   "cell_type": "code",
   "execution_count": 24,
   "metadata": {},
   "outputs": [
    {
     "data": {
      "image/png": "[encoded data removed]",
      "text/plain": [
       "<Figure size 1080x432 with 1 Axes>"
      ]
     },
     "metadata": {
      "needs_background": "light"
     },
     "output_type": "display_data"
    }
   ],
   "source": [
    "difference = predictions.flatten() - y_test\n",
    "d_mean = difference.mean()\n",
    "d_std = difference.std()\n",
    "n_pred = len(predictions)\n",
    "plt.figure(figsize = (15, 6))\n",
    "plt.scatter(range(n_pred), difference, s = 15)\n",
    "plt.hlines(d_mean + d_std, 0, n_pred, 'r', lw = 1, label = '$\\pm \\: std$')\n",
    "plt.hlines(d_mean, 0, n_pred, label = '$mean$')\n",
    "plt.hlines(d_mean - d_std, 0, n_pred, 'r', lw = 1)\n",
    "plt.xlabel('Prediction')\n",
    "plt.ylabel('$\\hat y - y$')\n",
    "plt.legend()\n",
    "plt.text(0, difference.max() * 0.95,\n",
    "         '$R^2: %.2f, \\: Adjusted \\: R^2: %.2f$' % (r2, adjusted_r2),\n",
    "         fontsize = 12)\n",
    "plt.show()"
   ]
  },
  {
   "cell_type": "code",
   "execution_count": null,
   "metadata": {},
   "outputs": [],
   "source": []
  },
  {
   "cell_type": "markdown",
   "metadata": {
    "colab_type": "text",
    "id": "RERADKgNFq9T"
   },
   "source": [
    "\n",
    "\n",
    "---\n",
    "\n",
    "\n",
    "\n",
    "---\n",
    "\n",
    "\n",
    "\n",
    "> > > > > > > > > © 2021 Institute of Data\n",
    "\n",
    "\n",
    "---\n",
    "\n",
    "\n",
    "\n",
    "---\n",
    "\n",
    "\n",
    "\n"
   ]
  }
 ],
 "metadata": {
  "colab": {
   "collapsed_sections": [],
   "name": "DSIA Lab-10_1.ipynb",
   "provenance": []
  },
  "kernelspec": {
   "display_name": "Python 3 (ipykernel)",
   "language": "python",
   "name": "python3"
  },
  "language_info": {
   "codemirror_mode": {
    "name": "ipython",
    "version": 3
   },
   "file_extension": ".py",
   "mimetype": "text/x-python",
   "name": "python",
   "nbconvert_exporter": "python",
   "pygments_lexer": "ipython3",
   "version": "3.9.7"
  }
 },
 "nbformat": 4,
 "nbformat_minor": 4
}
