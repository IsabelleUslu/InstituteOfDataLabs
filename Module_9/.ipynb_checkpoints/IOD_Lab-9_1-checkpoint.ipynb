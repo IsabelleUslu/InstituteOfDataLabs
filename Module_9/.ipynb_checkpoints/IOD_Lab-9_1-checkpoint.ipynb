{
 "cells": [
  {
   "cell_type": "markdown",
   "metadata": {
    "colab_type": "text",
    "id": "gn3SG1yo1KdV"
   },
   "source": [
    "<div>\n",
    "<img src=https://www.institutedata.com/wp-content/uploads/2019/10/iod_h_tp_primary_c.svg width=\"300\">\n",
    "</div>"
   ]
  },
  {
   "cell_type": "markdown",
   "metadata": {
    "colab_type": "text",
    "id": "g-SD7a9X1KdY"
   },
   "source": [
    "# Lab 9.1: NN with Keras\n",
    "INSTRUCTIONS:\n",
    "- Read the guides and hints, then create the necessary analysis and code to find an answer and conclusion for the task below.\n",
    "- **NOTE**: This is a Regression problem. Consider the appropriate:\n",
    "    - Activation function\n",
    "    - Loss/Cost Function\n",
    "    - Metrics"
   ]
  },
  {
   "cell_type": "markdown",
   "metadata": {
    "colab_type": "text",
    "id": "ENgfRnvL1Kdc"
   },
   "source": [
    "### Import libraries"
   ]
  },
  {
   "cell_type": "code",
   "execution_count": 5,
   "metadata": {
    "colab": {},
    "colab_type": "code",
    "id": "Z9H465X-1Kde"
   },
   "outputs": [],
   "source": [
    "# insert code here\n",
    "\n",
    "## Import libraries\n",
    "import numpy as np\n",
    "import pandas as pd\n",
    "\n",
    "%matplotlib inline\n",
    "import matplotlib.pyplot as plt\n",
    "\n",
    "from sklearn.datasets import load_diabetes\n",
    "from sklearn.metrics import confusion_matrix\n",
    "from sklearn.model_selection import train_test_split\n",
    "\n",
    "import keras\n",
    "import tensorflow as tf\n",
    "from keras.models import Sequential\n",
    "from keras.layers import Dense\n",
    "from tensorflow.keras.utils import to_categorical"
   ]
  },
  {
   "cell_type": "markdown",
   "metadata": {
    "colab_type": "text",
    "id": "5FHh910J1Kdm"
   },
   "source": [
    "### Load data\n",
    "Load the Diabetes dataset from **SciKit-Learn**."
   ]
  },
  {
   "cell_type": "code",
   "execution_count": 9,
   "metadata": {
    "colab": {},
    "colab_type": "code",
    "id": "MWu8SlQF1Kdo"
   },
   "outputs": [
    {
     "name": "stdout",
     "output_type": "stream",
     "text": [
      ".. _diabetes_dataset:\n",
      "\n",
      "Diabetes dataset\n",
      "----------------\n",
      "\n",
      "Ten baseline variables, age, sex, body mass index, average blood\n",
      "pressure, and six blood serum measurements were obtained for each of n =\n",
      "442 diabetes patients, as well as the response of interest, a\n",
      "quantitative measure of disease progression one year after baseline.\n",
      "\n",
      "**Data Set Characteristics:**\n",
      "\n",
      "  :Number of Instances: 442\n",
      "\n",
      "  :Number of Attributes: First 10 columns are numeric predictive values\n",
      "\n",
      "  :Target: Column 11 is a quantitative measure of disease progression one year after baseline\n",
      "\n",
      "  :Attribute Information:\n",
      "      - age     age in years\n",
      "      - sex\n",
      "      - bmi     body mass index\n",
      "      - bp      average blood pressure\n",
      "      - s1      tc, total serum cholesterol\n",
      "      - s2      ldl, low-density lipoproteins\n",
      "      - s3      hdl, high-density lipoproteins\n",
      "      - s4      tch, total cholesterol / HDL\n",
      "      - s5      ltg, possibly log of serum triglycerides level\n",
      "      - s6      glu, blood sugar level\n",
      "\n",
      "Note: Each of these 10 feature variables have been mean centered and scaled by the standard deviation times `n_samples` (i.e. the sum of squares of each column totals 1).\n",
      "\n",
      "Source URL:\n",
      "https://www4.stat.ncsu.edu/~boos/var.select/diabetes.html\n",
      "\n",
      "For more information see:\n",
      "Bradley Efron, Trevor Hastie, Iain Johnstone and Robert Tibshirani (2004) \"Least Angle Regression,\" Annals of Statistics (with discussion), 407-499.\n",
      "(https://web.stanford.edu/~hastie/Papers/LARS/LeastAngle_2002.pdf)\n"
     ]
    }
   ],
   "source": [
    "# insert code here\n",
    "\n",
    "df = load_diabetes()\n",
    "\n",
    "print(df.DESCR)"
   ]
  },
  {
   "cell_type": "markdown",
   "metadata": {
    "colab_type": "text",
    "id": "xR_yLpR01Kdr"
   },
   "source": [
    "### Prepare input data"
   ]
  },
  {
   "cell_type": "code",
   "execution_count": 18,
   "metadata": {
    "colab": {},
    "colab_type": "code",
    "id": "Sp2mf2bB1Kds"
   },
   "outputs": [],
   "source": [
    "# insert code here\n",
    "\n",
    "X = df.data  #.astype(np.uint8)\n",
    "n_cols = X.shape[1]\n",
    "\n",
    "# output\n",
    "target = df.target  #.astype(np.uint8)\n",
    "\n",
    "# Convert the target to categorical\n",
    "#y = to_categorical(\n",
    "    #target,\n",
    "    #num_classes = len(set(target)))\n",
    "    #,dtype = 'uint8')"
   ]
  },
  {
   "cell_type": "markdown",
   "metadata": {
    "colab_type": "text",
    "id": "j1Vsh6cm1Kdv"
   },
   "source": [
    "### Split the data (training/test)"
   ]
  },
  {
   "cell_type": "code",
   "execution_count": 19,
   "metadata": {
    "colab": {},
    "colab_type": "code",
    "id": "O341llJz1Kdw"
   },
   "outputs": [],
   "source": [
    "# insert code here\n",
    "\n",
    "X_train, X_test, y_train, y_test = train_test_split(\n",
    "    X, y, \n",
    "    test_size = 0.3,\n",
    "    random_state = 65)"
   ]
  },
  {
   "cell_type": "code",
   "execution_count": 21,
   "metadata": {},
   "outputs": [
    {
     "data": {
      "text/plain": [
       "(442, 10)"
      ]
     },
     "execution_count": 21,
     "metadata": {},
     "output_type": "execute_result"
    }
   ],
   "source": [
    "X.shape"
   ]
  },
  {
   "cell_type": "code",
   "execution_count": 22,
   "metadata": {},
   "outputs": [
    {
     "data": {
      "text/plain": [
       "(442,)"
      ]
     },
     "execution_count": 22,
     "metadata": {},
     "output_type": "execute_result"
    }
   ],
   "source": [
    "y.shape"
   ]
  },
  {
   "cell_type": "markdown",
   "metadata": {
    "colab_type": "text",
    "id": "o4dJViJD1Kd0"
   },
   "source": [
    "### Create the model's architecture"
   ]
  },
  {
   "cell_type": "code",
   "execution_count": 64,
   "metadata": {
    "colab": {},
    "colab_type": "code",
    "id": "Tkgf_BLl1Kd1"
   },
   "outputs": [],
   "source": [
    "# insert code here\n",
    "\n",
    "model = Sequential()\n",
    "\n",
    "model.add(Dense(15, activation = 'relu', input_shape = (n_cols, )))\n",
    "# Add the second hidden layer\n",
    "model.add(Dense(5, activation = 'relu'))\n",
    "\n",
    "# Add the output layer\n",
    "model.add(Dense(1, activation = 'linear'))"
   ]
  },
  {
   "cell_type": "code",
   "execution_count": 65,
   "metadata": {},
   "outputs": [
    {
     "name": "stdout",
     "output_type": "stream",
     "text": [
      "Model: \"sequential_4\"\n",
      "_________________________________________________________________\n",
      "Layer (type)                 Output Shape              Param #   \n",
      "=================================================================\n",
      "dense_9 (Dense)              (None, 15)                165       \n",
      "_________________________________________________________________\n",
      "dense_10 (Dense)             (None, 5)                 80        \n",
      "_________________________________________________________________\n",
      "dense_11 (Dense)             (None, 1)                 6         \n",
      "=================================================================\n",
      "Total params: 251\n",
      "Trainable params: 251\n",
      "Non-trainable params: 0\n",
      "_________________________________________________________________\n",
      "None\n"
     ]
    }
   ],
   "source": [
    "print(model.summary())"
   ]
  },
  {
   "cell_type": "markdown",
   "metadata": {
    "colab_type": "text",
    "id": "5hQTS42V1Kd4"
   },
   "source": [
    "### Compile the model"
   ]
  },
  {
   "cell_type": "code",
   "execution_count": 66,
   "metadata": {
    "colab": {},
    "colab_type": "code",
    "id": "BvLsoanF1Kd5"
   },
   "outputs": [],
   "source": [
    "# insert code here\n",
    "\n",
    "model.compile(\n",
    "    optimizer = 'adam',\n",
    "    loss = 'categorical_crossentropy',\n",
    "    metrics = ['accuracy'])"
   ]
  },
  {
   "cell_type": "markdown",
   "metadata": {
    "colab_type": "text",
    "id": "6KPQbnEj1Kd7"
   },
   "source": [
    "### Fit the training data"
   ]
  },
  {
   "cell_type": "code",
   "execution_count": 67,
   "metadata": {
    "colab": {},
    "colab_type": "code",
    "id": "-oiuHjEj1Kd8"
   },
   "outputs": [
    {
     "name": "stdout",
     "output_type": "stream",
     "text": [
      "Epoch 1/100\n",
      "12/12 [==============================] - 1s 36ms/step - loss: 1.7691e-05 - accuracy: 0.0000e+00 - val_loss: 1.8786e-05 - val_accuracy: 0.0000e+00\n",
      "Epoch 2/100\n",
      "12/12 [==============================] - 0s 3ms/step - loss: 1.7691e-05 - accuracy: 0.0000e+00 - val_loss: 1.8786e-05 - val_accuracy: 0.0000e+00\n",
      "Epoch 3/100\n",
      "12/12 [==============================] - 0s 3ms/step - loss: 1.7691e-05 - accuracy: 0.0000e+00 - val_loss: 1.8786e-05 - val_accuracy: 0.0000e+00\n",
      "Epoch 4/100\n",
      "12/12 [==============================] - 0s 3ms/step - loss: 1.7691e-05 - accuracy: 0.0000e+00 - val_loss: 1.8786e-05 - val_accuracy: 0.0000e+00\n",
      "Epoch 5/100\n",
      "12/12 [==============================] - 0s 3ms/step - loss: 1.7691e-05 - accuracy: 0.0000e+00 - val_loss: 1.8786e-05 - val_accuracy: 0.0000e+00\n",
      "Epoch 6/100\n",
      "12/12 [==============================] - 0s 3ms/step - loss: 1.7691e-05 - accuracy: 0.0000e+00 - val_loss: 1.8786e-05 - val_accuracy: 0.0000e+00\n",
      "Epoch 7/100\n",
      "12/12 [==============================] - 0s 3ms/step - loss: 1.7691e-05 - accuracy: 0.0000e+00 - val_loss: 1.8786e-05 - val_accuracy: 0.0000e+00\n",
      "Epoch 8/100\n",
      "12/12 [==============================] - 0s 3ms/step - loss: 1.7691e-05 - accuracy: 0.0000e+00 - val_loss: 1.8786e-05 - val_accuracy: 0.0000e+00\n",
      "Epoch 9/100\n",
      "12/12 [==============================] - 0s 3ms/step - loss: 1.7691e-05 - accuracy: 0.0000e+00 - val_loss: 1.8786e-05 - val_accuracy: 0.0000e+00\n",
      "Epoch 10/100\n",
      "12/12 [==============================] - 0s 3ms/step - loss: 1.7691e-05 - accuracy: 0.0000e+00 - val_loss: 1.8786e-05 - val_accuracy: 0.0000e+00\n",
      "Epoch 11/100\n",
      "12/12 [==============================] - 0s 3ms/step - loss: 1.7691e-05 - accuracy: 0.0000e+00 - val_loss: 1.8786e-05 - val_accuracy: 0.0000e+00\n",
      "Epoch 12/100\n",
      "12/12 [==============================] - 0s 3ms/step - loss: 1.7691e-05 - accuracy: 0.0000e+00 - val_loss: 1.8786e-05 - val_accuracy: 0.0000e+00\n",
      "Epoch 13/100\n",
      "12/12 [==============================] - 0s 3ms/step - loss: 1.7691e-05 - accuracy: 0.0000e+00 - val_loss: 1.8786e-05 - val_accuracy: 0.0000e+00\n",
      "Epoch 14/100\n",
      "12/12 [==============================] - 0s 3ms/step - loss: 1.7691e-05 - accuracy: 0.0000e+00 - val_loss: 1.8786e-05 - val_accuracy: 0.0000e+00\n",
      "Epoch 15/100\n",
      "12/12 [==============================] - 0s 3ms/step - loss: 1.7691e-05 - accuracy: 0.0000e+00 - val_loss: 1.8786e-05 - val_accuracy: 0.0000e+00\n",
      "Epoch 16/100\n",
      "12/12 [==============================] - 0s 3ms/step - loss: 1.7691e-05 - accuracy: 0.0000e+00 - val_loss: 1.8786e-05 - val_accuracy: 0.0000e+00\n",
      "Epoch 17/100\n",
      "12/12 [==============================] - 0s 3ms/step - loss: 1.7691e-05 - accuracy: 0.0000e+00 - val_loss: 1.8786e-05 - val_accuracy: 0.0000e+00\n",
      "Epoch 18/100\n",
      "12/12 [==============================] - 0s 3ms/step - loss: 1.7691e-05 - accuracy: 0.0000e+00 - val_loss: 1.8786e-05 - val_accuracy: 0.0000e+00\n",
      "Epoch 19/100\n",
      "12/12 [==============================] - 0s 3ms/step - loss: 1.7691e-05 - accuracy: 0.0000e+00 - val_loss: 1.8786e-05 - val_accuracy: 0.0000e+00\n",
      "Epoch 20/100\n",
      "12/12 [==============================] - 0s 3ms/step - loss: 1.7691e-05 - accuracy: 0.0000e+00 - val_loss: 1.8786e-05 - val_accuracy: 0.0000e+00\n",
      "Epoch 21/100\n",
      "12/12 [==============================] - 0s 3ms/step - loss: 1.7691e-05 - accuracy: 0.0000e+00 - val_loss: 1.8786e-05 - val_accuracy: 0.0000e+00\n",
      "Epoch 22/100\n",
      "12/12 [==============================] - 0s 3ms/step - loss: 1.7691e-05 - accuracy: 0.0000e+00 - val_loss: 1.8786e-05 - val_accuracy: 0.0000e+00\n",
      "Epoch 23/100\n",
      "12/12 [==============================] - 0s 3ms/step - loss: 1.7691e-05 - accuracy: 0.0000e+00 - val_loss: 1.8786e-05 - val_accuracy: 0.0000e+00\n",
      "Epoch 24/100\n",
      "12/12 [==============================] - 0s 3ms/step - loss: 1.7691e-05 - accuracy: 0.0000e+00 - val_loss: 1.8786e-05 - val_accuracy: 0.0000e+00\n",
      "Epoch 25/100\n",
      "12/12 [==============================] - 0s 3ms/step - loss: 1.7691e-05 - accuracy: 0.0000e+00 - val_loss: 1.8786e-05 - val_accuracy: 0.0000e+00\n",
      "Epoch 26/100\n",
      "12/12 [==============================] - 0s 3ms/step - loss: 1.7691e-05 - accuracy: 0.0000e+00 - val_loss: 1.8786e-05 - val_accuracy: 0.0000e+00\n",
      "Epoch 27/100\n",
      "12/12 [==============================] - 0s 3ms/step - loss: 1.7691e-05 - accuracy: 0.0000e+00 - val_loss: 1.8786e-05 - val_accuracy: 0.0000e+00\n",
      "Epoch 28/100\n",
      "12/12 [==============================] - 0s 3ms/step - loss: 1.7691e-05 - accuracy: 0.0000e+00 - val_loss: 1.8786e-05 - val_accuracy: 0.0000e+00\n",
      "Epoch 29/100\n",
      "12/12 [==============================] - 0s 3ms/step - loss: 1.7691e-05 - accuracy: 0.0000e+00 - val_loss: 1.8786e-05 - val_accuracy: 0.0000e+00\n",
      "Epoch 30/100\n",
      "12/12 [==============================] - 0s 3ms/step - loss: 1.7691e-05 - accuracy: 0.0000e+00 - val_loss: 1.8786e-05 - val_accuracy: 0.0000e+00\n",
      "Epoch 31/100\n",
      "12/12 [==============================] - 0s 3ms/step - loss: 1.7691e-05 - accuracy: 0.0000e+00 - val_loss: 1.8786e-05 - val_accuracy: 0.0000e+00\n",
      "Epoch 32/100\n",
      "12/12 [==============================] - 0s 3ms/step - loss: 1.7691e-05 - accuracy: 0.0000e+00 - val_loss: 1.8786e-05 - val_accuracy: 0.0000e+00\n",
      "Epoch 33/100\n",
      "12/12 [==============================] - 0s 3ms/step - loss: 1.7691e-05 - accuracy: 0.0000e+00 - val_loss: 1.8786e-05 - val_accuracy: 0.0000e+00\n",
      "Epoch 34/100\n",
      "12/12 [==============================] - 0s 3ms/step - loss: 1.7691e-05 - accuracy: 0.0000e+00 - val_loss: 1.8786e-05 - val_accuracy: 0.0000e+00\n",
      "Epoch 35/100\n",
      "12/12 [==============================] - 0s 3ms/step - loss: 1.7691e-05 - accuracy: 0.0000e+00 - val_loss: 1.8786e-05 - val_accuracy: 0.0000e+00\n",
      "Epoch 36/100\n",
      "12/12 [==============================] - 0s 3ms/step - loss: 1.7691e-05 - accuracy: 0.0000e+00 - val_loss: 1.8786e-05 - val_accuracy: 0.0000e+00\n",
      "Epoch 37/100\n",
      "12/12 [==============================] - 0s 3ms/step - loss: 1.7691e-05 - accuracy: 0.0000e+00 - val_loss: 1.8786e-05 - val_accuracy: 0.0000e+00\n",
      "Epoch 38/100\n",
      "12/12 [==============================] - 0s 3ms/step - loss: 1.7691e-05 - accuracy: 0.0000e+00 - val_loss: 1.8786e-05 - val_accuracy: 0.0000e+00\n",
      "Epoch 39/100\n",
      "12/12 [==============================] - 0s 3ms/step - loss: 1.7691e-05 - accuracy: 0.0000e+00 - val_loss: 1.8786e-05 - val_accuracy: 0.0000e+00\n",
      "Epoch 40/100\n",
      "12/12 [==============================] - 0s 3ms/step - loss: 1.7691e-05 - accuracy: 0.0000e+00 - val_loss: 1.8786e-05 - val_accuracy: 0.0000e+00\n",
      "Epoch 41/100\n",
      "12/12 [==============================] - 0s 3ms/step - loss: 1.7691e-05 - accuracy: 0.0000e+00 - val_loss: 1.8786e-05 - val_accuracy: 0.0000e+00\n",
      "Epoch 42/100\n",
      "12/12 [==============================] - 0s 3ms/step - loss: 1.7691e-05 - accuracy: 0.0000e+00 - val_loss: 1.8786e-05 - val_accuracy: 0.0000e+00\n",
      "Epoch 43/100\n",
      "12/12 [==============================] - 0s 3ms/step - loss: 1.7691e-05 - accuracy: 0.0000e+00 - val_loss: 1.8786e-05 - val_accuracy: 0.0000e+00\n",
      "Epoch 44/100\n",
      "12/12 [==============================] - 0s 3ms/step - loss: 1.7691e-05 - accuracy: 0.0000e+00 - val_loss: 1.8786e-05 - val_accuracy: 0.0000e+00\n",
      "Epoch 45/100\n",
      "12/12 [==============================] - 0s 3ms/step - loss: 1.7691e-05 - accuracy: 0.0000e+00 - val_loss: 1.8786e-05 - val_accuracy: 0.0000e+00\n",
      "Epoch 46/100\n",
      "12/12 [==============================] - 0s 3ms/step - loss: 1.7691e-05 - accuracy: 0.0000e+00 - val_loss: 1.8786e-05 - val_accuracy: 0.0000e+00\n",
      "Epoch 47/100\n",
      "12/12 [==============================] - 0s 3ms/step - loss: 1.7691e-05 - accuracy: 0.0000e+00 - val_loss: 1.8786e-05 - val_accuracy: 0.0000e+00\n",
      "Epoch 48/100\n",
      "12/12 [==============================] - 0s 3ms/step - loss: 1.7691e-05 - accuracy: 0.0000e+00 - val_loss: 1.8786e-05 - val_accuracy: 0.0000e+00\n",
      "Epoch 49/100\n",
      "12/12 [==============================] - 0s 3ms/step - loss: 1.7691e-05 - accuracy: 0.0000e+00 - val_loss: 1.8786e-05 - val_accuracy: 0.0000e+00\n",
      "Epoch 50/100\n",
      "12/12 [==============================] - 0s 3ms/step - loss: 1.7691e-05 - accuracy: 0.0000e+00 - val_loss: 1.8786e-05 - val_accuracy: 0.0000e+00\n",
      "Epoch 51/100\n",
      "12/12 [==============================] - 0s 3ms/step - loss: 1.7691e-05 - accuracy: 0.0000e+00 - val_loss: 1.8786e-05 - val_accuracy: 0.0000e+00\n",
      "Epoch 52/100\n",
      "12/12 [==============================] - 0s 3ms/step - loss: 1.7691e-05 - accuracy: 0.0000e+00 - val_loss: 1.8786e-05 - val_accuracy: 0.0000e+00\n",
      "Epoch 53/100\n",
      "12/12 [==============================] - 0s 3ms/step - loss: 1.7691e-05 - accuracy: 0.0000e+00 - val_loss: 1.8786e-05 - val_accuracy: 0.0000e+00\n",
      "Epoch 54/100\n",
      "12/12 [==============================] - 0s 3ms/step - loss: 1.7691e-05 - accuracy: 0.0000e+00 - val_loss: 1.8786e-05 - val_accuracy: 0.0000e+00\n",
      "Epoch 55/100\n",
      "12/12 [==============================] - 0s 3ms/step - loss: 1.7691e-05 - accuracy: 0.0000e+00 - val_loss: 1.8786e-05 - val_accuracy: 0.0000e+00\n",
      "Epoch 56/100\n",
      "12/12 [==============================] - 0s 3ms/step - loss: 1.7691e-05 - accuracy: 0.0000e+00 - val_loss: 1.8786e-05 - val_accuracy: 0.0000e+00\n",
      "Epoch 57/100\n",
      "12/12 [==============================] - 0s 3ms/step - loss: 1.7691e-05 - accuracy: 0.0000e+00 - val_loss: 1.8786e-05 - val_accuracy: 0.0000e+00\n",
      "Epoch 58/100\n",
      "12/12 [==============================] - 0s 3ms/step - loss: 1.7691e-05 - accuracy: 0.0000e+00 - val_loss: 1.8786e-05 - val_accuracy: 0.0000e+00\n",
      "Epoch 59/100\n",
      "12/12 [==============================] - 0s 3ms/step - loss: 1.7691e-05 - accuracy: 0.0000e+00 - val_loss: 1.8786e-05 - val_accuracy: 0.0000e+00\n",
      "Epoch 60/100\n",
      "12/12 [==============================] - 0s 3ms/step - loss: 1.7691e-05 - accuracy: 0.0000e+00 - val_loss: 1.8786e-05 - val_accuracy: 0.0000e+00\n",
      "Epoch 61/100\n",
      "12/12 [==============================] - 0s 3ms/step - loss: 1.7691e-05 - accuracy: 0.0000e+00 - val_loss: 1.8786e-05 - val_accuracy: 0.0000e+00\n",
      "Epoch 62/100\n",
      "12/12 [==============================] - 0s 3ms/step - loss: 1.7691e-05 - accuracy: 0.0000e+00 - val_loss: 1.8786e-05 - val_accuracy: 0.0000e+00\n",
      "Epoch 63/100\n",
      "12/12 [==============================] - 0s 3ms/step - loss: 1.7691e-05 - accuracy: 0.0000e+00 - val_loss: 1.8786e-05 - val_accuracy: 0.0000e+00\n",
      "Epoch 64/100\n",
      "12/12 [==============================] - 0s 3ms/step - loss: 1.7691e-05 - accuracy: 0.0000e+00 - val_loss: 1.8786e-05 - val_accuracy: 0.0000e+00\n",
      "Epoch 65/100\n",
      "12/12 [==============================] - 0s 3ms/step - loss: 1.7691e-05 - accuracy: 0.0000e+00 - val_loss: 1.8786e-05 - val_accuracy: 0.0000e+00\n",
      "Epoch 66/100\n",
      "12/12 [==============================] - 0s 3ms/step - loss: 1.7691e-05 - accuracy: 0.0000e+00 - val_loss: 1.8786e-05 - val_accuracy: 0.0000e+00\n",
      "Epoch 67/100\n",
      "12/12 [==============================] - 0s 3ms/step - loss: 1.7691e-05 - accuracy: 0.0000e+00 - val_loss: 1.8786e-05 - val_accuracy: 0.0000e+00\n",
      "Epoch 68/100\n",
      "12/12 [==============================] - 0s 3ms/step - loss: 1.7691e-05 - accuracy: 0.0000e+00 - val_loss: 1.8786e-05 - val_accuracy: 0.0000e+00\n",
      "Epoch 69/100\n",
      "12/12 [==============================] - 0s 3ms/step - loss: 1.7691e-05 - accuracy: 0.0000e+00 - val_loss: 1.8786e-05 - val_accuracy: 0.0000e+00\n",
      "Epoch 70/100\n",
      "12/12 [==============================] - 0s 3ms/step - loss: 1.7691e-05 - accuracy: 0.0000e+00 - val_loss: 1.8786e-05 - val_accuracy: 0.0000e+00\n",
      "Epoch 71/100\n",
      "12/12 [==============================] - 0s 3ms/step - loss: 1.7691e-05 - accuracy: 0.0000e+00 - val_loss: 1.8786e-05 - val_accuracy: 0.0000e+00\n",
      "Epoch 72/100\n",
      "12/12 [==============================] - 0s 3ms/step - loss: 1.7691e-05 - accuracy: 0.0000e+00 - val_loss: 1.8786e-05 - val_accuracy: 0.0000e+00\n",
      "Epoch 73/100\n",
      "12/12 [==============================] - 0s 3ms/step - loss: 1.7691e-05 - accuracy: 0.0000e+00 - val_loss: 1.8786e-05 - val_accuracy: 0.0000e+00\n",
      "Epoch 74/100\n",
      "12/12 [==============================] - 0s 3ms/step - loss: 1.7691e-05 - accuracy: 0.0000e+00 - val_loss: 1.8786e-05 - val_accuracy: 0.0000e+00\n",
      "Epoch 75/100\n",
      "12/12 [==============================] - 0s 3ms/step - loss: 1.7691e-05 - accuracy: 0.0000e+00 - val_loss: 1.8786e-05 - val_accuracy: 0.0000e+00\n",
      "Epoch 76/100\n",
      "12/12 [==============================] - 0s 3ms/step - loss: 1.7691e-05 - accuracy: 0.0000e+00 - val_loss: 1.8786e-05 - val_accuracy: 0.0000e+00\n",
      "Epoch 77/100\n",
      "12/12 [==============================] - 0s 3ms/step - loss: 1.7691e-05 - accuracy: 0.0000e+00 - val_loss: 1.8786e-05 - val_accuracy: 0.0000e+00\n",
      "Epoch 78/100\n",
      "12/12 [==============================] - 0s 3ms/step - loss: 1.7691e-05 - accuracy: 0.0000e+00 - val_loss: 1.8786e-05 - val_accuracy: 0.0000e+00\n",
      "Epoch 79/100\n",
      "12/12 [==============================] - 0s 3ms/step - loss: 1.7691e-05 - accuracy: 0.0000e+00 - val_loss: 1.8786e-05 - val_accuracy: 0.0000e+00\n",
      "Epoch 80/100\n",
      "12/12 [==============================] - 0s 3ms/step - loss: 1.7691e-05 - accuracy: 0.0000e+00 - val_loss: 1.8786e-05 - val_accuracy: 0.0000e+00\n",
      "Epoch 81/100\n",
      "12/12 [==============================] - 0s 3ms/step - loss: 1.7691e-05 - accuracy: 0.0000e+00 - val_loss: 1.8786e-05 - val_accuracy: 0.0000e+00\n",
      "Epoch 82/100\n",
      "12/12 [==============================] - 0s 3ms/step - loss: 1.7691e-05 - accuracy: 0.0000e+00 - val_loss: 1.8786e-05 - val_accuracy: 0.0000e+00\n",
      "Epoch 83/100\n",
      "12/12 [==============================] - 0s 3ms/step - loss: 1.7691e-05 - accuracy: 0.0000e+00 - val_loss: 1.8786e-05 - val_accuracy: 0.0000e+00\n",
      "Epoch 84/100\n",
      "12/12 [==============================] - 0s 3ms/step - loss: 1.7691e-05 - accuracy: 0.0000e+00 - val_loss: 1.8786e-05 - val_accuracy: 0.0000e+00\n",
      "Epoch 85/100\n",
      "12/12 [==============================] - 0s 3ms/step - loss: 1.7691e-05 - accuracy: 0.0000e+00 - val_loss: 1.8786e-05 - val_accuracy: 0.0000e+00\n",
      "Epoch 86/100\n",
      "12/12 [==============================] - 0s 3ms/step - loss: 1.7691e-05 - accuracy: 0.0000e+00 - val_loss: 1.8786e-05 - val_accuracy: 0.0000e+00\n",
      "Epoch 87/100\n",
      "12/12 [==============================] - 0s 3ms/step - loss: 1.7691e-05 - accuracy: 0.0000e+00 - val_loss: 1.8786e-05 - val_accuracy: 0.0000e+00\n",
      "Epoch 88/100\n",
      "12/12 [==============================] - 0s 3ms/step - loss: 1.7691e-05 - accuracy: 0.0000e+00 - val_loss: 1.8786e-05 - val_accuracy: 0.0000e+00\n",
      "Epoch 89/100\n",
      "12/12 [==============================] - 0s 3ms/step - loss: 1.7691e-05 - accuracy: 0.0000e+00 - val_loss: 1.8786e-05 - val_accuracy: 0.0000e+00\n",
      "Epoch 90/100\n",
      "12/12 [==============================] - 0s 3ms/step - loss: 1.7691e-05 - accuracy: 0.0000e+00 - val_loss: 1.8786e-05 - val_accuracy: 0.0000e+00\n",
      "Epoch 91/100\n",
      "12/12 [==============================] - 0s 3ms/step - loss: 1.7691e-05 - accuracy: 0.0000e+00 - val_loss: 1.8786e-05 - val_accuracy: 0.0000e+00\n",
      "Epoch 92/100\n",
      "12/12 [==============================] - 0s 3ms/step - loss: 1.7691e-05 - accuracy: 0.0000e+00 - val_loss: 1.8786e-05 - val_accuracy: 0.0000e+00\n",
      "Epoch 93/100\n",
      "12/12 [==============================] - 0s 3ms/step - loss: 1.7691e-05 - accuracy: 0.0000e+00 - val_loss: 1.8786e-05 - val_accuracy: 0.0000e+00\n",
      "Epoch 94/100\n",
      "12/12 [==============================] - 0s 3ms/step - loss: 1.7691e-05 - accuracy: 0.0000e+00 - val_loss: 1.8786e-05 - val_accuracy: 0.0000e+00\n",
      "Epoch 95/100\n",
      "12/12 [==============================] - 0s 3ms/step - loss: 1.7691e-05 - accuracy: 0.0000e+00 - val_loss: 1.8786e-05 - val_accuracy: 0.0000e+00\n",
      "Epoch 96/100\n",
      "12/12 [==============================] - 0s 3ms/step - loss: 1.7691e-05 - accuracy: 0.0000e+00 - val_loss: 1.8786e-05 - val_accuracy: 0.0000e+00\n",
      "Epoch 97/100\n",
      "12/12 [==============================] - 0s 3ms/step - loss: 1.7691e-05 - accuracy: 0.0000e+00 - val_loss: 1.8786e-05 - val_accuracy: 0.0000e+00\n",
      "Epoch 98/100\n",
      "12/12 [==============================] - 0s 3ms/step - loss: 1.7691e-05 - accuracy: 0.0000e+00 - val_loss: 1.8786e-05 - val_accuracy: 0.0000e+00\n",
      "Epoch 99/100\n",
      "12/12 [==============================] - 0s 3ms/step - loss: 1.7691e-05 - accuracy: 0.0000e+00 - val_loss: 1.8786e-05 - val_accuracy: 0.0000e+00\n",
      "Epoch 100/100\n",
      "12/12 [==============================] - 0s 3ms/step - loss: 1.7691e-05 - accuracy: 0.0000e+00 - val_loss: 1.8786e-05 - val_accuracy: 0.0000e+00\n",
      "CPU times: total: 20.9 s\n",
      "Wall time: 4.42 s\n"
     ]
    }
   ],
   "source": [
    "%%time\n",
    "# insert code here\n",
    "\n",
    "history = model.fit(\n",
    "    X_train,\n",
    "    y_train,\n",
    "    validation_split = 0.25,\n",
    "    batch_size = 20,\n",
    "    epochs = 100,\n",
    "    verbose = 1)"
   ]
  },
  {
   "cell_type": "markdown",
   "metadata": {
    "colab_type": "text",
    "id": "CR-kCu3c1Kd-"
   },
   "source": [
    "### Create predictions"
   ]
  },
  {
   "cell_type": "code",
   "execution_count": 68,
   "metadata": {
    "colab": {},
    "colab_type": "code",
    "id": "wkywKqPg1Kd-"
   },
   "outputs": [],
   "source": [
    "# insert code here\n",
    "\n",
    "predictions = np.argmax(model.predict(X_test),axis=1)"
   ]
  },
  {
   "cell_type": "markdown",
   "metadata": {
    "colab_type": "text",
    "id": "-unEmrGo1KeA"
   },
   "source": [
    "### Evaluate the model"
   ]
  },
  {
   "cell_type": "code",
   "execution_count": 69,
   "metadata": {
    "colab": {},
    "colab_type": "code",
    "id": "QCIVpVrG1KeB"
   },
   "outputs": [],
   "source": [
    "# insert code here\n",
    "\n",
    "#score = model.evaluate(X_test, y_test)\n",
    "#print('\\nTest loss: %.6f, Test accuracy: %.6f' % tuple(score[0]))"
   ]
  },
  {
   "cell_type": "code",
   "execution_count": 70,
   "metadata": {},
   "outputs": [
    {
     "name": "stdout",
     "output_type": "stream",
     "text": [
      "5/5 [==============================] - 0s 1ms/step - loss: 1.8526e-05 - accuracy: 0.0000e+00\n",
      "\n",
      "Test loss: 0.000019\n"
     ]
    }
   ],
   "source": [
    "score = model.evaluate(X_test, y_test)\n",
    "print('\\nTest loss: %.6f' % score[0])"
   ]
  },
  {
   "cell_type": "code",
   "execution_count": 71,
   "metadata": {},
   "outputs": [
    {
     "data": {
      "text/plain": [
       "0.004304166006021242"
      ]
     },
     "execution_count": 71,
     "metadata": {},
     "output_type": "execute_result"
    }
   ],
   "source": [
    "# Find RMSE\n",
    "score[0] ** (1/2)"
   ]
  },
  {
   "cell_type": "code",
   "execution_count": 72,
   "metadata": {},
   "outputs": [
    {
     "data": {
      "text/plain": [
       "152.13348416289594"
      ]
     },
     "execution_count": 72,
     "metadata": {},
     "output_type": "execute_result"
    }
   ],
   "source": [
    "y.mean()"
   ]
  },
  {
   "cell_type": "code",
   "execution_count": 73,
   "metadata": {},
   "outputs": [
    {
     "data": {
      "text/plain": [
       "77.00574586945044"
      ]
     },
     "execution_count": 73,
     "metadata": {},
     "output_type": "execute_result"
    }
   ],
   "source": [
    "y.std()"
   ]
  },
  {
   "cell_type": "code",
   "execution_count": 74,
   "metadata": {},
   "outputs": [
    {
     "data": {
      "text/plain": [
       "25.0"
      ]
     },
     "execution_count": 74,
     "metadata": {},
     "output_type": "execute_result"
    }
   ],
   "source": [
    "y.min()"
   ]
  },
  {
   "cell_type": "code",
   "execution_count": 75,
   "metadata": {},
   "outputs": [
    {
     "data": {
      "text/plain": [
       "346.0"
      ]
     },
     "execution_count": 75,
     "metadata": {},
     "output_type": "execute_result"
    }
   ],
   "source": [
    "y.max()"
   ]
  },
  {
   "cell_type": "code",
   "execution_count": 76,
   "metadata": {},
   "outputs": [
    {
     "data": {
      "text/plain": [
       "{'loss': [1.769148548191879e-05,\n",
       "  1.769148548191879e-05,\n",
       "  1.769148548191879e-05,\n",
       "  1.769148548191879e-05,\n",
       "  1.769148548191879e-05,\n",
       "  1.769148548191879e-05,\n",
       "  1.769148548191879e-05,\n",
       "  1.769148548191879e-05,\n",
       "  1.769148548191879e-05,\n",
       "  1.769148548191879e-05,\n",
       "  1.769148548191879e-05,\n",
       "  1.769148548191879e-05,\n",
       "  1.769148548191879e-05,\n",
       "  1.769148548191879e-05,\n",
       "  1.769148548191879e-05,\n",
       "  1.769148548191879e-05,\n",
       "  1.769148548191879e-05,\n",
       "  1.769148548191879e-05,\n",
       "  1.769148548191879e-05,\n",
       "  1.769148548191879e-05,\n",
       "  1.769148548191879e-05,\n",
       "  1.769148548191879e-05,\n",
       "  1.769148548191879e-05,\n",
       "  1.769148548191879e-05,\n",
       "  1.769148548191879e-05,\n",
       "  1.769148548191879e-05,\n",
       "  1.769148548191879e-05,\n",
       "  1.769148548191879e-05,\n",
       "  1.769148548191879e-05,\n",
       "  1.769148548191879e-05,\n",
       "  1.769148548191879e-05,\n",
       "  1.769148548191879e-05,\n",
       "  1.769148548191879e-05,\n",
       "  1.769148548191879e-05,\n",
       "  1.769148548191879e-05,\n",
       "  1.769148548191879e-05,\n",
       "  1.769148548191879e-05,\n",
       "  1.769148548191879e-05,\n",
       "  1.769148548191879e-05,\n",
       "  1.769148548191879e-05,\n",
       "  1.769148548191879e-05,\n",
       "  1.769148548191879e-05,\n",
       "  1.769148548191879e-05,\n",
       "  1.769148548191879e-05,\n",
       "  1.769148548191879e-05,\n",
       "  1.769148548191879e-05,\n",
       "  1.769148548191879e-05,\n",
       "  1.769148548191879e-05,\n",
       "  1.769148548191879e-05,\n",
       "  1.769148548191879e-05,\n",
       "  1.769148548191879e-05,\n",
       "  1.769148548191879e-05,\n",
       "  1.769148548191879e-05,\n",
       "  1.769148548191879e-05,\n",
       "  1.769148548191879e-05,\n",
       "  1.769148548191879e-05,\n",
       "  1.769148548191879e-05,\n",
       "  1.769148548191879e-05,\n",
       "  1.769148548191879e-05,\n",
       "  1.769148548191879e-05,\n",
       "  1.769148548191879e-05,\n",
       "  1.769148548191879e-05,\n",
       "  1.769148548191879e-05,\n",
       "  1.769148548191879e-05,\n",
       "  1.769148548191879e-05,\n",
       "  1.769148548191879e-05,\n",
       "  1.769148548191879e-05,\n",
       "  1.769148548191879e-05,\n",
       "  1.769148548191879e-05,\n",
       "  1.769148548191879e-05,\n",
       "  1.769148548191879e-05,\n",
       "  1.769148548191879e-05,\n",
       "  1.769148548191879e-05,\n",
       "  1.769148548191879e-05,\n",
       "  1.769148548191879e-05,\n",
       "  1.769148548191879e-05,\n",
       "  1.769148548191879e-05,\n",
       "  1.769148548191879e-05,\n",
       "  1.769148548191879e-05,\n",
       "  1.769148548191879e-05,\n",
       "  1.769148548191879e-05,\n",
       "  1.769148548191879e-05,\n",
       "  1.769148548191879e-05,\n",
       "  1.769148548191879e-05,\n",
       "  1.769148548191879e-05,\n",
       "  1.769148548191879e-05,\n",
       "  1.769148548191879e-05,\n",
       "  1.769148548191879e-05,\n",
       "  1.769148548191879e-05,\n",
       "  1.769148548191879e-05,\n",
       "  1.769148548191879e-05,\n",
       "  1.769148548191879e-05,\n",
       "  1.769148548191879e-05,\n",
       "  1.769148548191879e-05,\n",
       "  1.769148548191879e-05,\n",
       "  1.769148548191879e-05,\n",
       "  1.769148548191879e-05,\n",
       "  1.769148548191879e-05,\n",
       "  1.769148548191879e-05,\n",
       "  1.769148548191879e-05],\n",
       " 'accuracy': [0.0,\n",
       "  0.0,\n",
       "  0.0,\n",
       "  0.0,\n",
       "  0.0,\n",
       "  0.0,\n",
       "  0.0,\n",
       "  0.0,\n",
       "  0.0,\n",
       "  0.0,\n",
       "  0.0,\n",
       "  0.0,\n",
       "  0.0,\n",
       "  0.0,\n",
       "  0.0,\n",
       "  0.0,\n",
       "  0.0,\n",
       "  0.0,\n",
       "  0.0,\n",
       "  0.0,\n",
       "  0.0,\n",
       "  0.0,\n",
       "  0.0,\n",
       "  0.0,\n",
       "  0.0,\n",
       "  0.0,\n",
       "  0.0,\n",
       "  0.0,\n",
       "  0.0,\n",
       "  0.0,\n",
       "  0.0,\n",
       "  0.0,\n",
       "  0.0,\n",
       "  0.0,\n",
       "  0.0,\n",
       "  0.0,\n",
       "  0.0,\n",
       "  0.0,\n",
       "  0.0,\n",
       "  0.0,\n",
       "  0.0,\n",
       "  0.0,\n",
       "  0.0,\n",
       "  0.0,\n",
       "  0.0,\n",
       "  0.0,\n",
       "  0.0,\n",
       "  0.0,\n",
       "  0.0,\n",
       "  0.0,\n",
       "  0.0,\n",
       "  0.0,\n",
       "  0.0,\n",
       "  0.0,\n",
       "  0.0,\n",
       "  0.0,\n",
       "  0.0,\n",
       "  0.0,\n",
       "  0.0,\n",
       "  0.0,\n",
       "  0.0,\n",
       "  0.0,\n",
       "  0.0,\n",
       "  0.0,\n",
       "  0.0,\n",
       "  0.0,\n",
       "  0.0,\n",
       "  0.0,\n",
       "  0.0,\n",
       "  0.0,\n",
       "  0.0,\n",
       "  0.0,\n",
       "  0.0,\n",
       "  0.0,\n",
       "  0.0,\n",
       "  0.0,\n",
       "  0.0,\n",
       "  0.0,\n",
       "  0.0,\n",
       "  0.0,\n",
       "  0.0,\n",
       "  0.0,\n",
       "  0.0,\n",
       "  0.0,\n",
       "  0.0,\n",
       "  0.0,\n",
       "  0.0,\n",
       "  0.0,\n",
       "  0.0,\n",
       "  0.0,\n",
       "  0.0,\n",
       "  0.0,\n",
       "  0.0,\n",
       "  0.0,\n",
       "  0.0,\n",
       "  0.0,\n",
       "  0.0,\n",
       "  0.0,\n",
       "  0.0,\n",
       "  0.0],\n",
       " 'val_loss': [1.8786164218909107e-05,\n",
       "  1.8786164218909107e-05,\n",
       "  1.8786164218909107e-05,\n",
       "  1.8786164218909107e-05,\n",
       "  1.8786164218909107e-05,\n",
       "  1.8786164218909107e-05,\n",
       "  1.8786164218909107e-05,\n",
       "  1.8786164218909107e-05,\n",
       "  1.8786164218909107e-05,\n",
       "  1.8786164218909107e-05,\n",
       "  1.8786164218909107e-05,\n",
       "  1.8786164218909107e-05,\n",
       "  1.8786164218909107e-05,\n",
       "  1.8786164218909107e-05,\n",
       "  1.8786164218909107e-05,\n",
       "  1.8786164218909107e-05,\n",
       "  1.8786164218909107e-05,\n",
       "  1.8786164218909107e-05,\n",
       "  1.8786164218909107e-05,\n",
       "  1.8786164218909107e-05,\n",
       "  1.8786164218909107e-05,\n",
       "  1.8786164218909107e-05,\n",
       "  1.8786164218909107e-05,\n",
       "  1.8786164218909107e-05,\n",
       "  1.8786164218909107e-05,\n",
       "  1.8786164218909107e-05,\n",
       "  1.8786164218909107e-05,\n",
       "  1.8786164218909107e-05,\n",
       "  1.8786164218909107e-05,\n",
       "  1.8786164218909107e-05,\n",
       "  1.8786164218909107e-05,\n",
       "  1.8786164218909107e-05,\n",
       "  1.8786164218909107e-05,\n",
       "  1.8786164218909107e-05,\n",
       "  1.8786164218909107e-05,\n",
       "  1.8786164218909107e-05,\n",
       "  1.8786164218909107e-05,\n",
       "  1.8786164218909107e-05,\n",
       "  1.8786164218909107e-05,\n",
       "  1.8786164218909107e-05,\n",
       "  1.8786164218909107e-05,\n",
       "  1.8786164218909107e-05,\n",
       "  1.8786164218909107e-05,\n",
       "  1.8786164218909107e-05,\n",
       "  1.8786164218909107e-05,\n",
       "  1.8786164218909107e-05,\n",
       "  1.8786164218909107e-05,\n",
       "  1.8786164218909107e-05,\n",
       "  1.8786164218909107e-05,\n",
       "  1.8786164218909107e-05,\n",
       "  1.8786164218909107e-05,\n",
       "  1.8786164218909107e-05,\n",
       "  1.8786164218909107e-05,\n",
       "  1.8786164218909107e-05,\n",
       "  1.8786164218909107e-05,\n",
       "  1.8786164218909107e-05,\n",
       "  1.8786164218909107e-05,\n",
       "  1.8786164218909107e-05,\n",
       "  1.8786164218909107e-05,\n",
       "  1.8786164218909107e-05,\n",
       "  1.8786164218909107e-05,\n",
       "  1.8786164218909107e-05,\n",
       "  1.8786164218909107e-05,\n",
       "  1.8786164218909107e-05,\n",
       "  1.8786164218909107e-05,\n",
       "  1.8786164218909107e-05,\n",
       "  1.8786164218909107e-05,\n",
       "  1.8786164218909107e-05,\n",
       "  1.8786164218909107e-05,\n",
       "  1.8786164218909107e-05,\n",
       "  1.8786164218909107e-05,\n",
       "  1.8786164218909107e-05,\n",
       "  1.8786164218909107e-05,\n",
       "  1.8786164218909107e-05,\n",
       "  1.8786164218909107e-05,\n",
       "  1.8786164218909107e-05,\n",
       "  1.8786164218909107e-05,\n",
       "  1.8786164218909107e-05,\n",
       "  1.8786164218909107e-05,\n",
       "  1.8786164218909107e-05,\n",
       "  1.8786164218909107e-05,\n",
       "  1.8786164218909107e-05,\n",
       "  1.8786164218909107e-05,\n",
       "  1.8786164218909107e-05,\n",
       "  1.8786164218909107e-05,\n",
       "  1.8786164218909107e-05,\n",
       "  1.8786164218909107e-05,\n",
       "  1.8786164218909107e-05,\n",
       "  1.8786164218909107e-05,\n",
       "  1.8786164218909107e-05,\n",
       "  1.8786164218909107e-05,\n",
       "  1.8786164218909107e-05,\n",
       "  1.8786164218909107e-05,\n",
       "  1.8786164218909107e-05,\n",
       "  1.8786164218909107e-05,\n",
       "  1.8786164218909107e-05,\n",
       "  1.8786164218909107e-05,\n",
       "  1.8786164218909107e-05,\n",
       "  1.8786164218909107e-05,\n",
       "  1.8786164218909107e-05],\n",
       " 'val_accuracy': [0.0,\n",
       "  0.0,\n",
       "  0.0,\n",
       "  0.0,\n",
       "  0.0,\n",
       "  0.0,\n",
       "  0.0,\n",
       "  0.0,\n",
       "  0.0,\n",
       "  0.0,\n",
       "  0.0,\n",
       "  0.0,\n",
       "  0.0,\n",
       "  0.0,\n",
       "  0.0,\n",
       "  0.0,\n",
       "  0.0,\n",
       "  0.0,\n",
       "  0.0,\n",
       "  0.0,\n",
       "  0.0,\n",
       "  0.0,\n",
       "  0.0,\n",
       "  0.0,\n",
       "  0.0,\n",
       "  0.0,\n",
       "  0.0,\n",
       "  0.0,\n",
       "  0.0,\n",
       "  0.0,\n",
       "  0.0,\n",
       "  0.0,\n",
       "  0.0,\n",
       "  0.0,\n",
       "  0.0,\n",
       "  0.0,\n",
       "  0.0,\n",
       "  0.0,\n",
       "  0.0,\n",
       "  0.0,\n",
       "  0.0,\n",
       "  0.0,\n",
       "  0.0,\n",
       "  0.0,\n",
       "  0.0,\n",
       "  0.0,\n",
       "  0.0,\n",
       "  0.0,\n",
       "  0.0,\n",
       "  0.0,\n",
       "  0.0,\n",
       "  0.0,\n",
       "  0.0,\n",
       "  0.0,\n",
       "  0.0,\n",
       "  0.0,\n",
       "  0.0,\n",
       "  0.0,\n",
       "  0.0,\n",
       "  0.0,\n",
       "  0.0,\n",
       "  0.0,\n",
       "  0.0,\n",
       "  0.0,\n",
       "  0.0,\n",
       "  0.0,\n",
       "  0.0,\n",
       "  0.0,\n",
       "  0.0,\n",
       "  0.0,\n",
       "  0.0,\n",
       "  0.0,\n",
       "  0.0,\n",
       "  0.0,\n",
       "  0.0,\n",
       "  0.0,\n",
       "  0.0,\n",
       "  0.0,\n",
       "  0.0,\n",
       "  0.0,\n",
       "  0.0,\n",
       "  0.0,\n",
       "  0.0,\n",
       "  0.0,\n",
       "  0.0,\n",
       "  0.0,\n",
       "  0.0,\n",
       "  0.0,\n",
       "  0.0,\n",
       "  0.0,\n",
       "  0.0,\n",
       "  0.0,\n",
       "  0.0,\n",
       "  0.0,\n",
       "  0.0,\n",
       "  0.0,\n",
       "  0.0,\n",
       "  0.0,\n",
       "  0.0,\n",
       "  0.0]}"
      ]
     },
     "execution_count": 76,
     "metadata": {},
     "output_type": "execute_result"
    }
   ],
   "source": [
    "history.history"
   ]
  },
  {
   "cell_type": "markdown",
   "metadata": {
    "colab_type": "text",
    "id": "sSlqjs7e1KeD"
   },
   "source": [
    "### Visualisation of cost"
   ]
  },
  {
   "cell_type": "code",
   "execution_count": 77,
   "metadata": {
    "colab": {},
    "colab_type": "code",
    "id": "1F6hYpNh1KeE",
    "scrolled": true
   },
   "outputs": [
    {
     "data": {
      "image/png": "[encoded data removed]",
      "text/plain": [
       "<Figure size 1296x432 with 2 Axes>"
      ]
     },
     "metadata": {
      "needs_background": "light"
     },
     "output_type": "display_data"
    }
   ],
   "source": [
    "# insert code here\n",
    "\n",
    "\n",
    "fig, ax = plt.subplots(1, 2, figsize = (18, 6))\n",
    "fig.subplots_adjust(left = 0.02, right = 0.98, wspace = 0.2)\n",
    "\n",
    "plt.rcParams.update({'font.size': 18})\n",
    "\n",
    "# Plot training & validation accuracy values\n",
    "ax[0].plot(history.history['accuracy'], label = 'Training')\n",
    "ax[0].plot(history.history['val_accuracy'], label = 'Validation')\n",
    "ax[0].set_title('Model accuracy')\n",
    "ax[0].set_ylabel('Accuracy')\n",
    "ax[0].set_xlabel('Epoch')\n",
    "ax[0].legend()\n",
    "\n",
    "# Plot training & validation loss values\n",
    "ax[1].plot(history.history['loss'], label = 'Training')\n",
    "ax[1].plot(history.history['val_loss'], label = 'Validation')\n",
    "ax[1].set_title('Model loss')\n",
    "ax[1].set_ylabel('Loss')\n",
    "ax[1].set_xlabel('Epoch')\n",
    "ax[1].legend()\n",
    "\n",
    "plt.show()"
   ]
  },
  {
   "cell_type": "markdown",
   "metadata": {
    "colab_type": "text",
    "id": "vQLzMZTM1KeG"
   },
   "source": [
    "### Visualisation of residuals"
   ]
  },
  {
   "cell_type": "code",
   "execution_count": 79,
   "metadata": {
    "colab": {},
    "colab_type": "code",
    "id": "opIulVSw1KeH"
   },
   "outputs": [],
   "source": [
    "# insert code here\n",
    "from sklearn.metrics import r2_score\n",
    "# Calculate R2 and adjusted R2\n",
    "r2 = r2_score(y_test, predictions)\n",
    "n, p = X.shape # sample size, number of explanatory variables\n",
    "adjusted_r2 = 1 - (1 - r2) * ((n - 1) / (n - p - 1))"
   ]
  },
  {
   "cell_type": "code",
   "execution_count": 80,
   "metadata": {},
   "outputs": [
    {
     "data": {
      "image/png": "[encoded data removed]",
      "text/plain": [
       "<Figure size 1080x432 with 1 Axes>"
      ]
     },
     "metadata": {
      "needs_background": "light"
     },
     "output_type": "display_data"
    }
   ],
   "source": [
    "difference = predictions.flatten() - y_test\n",
    "d_mean = difference.mean()\n",
    "d_std = difference.std()\n",
    "n_pred = len(predictions)\n",
    "plt.figure(figsize = (15, 6))\n",
    "plt.scatter(range(n_pred), difference, s = 15)\n",
    "plt.hlines(d_mean + d_std, 0, n_pred, 'r', lw = 1, label = '$\\pm \\: std$')\n",
    "plt.hlines(d_mean, 0, n_pred, label = '$mean$')\n",
    "plt.hlines(d_mean - d_std, 0, n_pred, 'r', lw = 1)\n",
    "plt.xlabel('Prediction')\n",
    "plt.ylabel('$\\hat y - y$')\n",
    "plt.legend()\n",
    "plt.text(0, difference.max() * 0.95,\n",
    "         '$R^2: %.2f, \\: Adjusted \\: R^2: %.2f$' % (r2, adjusted_r2),\n",
    "         fontsize = 12)\n",
    "plt.show()"
   ]
  },
  {
   "cell_type": "code",
   "execution_count": null,
   "metadata": {},
   "outputs": [],
   "source": []
  },
  {
   "cell_type": "markdown",
   "metadata": {
    "colab_type": "text",
    "id": "RERADKgNFq9T"
   },
   "source": [
    "\n",
    "\n",
    "---\n",
    "\n",
    "\n",
    "\n",
    "---\n",
    "\n",
    "\n",
    "\n",
    "> > > > > > > > > © 2021 Institute of Data\n",
    "\n",
    "\n",
    "---\n",
    "\n",
    "\n",
    "\n",
    "---\n",
    "\n",
    "\n",
    "\n"
   ]
  }
 ],
 "metadata": {
  "colab": {
   "collapsed_sections": [],
   "name": "DSIA Lab-10_1.ipynb",
   "provenance": []
  },
  "kernelspec": {
   "display_name": "Python 3 (ipykernel)",
   "language": "python",
   "name": "python3"
  },
  "language_info": {
   "codemirror_mode": {
    "name": "ipython",
    "version": 3
   },
   "file_extension": ".py",
   "mimetype": "text/x-python",
   "name": "python",
   "nbconvert_exporter": "python",
   "pygments_lexer": "ipython3",
   "version": "3.9.7"
  }
 },
 "nbformat": 4,
 "nbformat_minor": 4
}
