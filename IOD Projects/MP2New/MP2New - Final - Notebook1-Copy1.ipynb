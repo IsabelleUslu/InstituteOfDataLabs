{
 "cells": [
  {
   "cell_type": "code",
   "execution_count": 1,
   "id": "85a629fb-b97a-46c4-b90c-952c3b11fa1e",
   "metadata": {},
   "outputs": [],
   "source": [
    "import pandas as pd\n",
    "import numpy as np\n",
    "import matplotlib.pyplot as plt\n",
    "import seaborn as sns"
   ]
  },
  {
   "cell_type": "code",
   "execution_count": 2,
   "id": "cd94ad80-3dff-4c90-a55a-d73f51c34341",
   "metadata": {},
   "outputs": [],
   "source": [
    "HR = '../../Institute of Data/MP2New/HR_comma_sep.csv'\n",
    "hr = pd.read_csv(HR)"
   ]
  },
  {
   "cell_type": "code",
   "execution_count": 3,
   "id": "8ff5ddb3-f7fd-4f47-871b-025389941c6a",
   "metadata": {},
   "outputs": [
    {
     "data": {
      "text/html": [
       "<div>\n",
       "<style scoped>\n",
       "    .dataframe tbody tr th:only-of-type {\n",
       "        vertical-align: middle;\n",
       "    }\n",
       "\n",
       "    .dataframe tbody tr th {\n",
       "        vertical-align: top;\n",
       "    }\n",
       "\n",
       "    .dataframe thead th {\n",
       "        text-align: right;\n",
       "    }\n",
       "</style>\n",
       "<table border=\"1\" class=\"dataframe\">\n",
       "  <thead>\n",
       "    <tr style=\"text-align: right;\">\n",
       "      <th></th>\n",
       "      <th>satisfaction_level</th>\n",
       "      <th>last_evaluation</th>\n",
       "      <th>number_project</th>\n",
       "      <th>average_montly_hours</th>\n",
       "      <th>time_spend_company</th>\n",
       "      <th>Work_accident</th>\n",
       "      <th>left</th>\n",
       "      <th>promotion_last_5years</th>\n",
       "      <th>sales</th>\n",
       "      <th>salary</th>\n",
       "    </tr>\n",
       "  </thead>\n",
       "  <tbody>\n",
       "    <tr>\n",
       "      <th>0</th>\n",
       "      <td>0.38</td>\n",
       "      <td>0.53</td>\n",
       "      <td>2</td>\n",
       "      <td>157</td>\n",
       "      <td>3</td>\n",
       "      <td>0</td>\n",
       "      <td>1</td>\n",
       "      <td>0</td>\n",
       "      <td>sales</td>\n",
       "      <td>low</td>\n",
       "    </tr>\n",
       "    <tr>\n",
       "      <th>1</th>\n",
       "      <td>0.80</td>\n",
       "      <td>0.86</td>\n",
       "      <td>5</td>\n",
       "      <td>262</td>\n",
       "      <td>6</td>\n",
       "      <td>0</td>\n",
       "      <td>1</td>\n",
       "      <td>0</td>\n",
       "      <td>sales</td>\n",
       "      <td>medium</td>\n",
       "    </tr>\n",
       "    <tr>\n",
       "      <th>2</th>\n",
       "      <td>0.11</td>\n",
       "      <td>0.88</td>\n",
       "      <td>7</td>\n",
       "      <td>272</td>\n",
       "      <td>4</td>\n",
       "      <td>0</td>\n",
       "      <td>1</td>\n",
       "      <td>0</td>\n",
       "      <td>sales</td>\n",
       "      <td>medium</td>\n",
       "    </tr>\n",
       "    <tr>\n",
       "      <th>3</th>\n",
       "      <td>0.72</td>\n",
       "      <td>0.87</td>\n",
       "      <td>5</td>\n",
       "      <td>223</td>\n",
       "      <td>5</td>\n",
       "      <td>0</td>\n",
       "      <td>1</td>\n",
       "      <td>0</td>\n",
       "      <td>sales</td>\n",
       "      <td>low</td>\n",
       "    </tr>\n",
       "    <tr>\n",
       "      <th>4</th>\n",
       "      <td>0.37</td>\n",
       "      <td>0.52</td>\n",
       "      <td>2</td>\n",
       "      <td>159</td>\n",
       "      <td>3</td>\n",
       "      <td>0</td>\n",
       "      <td>1</td>\n",
       "      <td>0</td>\n",
       "      <td>sales</td>\n",
       "      <td>low</td>\n",
       "    </tr>\n",
       "  </tbody>\n",
       "</table>\n",
       "</div>"
      ],
      "text/plain": [
       "   satisfaction_level  last_evaluation  number_project  average_montly_hours  \\\n",
       "0                0.38             0.53               2                   157   \n",
       "1                0.80             0.86               5                   262   \n",
       "2                0.11             0.88               7                   272   \n",
       "3                0.72             0.87               5                   223   \n",
       "4                0.37             0.52               2                   159   \n",
       "\n",
       "   time_spend_company  Work_accident  left  promotion_last_5years  sales  \\\n",
       "0                   3              0     1                      0  sales   \n",
       "1                   6              0     1                      0  sales   \n",
       "2                   4              0     1                      0  sales   \n",
       "3                   5              0     1                      0  sales   \n",
       "4                   3              0     1                      0  sales   \n",
       "\n",
       "   salary  \n",
       "0     low  \n",
       "1  medium  \n",
       "2  medium  \n",
       "3     low  \n",
       "4     low  "
      ]
     },
     "execution_count": 3,
     "metadata": {},
     "output_type": "execute_result"
    }
   ],
   "source": [
    "hr.head()"
   ]
  },
  {
   "cell_type": "code",
   "execution_count": 4,
   "id": "7d9c0f7a-55b5-4c80-83e6-d713d6de2ca0",
   "metadata": {},
   "outputs": [
    {
     "name": "stdout",
     "output_type": "stream",
     "text": [
      "<class 'pandas.core.frame.DataFrame'>\n",
      "RangeIndex: 14999 entries, 0 to 14998\n",
      "Data columns (total 10 columns):\n",
      " #   Column                 Non-Null Count  Dtype  \n",
      "---  ------                 --------------  -----  \n",
      " 0   satisfaction_level     14999 non-null  float64\n",
      " 1   last_evaluation        14999 non-null  float64\n",
      " 2   number_project         14999 non-null  int64  \n",
      " 3   average_montly_hours   14999 non-null  int64  \n",
      " 4   time_spend_company     14999 non-null  int64  \n",
      " 5   Work_accident          14999 non-null  int64  \n",
      " 6   left                   14999 non-null  int64  \n",
      " 7   promotion_last_5years  14999 non-null  int64  \n",
      " 8   sales                  14999 non-null  object \n",
      " 9   salary                 14999 non-null  object \n",
      "dtypes: float64(2), int64(6), object(2)\n",
      "memory usage: 1.1+ MB\n"
     ]
    }
   ],
   "source": [
    "hr.info()"
   ]
  },
  {
   "cell_type": "code",
   "execution_count": 5,
   "id": "5d29e782-927b-493c-b4a8-928b379eafbc",
   "metadata": {},
   "outputs": [
    {
     "data": {
      "text/html": [
       "<div>\n",
       "<style scoped>\n",
       "    .dataframe tbody tr th:only-of-type {\n",
       "        vertical-align: middle;\n",
       "    }\n",
       "\n",
       "    .dataframe tbody tr th {\n",
       "        vertical-align: top;\n",
       "    }\n",
       "\n",
       "    .dataframe thead th {\n",
       "        text-align: right;\n",
       "    }\n",
       "</style>\n",
       "<table border=\"1\" class=\"dataframe\">\n",
       "  <thead>\n",
       "    <tr style=\"text-align: right;\">\n",
       "      <th></th>\n",
       "      <th>count</th>\n",
       "      <th>mean</th>\n",
       "      <th>std</th>\n",
       "      <th>min</th>\n",
       "      <th>25%</th>\n",
       "      <th>50%</th>\n",
       "      <th>75%</th>\n",
       "      <th>max</th>\n",
       "    </tr>\n",
       "  </thead>\n",
       "  <tbody>\n",
       "    <tr>\n",
       "      <th>satisfaction_level</th>\n",
       "      <td>14999.0</td>\n",
       "      <td>0.612834</td>\n",
       "      <td>0.248631</td>\n",
       "      <td>0.09</td>\n",
       "      <td>0.44</td>\n",
       "      <td>0.64</td>\n",
       "      <td>0.82</td>\n",
       "      <td>1.0</td>\n",
       "    </tr>\n",
       "    <tr>\n",
       "      <th>last_evaluation</th>\n",
       "      <td>14999.0</td>\n",
       "      <td>0.716102</td>\n",
       "      <td>0.171169</td>\n",
       "      <td>0.36</td>\n",
       "      <td>0.56</td>\n",
       "      <td>0.72</td>\n",
       "      <td>0.87</td>\n",
       "      <td>1.0</td>\n",
       "    </tr>\n",
       "    <tr>\n",
       "      <th>number_project</th>\n",
       "      <td>14999.0</td>\n",
       "      <td>3.803054</td>\n",
       "      <td>1.232592</td>\n",
       "      <td>2.00</td>\n",
       "      <td>3.00</td>\n",
       "      <td>4.00</td>\n",
       "      <td>5.00</td>\n",
       "      <td>7.0</td>\n",
       "    </tr>\n",
       "    <tr>\n",
       "      <th>average_montly_hours</th>\n",
       "      <td>14999.0</td>\n",
       "      <td>201.050337</td>\n",
       "      <td>49.943099</td>\n",
       "      <td>96.00</td>\n",
       "      <td>156.00</td>\n",
       "      <td>200.00</td>\n",
       "      <td>245.00</td>\n",
       "      <td>310.0</td>\n",
       "    </tr>\n",
       "    <tr>\n",
       "      <th>time_spend_company</th>\n",
       "      <td>14999.0</td>\n",
       "      <td>3.498233</td>\n",
       "      <td>1.460136</td>\n",
       "      <td>2.00</td>\n",
       "      <td>3.00</td>\n",
       "      <td>3.00</td>\n",
       "      <td>4.00</td>\n",
       "      <td>10.0</td>\n",
       "    </tr>\n",
       "    <tr>\n",
       "      <th>Work_accident</th>\n",
       "      <td>14999.0</td>\n",
       "      <td>0.144610</td>\n",
       "      <td>0.351719</td>\n",
       "      <td>0.00</td>\n",
       "      <td>0.00</td>\n",
       "      <td>0.00</td>\n",
       "      <td>0.00</td>\n",
       "      <td>1.0</td>\n",
       "    </tr>\n",
       "    <tr>\n",
       "      <th>left</th>\n",
       "      <td>14999.0</td>\n",
       "      <td>0.238083</td>\n",
       "      <td>0.425924</td>\n",
       "      <td>0.00</td>\n",
       "      <td>0.00</td>\n",
       "      <td>0.00</td>\n",
       "      <td>0.00</td>\n",
       "      <td>1.0</td>\n",
       "    </tr>\n",
       "    <tr>\n",
       "      <th>promotion_last_5years</th>\n",
       "      <td>14999.0</td>\n",
       "      <td>0.021268</td>\n",
       "      <td>0.144281</td>\n",
       "      <td>0.00</td>\n",
       "      <td>0.00</td>\n",
       "      <td>0.00</td>\n",
       "      <td>0.00</td>\n",
       "      <td>1.0</td>\n",
       "    </tr>\n",
       "  </tbody>\n",
       "</table>\n",
       "</div>"
      ],
      "text/plain": [
       "                         count        mean        std    min     25%     50%  \\\n",
       "satisfaction_level     14999.0    0.612834   0.248631   0.09    0.44    0.64   \n",
       "last_evaluation        14999.0    0.716102   0.171169   0.36    0.56    0.72   \n",
       "number_project         14999.0    3.803054   1.232592   2.00    3.00    4.00   \n",
       "average_montly_hours   14999.0  201.050337  49.943099  96.00  156.00  200.00   \n",
       "time_spend_company     14999.0    3.498233   1.460136   2.00    3.00    3.00   \n",
       "Work_accident          14999.0    0.144610   0.351719   0.00    0.00    0.00   \n",
       "left                   14999.0    0.238083   0.425924   0.00    0.00    0.00   \n",
       "promotion_last_5years  14999.0    0.021268   0.144281   0.00    0.00    0.00   \n",
       "\n",
       "                          75%    max  \n",
       "satisfaction_level       0.82    1.0  \n",
       "last_evaluation          0.87    1.0  \n",
       "number_project           5.00    7.0  \n",
       "average_montly_hours   245.00  310.0  \n",
       "time_spend_company       4.00   10.0  \n",
       "Work_accident            0.00    1.0  \n",
       "left                     0.00    1.0  \n",
       "promotion_last_5years    0.00    1.0  "
      ]
     },
     "execution_count": 5,
     "metadata": {},
     "output_type": "execute_result"
    }
   ],
   "source": [
    "hr.describe().T"
   ]
  },
  {
   "cell_type": "code",
   "execution_count": 6,
   "id": "0ad72382-81a6-407f-9ee6-da6d95a0557e",
   "metadata": {},
   "outputs": [
    {
     "data": {
      "text/plain": [
       "0    0.85539\n",
       "1    0.14461\n",
       "Name: Work_accident, dtype: float64"
      ]
     },
     "execution_count": 6,
     "metadata": {},
     "output_type": "execute_result"
    }
   ],
   "source": [
    "hr['Work_accident'].value_counts(normalize = True)"
   ]
  },
  {
   "cell_type": "code",
   "execution_count": 7,
   "id": "2afa6a3b-b6c6-463f-9015-145b08aa0ddb",
   "metadata": {},
   "outputs": [
    {
     "data": {
      "text/plain": [
       "0    0.761917\n",
       "1    0.238083\n",
       "Name: left, dtype: float64"
      ]
     },
     "execution_count": 7,
     "metadata": {},
     "output_type": "execute_result"
    }
   ],
   "source": [
    "hr['left'].value_counts(normalize = True)"
   ]
  },
  {
   "cell_type": "code",
   "execution_count": 8,
   "id": "e328b3b2-dd5e-4fde-9301-78d80d8f38d7",
   "metadata": {},
   "outputs": [
    {
     "data": {
      "text/plain": [
       "0    0.978732\n",
       "1    0.021268\n",
       "Name: promotion_last_5years, dtype: float64"
      ]
     },
     "execution_count": 8,
     "metadata": {},
     "output_type": "execute_result"
    }
   ],
   "source": [
    "hr['promotion_last_5years'].value_counts(normalize = True)"
   ]
  },
  {
   "cell_type": "code",
   "execution_count": 9,
   "id": "e3cfb1e1-fb2f-4ef0-a58e-3015a5cd4354",
   "metadata": {},
   "outputs": [
    {
     "data": {
      "text/plain": [
       "array(['sales', 'accounting', 'hr', 'technical', 'support', 'management',\n",
       "       'IT', 'product_mng', 'marketing', 'RandD'], dtype=object)"
      ]
     },
     "execution_count": 9,
     "metadata": {},
     "output_type": "execute_result"
    }
   ],
   "source": [
    "hr['sales'].unique()"
   ]
  },
  {
   "cell_type": "code",
   "execution_count": 10,
   "id": "31f58312-f797-4a32-a889-18ae7c0be07e",
   "metadata": {},
   "outputs": [
    {
     "data": {
      "text/plain": [
       "low       0.487766\n",
       "medium    0.429762\n",
       "high      0.082472\n",
       "Name: salary, dtype: float64"
      ]
     },
     "execution_count": 10,
     "metadata": {},
     "output_type": "execute_result"
    }
   ],
   "source": [
    "hr['salary'].value_counts(normalize = True)"
   ]
  },
  {
   "cell_type": "code",
   "execution_count": 11,
   "id": "1f983708-f19d-446c-b9df-ab58a2006d75",
   "metadata": {},
   "outputs": [
    {
     "data": {
      "text/plain": [
       "salary  left\n",
       "high    0       0.933711\n",
       "        1       0.066289\n",
       "low     0       0.703116\n",
       "        1       0.296884\n",
       "medium  0       0.795687\n",
       "        1       0.204313\n",
       "Name: left, dtype: float64"
      ]
     },
     "execution_count": 11,
     "metadata": {},
     "output_type": "execute_result"
    }
   ],
   "source": [
    "hr.groupby('salary')['left'].value_counts(normalize = True)"
   ]
  },
  {
   "cell_type": "code",
   "execution_count": 12,
   "id": "2336f07d-f942-4cd8-b7cc-ad9f37f52a69",
   "metadata": {},
   "outputs": [
    {
     "data": {
      "text/plain": [
       "sales        Work_accident\n",
       "IT           1                0.133659\n",
       "             0                0.866341\n",
       "RandD        1                0.170267\n",
       "             0                0.829733\n",
       "accounting   1                0.125163\n",
       "             0                0.874837\n",
       "hr           1                0.120433\n",
       "             0                0.879567\n",
       "management   1                0.163492\n",
       "             0                0.836508\n",
       "marketing    1                0.160839\n",
       "             0                0.839161\n",
       "product_mng  1                0.146341\n",
       "             0                0.853659\n",
       "sales        1                0.141787\n",
       "             0                0.858213\n",
       "support      1                0.154778\n",
       "             0                0.845222\n",
       "technical    1                0.140074\n",
       "             0                0.859926\n",
       "Name: Work_accident, dtype: float64"
      ]
     },
     "execution_count": 12,
     "metadata": {},
     "output_type": "execute_result"
    }
   ],
   "source": [
    "hr.groupby('sales')['Work_accident'].value_counts(ascending = True, normalize = True)"
   ]
  },
  {
   "cell_type": "markdown",
   "id": "7f1a037a-bbaf-4edf-88a4-2389b81ac666",
   "metadata": {},
   "source": [
    "## Feature selection with Random Forest - without categorical columns"
   ]
  },
  {
   "cell_type": "code",
   "execution_count": 13,
   "id": "27393306-8eb4-451f-9d61-265acf506aa1",
   "metadata": {},
   "outputs": [
    {
     "name": "stdout",
     "output_type": "stream",
     "text": [
      "                       importance\n",
      "satisfaction_level       0.363948\n",
      "number_project           0.195201\n",
      "time_spend_company       0.184620\n",
      "average_montly_hours     0.137940\n",
      "last_evaluation          0.109678\n",
      "Work_accident            0.008000\n",
      "promotion_last_5years    0.000612\n"
     ]
    },
    {
     "data": {
      "image/png": "[encoded data removed]",
      "text/plain": [
       "<Figure size 576x360 with 1 Axes>"
      ]
     },
     "metadata": {
      "needs_background": "light"
     },
     "output_type": "display_data"
    }
   ],
   "source": [
    "from sklearn.model_selection import train_test_split\n",
    "from sklearn.ensemble import RandomForestClassifier\n",
    "\n",
    "X = hr.drop(['left', 'sales', 'salary'], axis = 1)\n",
    "y = hr.left\n",
    "\n",
    "X_train, X_test, y_train, y_test = train_test_split(X, y, test_size=0.33, random_state=42, stratify = y)\n",
    "\n",
    "rfc = RandomForestClassifier(n_estimators=200, max_depth=6, n_jobs=-1, random_state=50)\n",
    "model = rfc.fit(X_train, y_train)\n",
    "\n",
    "feature_importances_df = pd.DataFrame(model.feature_importances_, index = X_train.columns, columns=['importance']).sort_values('importance',ascending=False)\n",
    "print(feature_importances_df)\n",
    "feat_importances = pd.Series(model.feature_importances_, index=X_train.columns).sort_values()\n",
    "plt.figure(figsize=(8, 5))\n",
    "feat_importances.plot(kind='barh')\n",
    "plt.title('Feature Importance %')\n",
    "plt.show()"
   ]
  },
  {
   "cell_type": "markdown",
   "id": "3d0128fc-4f14-4a8d-b4e9-d6aa2e3c91a7",
   "metadata": {},
   "source": [
    "## Get dummies"
   ]
  },
  {
   "cell_type": "code",
   "execution_count": 14,
   "id": "b4eecc9e-064d-4bfd-95a0-e1ead56dfca9",
   "metadata": {},
   "outputs": [
    {
     "data": {
      "text/html": [
       "<div>\n",
       "<style scoped>\n",
       "    .dataframe tbody tr th:only-of-type {\n",
       "        vertical-align: middle;\n",
       "    }\n",
       "\n",
       "    .dataframe tbody tr th {\n",
       "        vertical-align: top;\n",
       "    }\n",
       "\n",
       "    .dataframe thead th {\n",
       "        text-align: right;\n",
       "    }\n",
       "</style>\n",
       "<table border=\"1\" class=\"dataframe\">\n",
       "  <thead>\n",
       "    <tr style=\"text-align: right;\">\n",
       "      <th></th>\n",
       "      <th>satisfaction_level</th>\n",
       "      <th>last_evaluation</th>\n",
       "      <th>number_project</th>\n",
       "      <th>average_montly_hours</th>\n",
       "      <th>time_spend_company</th>\n",
       "      <th>Work_accident</th>\n",
       "      <th>left</th>\n",
       "      <th>promotion_last_5years</th>\n",
       "      <th>dep_IT</th>\n",
       "      <th>dep_RandD</th>\n",
       "      <th>...</th>\n",
       "      <th>dep_hr</th>\n",
       "      <th>dep_management</th>\n",
       "      <th>dep_marketing</th>\n",
       "      <th>dep_product_mng</th>\n",
       "      <th>dep_sales</th>\n",
       "      <th>dep_support</th>\n",
       "      <th>dep_technical</th>\n",
       "      <th>salary_high</th>\n",
       "      <th>salary_low</th>\n",
       "      <th>salary_medium</th>\n",
       "    </tr>\n",
       "  </thead>\n",
       "  <tbody>\n",
       "    <tr>\n",
       "      <th>0</th>\n",
       "      <td>0.38</td>\n",
       "      <td>0.53</td>\n",
       "      <td>2</td>\n",
       "      <td>157</td>\n",
       "      <td>3</td>\n",
       "      <td>0</td>\n",
       "      <td>1</td>\n",
       "      <td>0</td>\n",
       "      <td>0</td>\n",
       "      <td>0</td>\n",
       "      <td>...</td>\n",
       "      <td>0</td>\n",
       "      <td>0</td>\n",
       "      <td>0</td>\n",
       "      <td>0</td>\n",
       "      <td>1</td>\n",
       "      <td>0</td>\n",
       "      <td>0</td>\n",
       "      <td>0</td>\n",
       "      <td>1</td>\n",
       "      <td>0</td>\n",
       "    </tr>\n",
       "    <tr>\n",
       "      <th>1</th>\n",
       "      <td>0.80</td>\n",
       "      <td>0.86</td>\n",
       "      <td>5</td>\n",
       "      <td>262</td>\n",
       "      <td>6</td>\n",
       "      <td>0</td>\n",
       "      <td>1</td>\n",
       "      <td>0</td>\n",
       "      <td>0</td>\n",
       "      <td>0</td>\n",
       "      <td>...</td>\n",
       "      <td>0</td>\n",
       "      <td>0</td>\n",
       "      <td>0</td>\n",
       "      <td>0</td>\n",
       "      <td>1</td>\n",
       "      <td>0</td>\n",
       "      <td>0</td>\n",
       "      <td>0</td>\n",
       "      <td>0</td>\n",
       "      <td>1</td>\n",
       "    </tr>\n",
       "  </tbody>\n",
       "</table>\n",
       "<p>2 rows × 21 columns</p>\n",
       "</div>"
      ],
      "text/plain": [
       "   satisfaction_level  last_evaluation  number_project  average_montly_hours  \\\n",
       "0                0.38             0.53               2                   157   \n",
       "1                0.80             0.86               5                   262   \n",
       "\n",
       "   time_spend_company  Work_accident  left  promotion_last_5years  dep_IT  \\\n",
       "0                   3              0     1                      0       0   \n",
       "1                   6              0     1                      0       0   \n",
       "\n",
       "   dep_RandD  ...  dep_hr  dep_management  dep_marketing  dep_product_mng  \\\n",
       "0          0  ...       0               0              0                0   \n",
       "1          0  ...       0               0              0                0   \n",
       "\n",
       "   dep_sales  dep_support  dep_technical  salary_high  salary_low  \\\n",
       "0          1            0              0            0           1   \n",
       "1          1            0              0            0           0   \n",
       "\n",
       "   salary_medium  \n",
       "0              0  \n",
       "1              1  \n",
       "\n",
       "[2 rows x 21 columns]"
      ]
     },
     "execution_count": 14,
     "metadata": {},
     "output_type": "execute_result"
    }
   ],
   "source": [
    "hr = pd.get_dummies(data = hr, columns = ['sales', 'salary'], prefix = ['dep', 'salary'])\n",
    "hr.head(2)"
   ]
  },
  {
   "cell_type": "markdown",
   "id": "2f140642-3614-4a05-9b26-ae1c06ff3f4c",
   "metadata": {},
   "source": [
    "## Feature importance with dummies"
   ]
  },
  {
   "cell_type": "code",
   "execution_count": 15,
   "id": "50b54883-1e5a-4f95-8a33-a0782e802fc9",
   "metadata": {},
   "outputs": [],
   "source": [
    "X_feature_importance = hr[['satisfaction_level', 'last_evaluation', 'number_project',\n",
    "       'average_montly_hours', 'time_spend_company', 'Work_accident',\n",
    "       'promotion_last_5years', 'dep_IT', 'dep_RandD', 'dep_accounting',\n",
    "       'dep_hr', 'dep_management', 'dep_marketing', 'dep_product_mng',\n",
    "       'dep_sales', 'dep_support', 'dep_technical', 'salary_high',\n",
    "       'salary_low', 'salary_medium']]\n",
    "y = hr['left']"
   ]
  },
  {
   "cell_type": "code",
   "execution_count": 16,
   "id": "c5765531-916e-4b8c-98e2-4b5f9ab0f253",
   "metadata": {},
   "outputs": [
    {
     "name": "stdout",
     "output_type": "stream",
     "text": [
      "                       importance\n",
      "satisfaction_level       0.333815\n",
      "number_project           0.215642\n",
      "time_spend_company       0.171345\n",
      "average_montly_hours     0.145425\n",
      "last_evaluation          0.098131\n",
      "Work_accident            0.013329\n",
      "salary_low               0.008244\n",
      "salary_high              0.006047\n",
      "salary_medium            0.001870\n",
      "promotion_last_5years    0.001068\n",
      "dep_RandD                0.000846\n",
      "dep_technical            0.000830\n",
      "dep_sales                0.000687\n",
      "dep_hr                   0.000602\n",
      "dep_management           0.000529\n",
      "dep_support              0.000435\n",
      "dep_accounting           0.000376\n",
      "dep_product_mng          0.000274\n",
      "dep_IT                   0.000254\n",
      "dep_marketing            0.000251\n"
     ]
    },
    {
     "data": {
      "image/png": "[encoded data removed]",
      "text/plain": [
       "<Figure size 432x360 with 1 Axes>"
      ]
     },
     "metadata": {
      "needs_background": "light"
     },
     "output_type": "display_data"
    }
   ],
   "source": [
    "from sklearn.model_selection import train_test_split\n",
    "from sklearn.ensemble import RandomForestClassifier\n",
    "rfc = RandomForestClassifier(n_estimators=200, max_depth=6, n_jobs=-1, random_state=50)\n",
    "\n",
    "X_train, X_test, y_train, y_test = train_test_split(X_feature_importance, y, test_size=0.33, random_state=42, stratify = y)\n",
    "model = rfc.fit(X_train, y_train)\n",
    "\n",
    "feature_importances_df = pd.DataFrame(model.feature_importances_, index = X_train.columns, columns=['importance']).sort_values('importance',ascending=False)\n",
    "print(feature_importances_df)\n",
    "feat_importances = pd.Series(model.feature_importances_, index=X_train.columns).sort_values()\n",
    "plt.figure(figsize=(6, 5))\n",
    "feat_importances.plot(kind='barh')\n",
    "plt.title('Feature Importance % with categorical features')\n",
    "plt.show()"
   ]
  },
  {
   "cell_type": "code",
   "execution_count": 17,
   "id": "089f3d9c-6cd2-44f4-ad3b-e4ed187c90af",
   "metadata": {},
   "outputs": [],
   "source": [
    "X_model = hr[['satisfaction_level', 'number_project', 'time_spend_company', 'average_montly_hours', 'last_evaluation', 'Work_accident', 'salary_low', 'salary_high']]"
   ]
  },
  {
   "cell_type": "markdown",
   "id": "9f2b065d-b58a-45ab-aa2a-fd0b58019df8",
   "metadata": {},
   "source": [
    "## SMOTE"
   ]
  },
  {
   "cell_type": "code",
   "execution_count": 18,
   "id": "9f64d4af-69c4-430d-8e0f-c16d5dbe0f97",
   "metadata": {},
   "outputs": [
    {
     "data": {
      "text/plain": [
       "Index(['left', 'satisfaction_level', 'number_project', 'time_spend_company',\n",
       "       'average_montly_hours', 'last_evaluation', 'Work_accident',\n",
       "       'salary_low', 'salary_high'],\n",
       "      dtype='object')"
      ]
     },
     "execution_count": 18,
     "metadata": {},
     "output_type": "execute_result"
    }
   ],
   "source": [
    "from imblearn.over_sampling import SMOTE\n",
    "sm = SMOTE(sampling_strategy='minority', random_state=7)\n",
    "\n",
    "oversampled_trainX, oversampled_trainY = sm.fit_resample(X_model, y)\n",
    "oversampled_df = pd.concat([pd.DataFrame(oversampled_trainY), pd.DataFrame(oversampled_trainX)], axis=1)\n",
    "oversampled_df.columns"
   ]
  },
  {
   "cell_type": "code",
   "execution_count": 19,
   "id": "fed807cc-ca02-4186-a004-7a03db91ab0b",
   "metadata": {},
   "outputs": [
    {
     "data": {
      "image/png": "[encoded data removed]",
      "text/plain": [
       "<Figure size 576x576 with 1 Axes>"
      ]
     },
     "metadata": {
      "needs_background": "light"
     },
     "output_type": "display_data"
    }
   ],
   "source": [
    "plt.figure(figsize=(8, 8))\n",
    "sns.countplot(x = 'left', data=oversampled_df)\n",
    "plt.title('Balanced Classes - After SMOTE')\n",
    "plt.show()"
   ]
  },
  {
   "cell_type": "code",
   "execution_count": 20,
   "id": "5735ed23-cf1b-4da5-bb70-f04fa1e73a3e",
   "metadata": {},
   "outputs": [
    {
     "data": {
      "text/html": [
       "<div>\n",
       "<style scoped>\n",
       "    .dataframe tbody tr th:only-of-type {\n",
       "        vertical-align: middle;\n",
       "    }\n",
       "\n",
       "    .dataframe tbody tr th {\n",
       "        vertical-align: top;\n",
       "    }\n",
       "\n",
       "    .dataframe thead th {\n",
       "        text-align: right;\n",
       "    }\n",
       "</style>\n",
       "<table border=\"1\" class=\"dataframe\">\n",
       "  <thead>\n",
       "    <tr style=\"text-align: right;\">\n",
       "      <th></th>\n",
       "      <th>left</th>\n",
       "      <th>satisfaction_level</th>\n",
       "      <th>number_project</th>\n",
       "      <th>time_spend_company</th>\n",
       "      <th>average_montly_hours</th>\n",
       "      <th>last_evaluation</th>\n",
       "      <th>Work_accident</th>\n",
       "      <th>salary_low</th>\n",
       "      <th>salary_high</th>\n",
       "    </tr>\n",
       "  </thead>\n",
       "  <tbody>\n",
       "    <tr>\n",
       "      <th>0</th>\n",
       "      <td>1</td>\n",
       "      <td>0.38</td>\n",
       "      <td>2</td>\n",
       "      <td>3</td>\n",
       "      <td>157</td>\n",
       "      <td>0.53</td>\n",
       "      <td>0</td>\n",
       "      <td>1</td>\n",
       "      <td>0</td>\n",
       "    </tr>\n",
       "    <tr>\n",
       "      <th>1</th>\n",
       "      <td>1</td>\n",
       "      <td>0.80</td>\n",
       "      <td>5</td>\n",
       "      <td>6</td>\n",
       "      <td>262</td>\n",
       "      <td>0.86</td>\n",
       "      <td>0</td>\n",
       "      <td>0</td>\n",
       "      <td>0</td>\n",
       "    </tr>\n",
       "    <tr>\n",
       "      <th>2</th>\n",
       "      <td>1</td>\n",
       "      <td>0.11</td>\n",
       "      <td>7</td>\n",
       "      <td>4</td>\n",
       "      <td>272</td>\n",
       "      <td>0.88</td>\n",
       "      <td>0</td>\n",
       "      <td>0</td>\n",
       "      <td>0</td>\n",
       "    </tr>\n",
       "    <tr>\n",
       "      <th>3</th>\n",
       "      <td>1</td>\n",
       "      <td>0.72</td>\n",
       "      <td>5</td>\n",
       "      <td>5</td>\n",
       "      <td>223</td>\n",
       "      <td>0.87</td>\n",
       "      <td>0</td>\n",
       "      <td>1</td>\n",
       "      <td>0</td>\n",
       "    </tr>\n",
       "    <tr>\n",
       "      <th>4</th>\n",
       "      <td>1</td>\n",
       "      <td>0.37</td>\n",
       "      <td>2</td>\n",
       "      <td>3</td>\n",
       "      <td>159</td>\n",
       "      <td>0.52</td>\n",
       "      <td>0</td>\n",
       "      <td>1</td>\n",
       "      <td>0</td>\n",
       "    </tr>\n",
       "  </tbody>\n",
       "</table>\n",
       "</div>"
      ],
      "text/plain": [
       "   left  satisfaction_level  number_project  time_spend_company  \\\n",
       "0     1                0.38               2                   3   \n",
       "1     1                0.80               5                   6   \n",
       "2     1                0.11               7                   4   \n",
       "3     1                0.72               5                   5   \n",
       "4     1                0.37               2                   3   \n",
       "\n",
       "   average_montly_hours  last_evaluation  Work_accident  salary_low  \\\n",
       "0                   157             0.53              0           1   \n",
       "1                   262             0.86              0           0   \n",
       "2                   272             0.88              0           0   \n",
       "3                   223             0.87              0           1   \n",
       "4                   159             0.52              0           1   \n",
       "\n",
       "   salary_high  \n",
       "0            0  \n",
       "1            0  \n",
       "2            0  \n",
       "3            0  \n",
       "4            0  "
      ]
     },
     "execution_count": 20,
     "metadata": {},
     "output_type": "execute_result"
    }
   ],
   "source": [
    "oversampled_df.head()"
   ]
  },
  {
   "cell_type": "code",
   "execution_count": 21,
   "id": "5131bafb-63e5-4dd0-b2ed-da4578b6986d",
   "metadata": {},
   "outputs": [
    {
     "data": {
      "text/plain": [
       "left                       0.250011\n",
       "satisfaction_level         0.070609\n",
       "number_project             2.086593\n",
       "time_spend_company         1.721099\n",
       "average_montly_hours    2938.354403\n",
       "last_evaluation            0.032372\n",
       "Work_accident              0.091902\n",
       "salary_low                 0.249434\n",
       "salary_high                0.054691\n",
       "dtype: float64"
      ]
     },
     "execution_count": 21,
     "metadata": {},
     "output_type": "execute_result"
    }
   ],
   "source": [
    "oversampled_df.var()"
   ]
  },
  {
   "cell_type": "code",
   "execution_count": 22,
   "id": "f8b3c211-8add-4e4f-bc0e-21f95ba856e6",
   "metadata": {},
   "outputs": [],
   "source": [
    "X_scaled = oversampled_df[['satisfaction_level', 'number_project', 'time_spend_company', 'average_montly_hours', 'last_evaluation', 'Work_accident', 'salary_low', 'salary_high']]\n",
    "y = oversampled_df['left']"
   ]
  },
  {
   "cell_type": "code",
   "execution_count": 23,
   "id": "e87840ce-e427-4996-b312-2f3997ec0215",
   "metadata": {},
   "outputs": [],
   "source": [
    "from sklearn.preprocessing import StandardScaler\n",
    "scaler = StandardScaler()\n",
    "X_scaled = scaler.fit_transform(X_scaled)"
   ]
  },
  {
   "cell_type": "code",
   "execution_count": 24,
   "id": "8308a4df-9d50-40ba-b13d-28615370aee2",
   "metadata": {},
   "outputs": [
    {
     "data": {
      "text/plain": [
       "1    11428\n",
       "0    11428\n",
       "Name: left, dtype: int64"
      ]
     },
     "execution_count": 24,
     "metadata": {},
     "output_type": "execute_result"
    }
   ],
   "source": [
    "y.value_counts()"
   ]
  },
  {
   "cell_type": "markdown",
   "id": "03814c19-6d0c-4189-8fcc-c0571b2a0348",
   "metadata": {},
   "source": [
    "## Splitting data before Voting Classifier"
   ]
  },
  {
   "cell_type": "code",
   "execution_count": 25,
   "id": "51271910-d0b6-46f2-9b8a-1fe20bf6008d",
   "metadata": {},
   "outputs": [],
   "source": [
    "X_train, X_test, y_train, y_test = train_test_split(X_scaled, y, test_size=0.33, random_state=42)"
   ]
  },
  {
   "cell_type": "markdown",
   "id": "69e0a7c6-8c9e-451c-910e-c695533ea154",
   "metadata": {},
   "source": [
    "## Checking accuracy scores for multiple classifiers"
   ]
  },
  {
   "cell_type": "code",
   "execution_count": 61,
   "id": "5badb7f6-1a46-47bb-a347-e06ff95d518d",
   "metadata": {},
   "outputs": [],
   "source": [
    "from sklearn.metrics import accuracy_score\n",
    "\n",
    "from sklearn.linear_model import LogisticRegression\n",
    "logreg2 = LogisticRegression(C=1, max_iter=5000, solver='liblinear', penalty = 'l1')\n",
    "\n",
    "from sklearn.naive_bayes import GaussianNB\n",
    "gnb2 = GaussianNB()\n",
    "\n",
    "from sklearn.svm import SVC\n",
    "svm2 = SVC(kernel='linear', probability=True)\n",
    "\n",
    "from sklearn.neighbors import KNeighborsClassifier\n",
    "knn2 = KNeighborsClassifier(n_neighbors = 5)\n",
    "\n",
    "import xgboost as xgb\n",
    "xg_cl = xgb.XGBClassifier(objective = 'binary:logistic', n_estimators = 10, seed = 42, use_label_encoder = False, eval_metric = 'logloss')\n",
    "\n",
    "from sklearn.ensemble import RandomForestClassifier\n",
    "rfc2 = RandomForestClassifier(n_estimators=2000, max_depth=6, n_jobs=-1, random_state=50)\n",
    "\n",
    "from sklearn.tree import DecisionTreeClassifier\n",
    "dt2 = DecisionTreeClassifier(criterion = \"gini\", random_state = 100, max_depth=3, min_samples_leaf=5)"
   ]
  },
  {
   "cell_type": "code",
   "execution_count": 62,
   "id": "be946345-dad5-4099-90e1-30650140293d",
   "metadata": {},
   "outputs": [
    {
     "name": "stdout",
     "output_type": "stream",
     "text": [
      "LogisticRegression : 0.774\n",
      "GaussianNB : 0.687\n",
      "DecisionTreeClassifier : 0.925\n",
      "XGBoost : 0.964\n",
      "RandomForestClassifier : 0.957\n",
      "KNeighborsClassifier : 0.959\n"
     ]
    }
   ],
   "source": [
    "from sklearn.ensemble import VotingClassifier\n",
    "\n",
    "classifiers = [('LogisticRegression' , logreg2),('GaussianNB' , gnb2), ('DecisionTreeClassifier', dt2), ('XGBoost', xg_cl), ('RandomForestClassifier', rfc2), ('KNeighborsClassifier', knn2)]\n",
    "#, ('SVM', svm2)\n",
    "#Iterate over the defined list of tuples containing classifiers\n",
    "for clf_name, clf in classifiers:\n",
    "    #fit clf to the training set\n",
    "    clf.fit(X_train, y_train)\n",
    "    #predict the labels of the test set\n",
    "    y_pred = clf.predict(X_test)\n",
    "    #evaluate the accuracy of clf on the test set\n",
    "    print('{:s} : {:.3f}'.format(clf_name, accuracy_score(y_test, y_pred)))"
   ]
  },
  {
   "cell_type": "markdown",
   "id": "7719cb1e-6687-4134-a902-a4c6abaa93c3",
   "metadata": {},
   "source": [
    "## Logreg"
   ]
  },
  {
   "cell_type": "code",
   "execution_count": 63,
   "id": "6c86279a-3e7c-4460-b35a-0d88d9ffd06f",
   "metadata": {},
   "outputs": [],
   "source": [
    "from sklearn.model_selection import train_test_split\n",
    "from sklearn.linear_model import LogisticRegression\n",
    "from sklearn import metrics\n",
    "from sklearn.metrics import classification_report, confusion_matrix"
   ]
  },
  {
   "cell_type": "code",
   "execution_count": 64,
   "id": "85a22f06-9ddb-4a5a-8086-43ecc5198f66",
   "metadata": {},
   "outputs": [
    {
     "name": "stdout",
     "output_type": "stream",
     "text": [
      "Fitting 5 folds for each of 6 candidates, totalling 30 fits\n",
      "Logreg best estimator: LogisticRegression(C=1, max_iter=5000, solver='liblinear')\n",
      "Logreg best parameters: {'C': 1, 'penalty': 'l2'}\n",
      "Logreg best score: 0.7733639056986176\n"
     ]
    }
   ],
   "source": [
    "from sklearn.model_selection import GridSearchCV\n",
    "lr_params = {'penalty': ['l1','l2'], 'C': [1, 10, 100]}\n",
    "grid_log = GridSearchCV(LogisticRegression(solver = 'liblinear', max_iter = 5000), lr_params, cv=5, verbose=1, n_jobs=-1)\n",
    "grid_log.fit(X_scaled, y)\n",
    "print('Logreg best estimator:', grid_log.best_estimator_)\n",
    "print('Logreg best parameters:', grid_log.best_params_)\n",
    "print('Logreg best score:', grid_log.best_score_)"
   ]
  },
  {
   "cell_type": "code",
   "execution_count": 65,
   "id": "d1a60bd0-3432-4a7f-8f87-d30fc0a4c2c2",
   "metadata": {},
   "outputs": [
    {
     "name": "stdout",
     "output_type": "stream",
     "text": [
      "Logreg2 train score:  0.7762685300071834\n",
      "Logreg2 test score:  0.7736974678509877\n"
     ]
    }
   ],
   "source": [
    "logreg2.fit(X_train, y_train)\n",
    "logreg2_train_score = logreg2.score(X_train, y_train)\n",
    "logreg2_test_score = logreg2.score(X_test, y_test)\n",
    "print('Logreg2 train score: ', logreg2_train_score)\n",
    "print('Logreg2 test score: ', logreg2_test_score)"
   ]
  },
  {
   "cell_type": "code",
   "execution_count": 66,
   "id": "da2047ba-bb95-4ba9-b444-a3ac75f8e8ba",
   "metadata": {},
   "outputs": [],
   "source": [
    "y_pred_log2 = logreg2.predict(X_test)"
   ]
  },
  {
   "cell_type": "code",
   "execution_count": 67,
   "id": "06b221cf-f50b-491f-9516-974a5dee7dfa",
   "metadata": {},
   "outputs": [
    {
     "name": "stdout",
     "output_type": "stream",
     "text": [
      "Logreg2 accuracy score :  0.7736974678509877\n"
     ]
    }
   ],
   "source": [
    "logreg2_as = accuracy_score(y_test, y_pred_log2)\n",
    "print('Logreg2 accuracy score : ', logreg2_as)"
   ]
  },
  {
   "cell_type": "code",
   "execution_count": 68,
   "id": "da39e8aa-edd5-48f2-a368-ccab66c7835d",
   "metadata": {},
   "outputs": [
    {
     "name": "stdout",
     "output_type": "stream",
     "text": [
      "            predicted_Working  predicted_Left\n",
      "is_Working               2840             973\n",
      "is_Left                   734            2996 \n",
      "\n",
      "[['TN' 'FP']\n",
      " ['FN' 'TP']]\n"
     ]
    }
   ],
   "source": [
    "confusion_matrix_log2 = metrics.confusion_matrix(y_test, y_pred_log2)\n",
    "confusion_df = pd.DataFrame(confusion_matrix_log2, index=['is_Working', 'is_Left'], columns=['predicted_Working','predicted_Left'])\n",
    "\n",
    "\n",
    "print(confusion_df, '\\n')\n",
    "print(np.asarray([['TN', 'FP'], ['FN', 'TP']]))"
   ]
  },
  {
   "cell_type": "code",
   "execution_count": 69,
   "id": "3301534a-d5ed-4b59-860f-9e7c371cae31",
   "metadata": {},
   "outputs": [
    {
     "name": "stdout",
     "output_type": "stream",
     "text": [
      "              precision    recall  f1-score   support\n",
      "\n",
      "           0       0.79      0.74      0.77      3813\n",
      "           1       0.75      0.80      0.78      3730\n",
      "\n",
      "    accuracy                           0.77      7543\n",
      "   macro avg       0.77      0.77      0.77      7543\n",
      "weighted avg       0.77      0.77      0.77      7543\n",
      "\n"
     ]
    }
   ],
   "source": [
    "print(classification_report(y_test, y_pred_log2, zero_division = 0))"
   ]
  },
  {
   "cell_type": "code",
   "execution_count": 70,
   "id": "0b4db620-7f83-4058-b96f-ea7ab172db9f",
   "metadata": {},
   "outputs": [
    {
     "data": {
      "image/png": "[encoded data removed]",
      "text/plain": [
       "<Figure size 432x288 with 2 Axes>"
      ]
     },
     "metadata": {
      "needs_background": "light"
     },
     "output_type": "display_data"
    }
   ],
   "source": [
    "class_names=['Not Left','Left'] # name  of classes\n",
    "fig, ax = plt.subplots()\n",
    "tick_marks = np.arange(len(class_names))\n",
    "plt.xticks(tick_marks, class_names)\n",
    "plt.yticks(tick_marks, class_names)\n",
    "# create heatmap\n",
    "sns.heatmap(pd.DataFrame(confusion_matrix_log2), annot=True, cmap=\"YlGnBu\" ,fmt='g')\n",
    "ax.xaxis.set_label_position(\"top\")\n",
    "plt.tight_layout()\n",
    "plt.title('Logreg Confusion Matrix with best params', y=1.1)\n",
    "plt.ylabel('Actual label')\n",
    "plt.xlabel('Predicted label')\n",
    "plt.show()"
   ]
  },
  {
   "cell_type": "markdown",
   "id": "deb744ac-23d2-4ffc-b312-fc65e3cc894e",
   "metadata": {},
   "source": [
    "## Random Forest"
   ]
  },
  {
   "cell_type": "code",
   "execution_count": 71,
   "id": "c95efb31-22ed-4f1d-9a59-870b9af0f498",
   "metadata": {},
   "outputs": [
    {
     "name": "stdout",
     "output_type": "stream",
     "text": [
      "RFC2 train score:  0.957291190491739\n",
      "RFC2 test score:  0.9567811215696672\n",
      "RFC2 accuracy score:  0.9567811215696672\n"
     ]
    }
   ],
   "source": [
    "from sklearn.ensemble import RandomForestClassifier\n",
    "rfc2 = RandomForestClassifier(n_estimators=2000, max_depth=6, n_jobs=-1, random_state=50)\n",
    "rfc2.fit(X_train, y_train)\n",
    "rfc2_train_score = rfc2.score(X_train, y_train)\n",
    "rfc2_test_score = rfc2.score(X_test, y_test)\n",
    "y_pred_rfc2 = rfc2.predict(X_test)\n",
    "rfc_as2 = accuracy_score(y_test, y_pred_rfc2)\n",
    "print('RFC2 train score: ', rfc2_train_score)\n",
    "print('RFC2 test score: ', rfc2_test_score)\n",
    "print('RFC2 accuracy score: ',rfc_as2)"
   ]
  },
  {
   "cell_type": "code",
   "execution_count": 72,
   "id": "9f5101a2-d499-439f-892f-d0df90280abe",
   "metadata": {},
   "outputs": [
    {
     "name": "stdout",
     "output_type": "stream",
     "text": [
      "            predicted_Working  predicted_Left\n",
      "is_Working               3752              61\n",
      "is_Left                   265            3465 \n",
      "\n",
      "[['TN' 'FP']\n",
      " ['FN' 'TP']]\n"
     ]
    }
   ],
   "source": [
    "confusion_matrix_rfc2 = metrics.confusion_matrix(y_test, y_pred_rfc2)\n",
    "confusion_df = pd.DataFrame(confusion_matrix_rfc2, index=['is_Working', 'is_Left'], columns=['predicted_Working','predicted_Left'])\n",
    "\n",
    "\n",
    "print(confusion_df, '\\n')\n",
    "print(np.asarray([['TN', 'FP'], ['FN', 'TP']]))"
   ]
  },
  {
   "cell_type": "code",
   "execution_count": 73,
   "id": "a2d0d4e3-fb65-4937-a4b5-1e8f85090bcb",
   "metadata": {},
   "outputs": [
    {
     "name": "stdout",
     "output_type": "stream",
     "text": [
      "              precision    recall  f1-score   support\n",
      "\n",
      "           0       0.93      0.98      0.96      3813\n",
      "           1       0.98      0.93      0.96      3730\n",
      "\n",
      "    accuracy                           0.96      7543\n",
      "   macro avg       0.96      0.96      0.96      7543\n",
      "weighted avg       0.96      0.96      0.96      7543\n",
      "\n"
     ]
    }
   ],
   "source": [
    "print(classification_report(y_test, y_pred_rfc2, zero_division = 0))"
   ]
  },
  {
   "cell_type": "code",
   "execution_count": 74,
   "id": "5841371b-2745-4a6c-a15f-6dd60e7fc5c5",
   "metadata": {},
   "outputs": [
    {
     "data": {
      "image/png": "[encoded data removed]",
      "text/plain": [
       "<Figure size 432x288 with 2 Axes>"
      ]
     },
     "metadata": {
      "needs_background": "light"
     },
     "output_type": "display_data"
    }
   ],
   "source": [
    "class_names=['Not Left','Left'] # name  of classes\n",
    "fig, ax = plt.subplots()\n",
    "tick_marks = np.arange(len(class_names))\n",
    "plt.xticks(tick_marks, class_names)\n",
    "plt.yticks(tick_marks, class_names)\n",
    "# create heatmap\n",
    "sns.heatmap(pd.DataFrame(confusion_matrix_rfc2), annot=True, cmap=\"YlGnBu\" ,fmt='g')\n",
    "ax.xaxis.set_label_position(\"top\")\n",
    "plt.tight_layout()\n",
    "plt.title('8 Features - RFC Confusion matrix', y=1.1)\n",
    "plt.ylabel('Actual label')\n",
    "plt.xlabel('Predicted label')\n",
    "plt.show()"
   ]
  },
  {
   "cell_type": "markdown",
   "id": "d829e55f-2811-4223-b798-868e6c55e100",
   "metadata": {},
   "source": [
    "## Decision Tree"
   ]
  },
  {
   "cell_type": "code",
   "execution_count": 75,
   "id": "52da83fb-2bd6-47bd-ae9c-8a6ab936e80a",
   "metadata": {},
   "outputs": [
    {
     "name": "stdout",
     "output_type": "stream",
     "text": [
      "DT2 train score:  0.9235290276235878\n",
      "DT2 test score:  0.9248309691104335\n",
      "DT2 accuracy score:  0.9248309691104335\n"
     ]
    }
   ],
   "source": [
    "from sklearn.tree import DecisionTreeClassifier\n",
    "dt2 = DecisionTreeClassifier(criterion = \"gini\", random_state = 100, max_depth=3, min_samples_leaf=10)\n",
    "dt2.fit(X_train, y_train)\n",
    "dt2_train_score = dt2.score(X_train, y_train)\n",
    "dt2_test_score = dt2.score(X_test, y_test)\n",
    "y_pred_dt2 = dt2.predict(X_test)\n",
    "dt2_as2 = accuracy_score(y_test, y_pred_dt2)\n",
    "print('DT2 train score: ', dt2_train_score)\n",
    "print('DT2 test score: ', dt2_test_score)\n",
    "print('DT2 accuracy score: ',dt2_as2)"
   ]
  },
  {
   "cell_type": "code",
   "execution_count": 76,
   "id": "585417da-355d-443d-9e94-4f3dc45b13fe",
   "metadata": {},
   "outputs": [
    {
     "name": "stdout",
     "output_type": "stream",
     "text": [
      "            predicted_Working  predicted_Left\n",
      "is_Working               3441             372\n",
      "is_Left                   195            3535 \n",
      "\n",
      "[['TN' 'FP']\n",
      " ['FN' 'TP']]\n"
     ]
    }
   ],
   "source": [
    "confusion_matrix_dt2 = metrics.confusion_matrix(y_test, y_pred_dt2)\n",
    "confusion_df = pd.DataFrame(confusion_matrix_dt2, index=['is_Working', 'is_Left'], columns=['predicted_Working','predicted_Left'])\n",
    "\n",
    "print(confusion_df, '\\n')\n",
    "print(np.asarray([['TN', 'FP'], ['FN', 'TP']]))"
   ]
  },
  {
   "cell_type": "code",
   "execution_count": 77,
   "id": "dec8391c-4b9a-4657-bc6b-20eafc081274",
   "metadata": {},
   "outputs": [
    {
     "name": "stdout",
     "output_type": "stream",
     "text": [
      "              precision    recall  f1-score   support\n",
      "\n",
      "           0       0.95      0.90      0.92      3813\n",
      "           1       0.90      0.95      0.93      3730\n",
      "\n",
      "    accuracy                           0.92      7543\n",
      "   macro avg       0.93      0.93      0.92      7543\n",
      "weighted avg       0.93      0.92      0.92      7543\n",
      "\n"
     ]
    }
   ],
   "source": [
    "print(classification_report(y_test, y_pred_dt2, zero_division = 0))"
   ]
  },
  {
   "cell_type": "code",
   "execution_count": 78,
   "id": "1635a88f-7a36-41a4-848c-43bfb730b2df",
   "metadata": {},
   "outputs": [
    {
     "data": {
      "image/png": "[encoded data removed]",
      "text/plain": [
       "<Figure size 432x288 with 2 Axes>"
      ]
     },
     "metadata": {
      "needs_background": "light"
     },
     "output_type": "display_data"
    }
   ],
   "source": [
    "class_names=['Not Left','Left'] # name  of classes\n",
    "fig, ax = plt.subplots()\n",
    "tick_marks = np.arange(len(class_names))\n",
    "plt.xticks(tick_marks, class_names)\n",
    "plt.yticks(tick_marks, class_names)\n",
    "# create heatmap\n",
    "sns.heatmap(pd.DataFrame(confusion_matrix_dt2), annot=True, cmap=\"YlGnBu\" ,fmt='g')\n",
    "ax.xaxis.set_label_position(\"top\")\n",
    "plt.tight_layout()\n",
    "plt.title('DT Confusion matrix', y=1.1)\n",
    "plt.ylabel('Actual label')\n",
    "plt.xlabel('Predicted label')\n",
    "plt.show()"
   ]
  },
  {
   "cell_type": "markdown",
   "id": "df5c34b9-ad82-48fe-ac26-4e2fa6601ccd",
   "metadata": {},
   "source": [
    "## KNN"
   ]
  },
  {
   "cell_type": "code",
   "execution_count": 79,
   "id": "ad42bc60-5359-47cf-b9d9-4020642ab5bd",
   "metadata": {},
   "outputs": [
    {
     "name": "stdout",
     "output_type": "stream",
     "text": [
      "KNN2 train score:  0.9719192842682688\n",
      "KNN2 test score:  0.959034866763887\n",
      "KNN2 accuracy score:  0.959034866763887\n"
     ]
    }
   ],
   "source": [
    "from sklearn.neighbors import KNeighborsClassifier\n",
    "\n",
    "knn2 = KNeighborsClassifier(n_neighbors = 5)\n",
    "knn2.fit(X_train, y_train)\n",
    "knn2_train_score = knn2.score(X_train, y_train)\n",
    "knn2_test_score = knn2.score(X_test, y_test)\n",
    "y_pred_knn2 = knn2.predict(X_test)\n",
    "knn_as2 = accuracy_score(y_test, y_pred_knn2)\n",
    "print('KNN2 train score: ', knn2_train_score)\n",
    "print('KNN2 test score: ', knn2_test_score)\n",
    "print('KNN2 accuracy score: ', knn_as2)"
   ]
  },
  {
   "cell_type": "code",
   "execution_count": 80,
   "id": "11a4dce5-3962-494e-be67-5b5b328577ac",
   "metadata": {},
   "outputs": [
    {
     "name": "stdout",
     "output_type": "stream",
     "text": [
      "            predicted_Working  predicted_Left\n",
      "is_Working               3623             190\n",
      "is_Left                   119            3611 \n",
      "\n",
      "[['TN' 'FP']\n",
      " ['FN' 'TP']]\n"
     ]
    }
   ],
   "source": [
    "confusion_matrix_knn2 = metrics.confusion_matrix(y_test, y_pred_knn2)\n",
    "confusion_df = pd.DataFrame(confusion_matrix_knn2, index=['is_Working', 'is_Left'], columns=['predicted_Working','predicted_Left'])\n",
    "\n",
    "print(confusion_df, '\\n')\n",
    "print(np.asarray([['TN', 'FP'], ['FN', 'TP']]))"
   ]
  },
  {
   "cell_type": "code",
   "execution_count": 81,
   "id": "178d4ef1-1272-424b-8677-2980ae99573d",
   "metadata": {},
   "outputs": [
    {
     "name": "stdout",
     "output_type": "stream",
     "text": [
      "              precision    recall  f1-score   support\n",
      "\n",
      "           0       0.97      0.95      0.96      3813\n",
      "           1       0.95      0.97      0.96      3730\n",
      "\n",
      "    accuracy                           0.96      7543\n",
      "   macro avg       0.96      0.96      0.96      7543\n",
      "weighted avg       0.96      0.96      0.96      7543\n",
      "\n"
     ]
    }
   ],
   "source": [
    "print(classification_report(y_test, y_pred_knn2, zero_division = 0))"
   ]
  },
  {
   "cell_type": "code",
   "execution_count": 82,
   "id": "4ea4fdc7-8e68-460f-9a84-ec3a526afc69",
   "metadata": {},
   "outputs": [
    {
     "data": {
      "image/png": "[encoded data removed]",
      "text/plain": [
       "<Figure size 432x288 with 2 Axes>"
      ]
     },
     "metadata": {
      "needs_background": "light"
     },
     "output_type": "display_data"
    }
   ],
   "source": [
    "class_names=['Not Left','Left'] # name  of classes\n",
    "fig, ax = plt.subplots()\n",
    "tick_marks = np.arange(len(class_names))\n",
    "plt.xticks(tick_marks, class_names)\n",
    "plt.yticks(tick_marks, class_names)\n",
    "# create heatmap\n",
    "sns.heatmap(pd.DataFrame(confusion_matrix_knn2), annot=True, cmap=\"YlGnBu\" ,fmt='g')\n",
    "ax.xaxis.set_label_position(\"top\")\n",
    "plt.tight_layout()\n",
    "plt.title('KNN Confusion matrix', y=1.1)\n",
    "plt.ylabel('Actual label')\n",
    "plt.xlabel('Predicted label')\n",
    "plt.show()"
   ]
  },
  {
   "cell_type": "markdown",
   "id": "3f85854d-17f2-400d-ac6a-9471d2260fc8",
   "metadata": {},
   "source": [
    "## Precision recall curve"
   ]
  },
  {
   "cell_type": "code",
   "execution_count": 83,
   "id": "858fe3f6-3d20-4b20-bb1e-724c8a1cf2c3",
   "metadata": {},
   "outputs": [
    {
     "data": {
      "image/png": "[encoded data removed]",
      "text/plain": [
       "<Figure size 432x360 with 1 Axes>"
      ]
     },
     "metadata": {
      "needs_background": "light"
     },
     "output_type": "display_data"
    }
   ],
   "source": [
    "from sklearn.metrics import precision_recall_curve\n",
    "#from sklearn.metrics import plot_precision_recall_curve not used anymore\n",
    "import matplotlib.pyplot as plt\n",
    "from sklearn.metrics import PrecisionRecallDisplay\n",
    "\n",
    "plt.figure(figsize=(6, 5))\n",
    "PrecisionRecallDisplay.from_estimator(logreg2, X_test, y_test, ax = plt.gca(),name = \"LogReg\")\n",
    "\n",
    "PrecisionRecallDisplay.from_estimator(rfc2, X_test, y_test, ax = plt.gca(),name = \"Random Forest\")\n",
    "\n",
    "PrecisionRecallDisplay.from_estimator(dt2, X_test, y_test, ax = plt.gca(),name = \"Decision Tree\")\n",
    "\n",
    "PrecisionRecallDisplay.from_estimator(knn2, X_test, y_test, ax = plt.gca(),name = \"KNN\")\n",
    "\n",
    "plt.title('8 Features - Precision-Recall curve')\n",
    "plt.show()\n",
    "\n",
    "\n",
    "\n",
    "#plot_precision_recall_curve\n",
    "#display = PrecisionRecallDisplay.from_estimator(classifier, X_test, y_test, name=\"LinearSVC\""
   ]
  },
  {
   "cell_type": "markdown",
   "id": "f0b70594-f068-4ff6-999a-853e226bc74c",
   "metadata": {},
   "source": [
    "## precision is a measure of result relevancy, while recall is a measure of how many truly relevant results are returned."
   ]
  },
  {
   "cell_type": "code",
   "execution_count": null,
   "id": "19cf20eb-8caa-4445-9cd3-a9cec9985cdf",
   "metadata": {},
   "outputs": [],
   "source": []
  }
 ],
 "metadata": {
  "kernelspec": {
   "display_name": "Python 3 (ipykernel)",
   "language": "python",
   "name": "python3"
  },
  "language_info": {
   "codemirror_mode": {
    "name": "ipython",
    "version": 3
   },
   "file_extension": ".py",
   "mimetype": "text/x-python",
   "name": "python",
   "nbconvert_exporter": "python",
   "pygments_lexer": "ipython3",
   "version": "3.8.12"
  }
 },
 "nbformat": 4,
 "nbformat_minor": 5
}
