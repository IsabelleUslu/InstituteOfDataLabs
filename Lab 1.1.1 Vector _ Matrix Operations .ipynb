{
 "cells": [
  {
   "cell_type": "markdown",
   "metadata": {
    "colab_type": "text",
    "id": "emj1GNgIT3CB"
   },
   "source": [
    "<div>\n",
    "<img src=https://www.institutedata.com/wp-content/uploads/2019/10/iod_h_tp_primary_c.svg width=\"300\">\n",
    "</div>\n",
    "\n",
    "# Linear Algebra - Part 1"
   ]
  },
  {
   "cell_type": "code",
   "execution_count": 1,
   "metadata": {
    "ExecuteTime": {
     "end_time": "2019-06-27T03:58:34.200170Z",
     "start_time": "2019-06-27T03:58:34.196182Z"
    },
    "colab": {},
    "colab_type": "code",
    "id": "JkwM7G3IT3CD"
   },
   "outputs": [],
   "source": [
    "import numpy as np"
   ]
  },
  {
   "cell_type": "markdown",
   "metadata": {
    "colab_type": "text",
    "id": "FvN6xzeyT3CC"
   },
   "source": [
    "### 1. Compute the scaler product of two vectors\n",
    "\n",
    "In mathematics, the dot product or scalar product is an algebraic operation that takes two equal-length sequences of numbers (usually coordinate vectors) and returns a single number. \n",
    "\n",
    "We can calculate it this way:\n",
    "\n",
    "        a · b = ax × bx + ay × by\n",
    "        \n",
    "Hint: [Dot Product](https://www.mathsisfun.com/algebra/vectors-dot-product.html)\n",
    "\n",
    "```\n",
    "# Expected Output:\n",
    "0\n",
    "```"
   ]
  },
  {
   "cell_type": "code",
   "execution_count": 2,
   "metadata": {
    "ExecuteTime": {
     "end_time": "2019-06-27T04:56:56.317427Z",
     "start_time": "2019-06-27T04:56:56.313425Z"
    },
    "colab": {},
    "colab_type": "code",
    "id": "rsOPN02pT3CG"
   },
   "outputs": [],
   "source": [
    "a = [-12, 16]\n",
    "b = [12, 9]"
   ]
  },
  {
   "cell_type": "code",
   "execution_count": 3,
   "metadata": {},
   "outputs": [
    {
     "data": {
      "text/plain": [
       "0"
      ]
     },
     "execution_count": 3,
     "metadata": {},
     "output_type": "execute_result"
    }
   ],
   "source": [
    "np.dot(a,b)"
   ]
  },
  {
   "cell_type": "markdown",
   "metadata": {
    "ExecuteTime": {
     "end_time": "2019-06-27T03:59:49.939731Z",
     "start_time": "2019-06-27T03:59:49.934711Z"
    },
    "colab_type": "text",
    "id": "cIamVopdT3CI"
   },
   "source": [
    "### 2. Compute the cross product of two vectors\n",
    "\n",
    "> When a and b start at the origin point (0,0,0), the Cross Product will end at:\n",
    "\n",
    "        cx = aybz − azby\n",
    "        cy = azbx − axbz\n",
    "        cz = axby − aybx\n",
    "        \n",
    "Hint: [Cross Product](https://www.mathsisfun.com/algebra/vectors-cross-product.html)\n",
    "```\n",
    "# Expected Output:\n",
    "array([[-3,  6, -3],\n",
    "       [ 3, -6,  3]])\n",
    "```"
   ]
  },
  {
   "cell_type": "code",
   "execution_count": 4,
   "metadata": {
    "ExecuteTime": {
     "end_time": "2019-06-27T04:56:59.994576Z",
     "start_time": "2019-06-27T04:56:59.987594Z"
    },
    "colab": {},
    "colab_type": "code",
    "id": "L9FjAAzNT3CJ"
   },
   "outputs": [],
   "source": [
    "x = np.array([[1,2,3], [4,5,6]])\n",
    "y = np.array([[4,5,6], [1,2,3]])"
   ]
  },
  {
   "cell_type": "code",
   "execution_count": 5,
   "metadata": {},
   "outputs": [
    {
     "data": {
      "text/plain": [
       "array([[-3,  6, -3],\n",
       "       [ 3, -6,  3]])"
      ]
     },
     "execution_count": 5,
     "metadata": {},
     "output_type": "execute_result"
    }
   ],
   "source": [
    "np.cross(x,y)"
   ]
  },
  {
   "cell_type": "markdown",
   "metadata": {
    "colab_type": "text",
    "id": "2M2dKNL-T3CL"
   },
   "source": [
    "### 3. Compute the Hademard product (entry-wise multiplication) of two vectors.\n",
    "\n",
    "> In mathematics, the Hadamard product (also known as the Schur product[1] or the entrywise product[2]:ch. 5) is a binary operation that takes two matrices of the same dimensions and produces another matrix of the same dimension as the operands where each element i, j is the product of elements i, j of the original two matrices. It should not be confused with the more common matrix product. It is attributed to, and named after, either French mathematician Jacques Hadamard or German mathematician Issai Schur. [Wiki](https://en.wikipedia.org/wiki/Hadamard_product_(matrices))\n",
    "\n",
    "![](https://wikimedia.org/api/rest_v1/media/math/render/svg/4eb9bb54b2820fb3583901ec05bc4b474b6d90bc)\n",
    "```\n",
    "# Expected Output:\n",
    "array([[ 5, 12],\n",
    "       [21, 32]])\n",
    "```"
   ]
  },
  {
   "cell_type": "code",
   "execution_count": 6,
   "metadata": {
    "ExecuteTime": {
     "end_time": "2019-06-27T04:57:06.480263Z",
     "start_time": "2019-06-27T04:57:06.474279Z"
    },
    "colab": {},
    "colab_type": "code",
    "id": "WnDQY9MyT3CM"
   },
   "outputs": [],
   "source": [
    "a = np.array([[1,2],[3,4]])\n",
    "b = np.array([[5,6],[7,8]])"
   ]
  },
  {
   "cell_type": "code",
   "execution_count": 7,
   "metadata": {},
   "outputs": [
    {
     "name": "stdout",
     "output_type": "stream",
     "text": [
      "[[ 5 12]\n",
      " [21 32]]\n"
     ]
    }
   ],
   "source": [
    "print(np.multiply(a,b))"
   ]
  },
  {
   "cell_type": "markdown",
   "metadata": {
    "colab_type": "text",
    "id": "b1ZR2J8HT3CO"
   },
   "source": [
    "### 4. Compute the sum of two matrices.\n",
    "\n",
    "![](https://wikimedia.org/api/rest_v1/media/math/render/svg/0fb7845af355c550d44020e52699069c044126a9)\n",
    "```\n",
    "# Expected Output:\n",
    "[17, 15, 4]\n",
    "[10, 12, 9]\n",
    "[11, 13, 18]\n",
    "```"
   ]
  },
  {
   "cell_type": "code",
   "execution_count": 8,
   "metadata": {
    "ExecuteTime": {
     "end_time": "2019-06-27T04:57:13.225605Z",
     "start_time": "2019-06-27T04:57:13.214634Z"
    },
    "colab": {},
    "colab_type": "code",
    "id": "ulBVhGDET3CP"
   },
   "outputs": [],
   "source": [
    "# Program to add two matrices using nested loop\n",
    "\n",
    "X = [[12,7,3],\n",
    "    [4 ,5,6],\n",
    "    [7 ,8,9]]\n",
    "\n",
    "Y = [[5,8,1],\n",
    "    [6,7,3],\n",
    "    [4,5,9]]\n",
    "\n",
    "result = [[0,0,0],\n",
    "         [0,0,0],\n",
    "         [0,0,0]]"
   ]
  },
  {
   "cell_type": "code",
   "execution_count": 9,
   "metadata": {},
   "outputs": [
    {
     "name": "stdout",
     "output_type": "stream",
     "text": [
      "[17, 15, 4]\n",
      "[10, 12, 9]\n",
      "[11, 13, 18]\n"
     ]
    }
   ],
   "source": [
    "for index in range(len(X)):\n",
    "    for index2 in range(3):\n",
    "        result[index][index2] = X[index][index2] + Y[index][index2]\n",
    "for r in result:\n",
    "    print(r)\n",
    "\n",
    "    "
   ]
  },
  {
   "cell_type": "code",
   "execution_count": 10,
   "metadata": {},
   "outputs": [
    {
     "data": {
      "text/plain": [
       "array([[17, 15,  4],\n",
       "       [10, 12,  9],\n",
       "       [11, 13, 18]])"
      ]
     },
     "execution_count": 10,
     "metadata": {},
     "output_type": "execute_result"
    }
   ],
   "source": [
    "# Additional! Which gives the same result as above without writing a loop\n",
    "\n",
    "np.add(X,Y)"
   ]
  },
  {
   "cell_type": "markdown",
   "metadata": {
    "ExecuteTime": {
     "end_time": "2019-06-27T04:04:23.509007Z",
     "start_time": "2019-06-27T04:04:23.503018Z"
    },
    "colab_type": "text",
    "id": "CZFVdvEhT3CS"
   },
   "source": [
    "### 5. Compute the product of two matrices.\n",
    "\n",
    "![](https://upload.wikimedia.org/wikipedia/commons/e/eb/Matrix_multiplication_diagram_2.svg)\n",
    "```\n",
    "# Expected Output:\n",
    "[114, 160, 60, 27]\n",
    "[74, 97, 73, 14]\n",
    "[119, 157, 112, 23]\n",
    "```"
   ]
  },
  {
   "cell_type": "code",
   "execution_count": 11,
   "metadata": {
    "ExecuteTime": {
     "end_time": "2019-06-27T04:57:19.425749Z",
     "start_time": "2019-06-27T04:57:19.412783Z"
    },
    "colab": {},
    "colab_type": "code",
    "id": "2cwCXjx_T3CT"
   },
   "outputs": [],
   "source": [
    "# Program to multiply two matrices using nested loops\n",
    "\n",
    "# 3x3 matrix\n",
    "X = [[12,7,3],\n",
    "    [4 ,5,6],\n",
    "    [7 ,8,9]]\n",
    "\n",
    "# 3x4 matrix\n",
    "Y = [[5,8,1,2],\n",
    "    [6,7,3,0],\n",
    "    [4,5,9,1]]\n",
    "\n",
    "# result is 3x4\n",
    "result = [[0,0,0,0],\n",
    "         [0,0,0,0],\n",
    "         [0,0,0,0]]"
   ]
  },
  {
   "cell_type": "code",
   "execution_count": 12,
   "metadata": {},
   "outputs": [
    {
     "data": {
      "text/plain": [
       "array([[114, 160,  60,  27],\n",
       "       [ 74,  97,  73,  14],\n",
       "       [119, 157, 112,  23]])"
      ]
     },
     "execution_count": 12,
     "metadata": {},
     "output_type": "execute_result"
    }
   ],
   "source": [
    "#Additional! Without writing a loop, it gives the same result as above\n",
    "np.dot(X,Y)"
   ]
  },
  {
   "cell_type": "code",
   "execution_count": 13,
   "metadata": {},
   "outputs": [
    {
     "name": "stdout",
     "output_type": "stream",
     "text": [
      "[114, 160, 60, 27]\n",
      "[74, 97, 73, 14]\n",
      "[119, 157, 112, 23]\n"
     ]
    }
   ],
   "source": [
    "# i is row index for X matrix\n",
    "for i in range(len(X)):\n",
    "    \n",
    "    # j is row index for Y matrix\n",
    "    for j in range(len(Y[0])):\n",
    "        \n",
    "        # k is row index for Y matrix\n",
    "        for k in range(len(Y)):\n",
    "        \n",
    "            result[i][j] += X[i][k] * Y[k][j]\n",
    "        \n",
    "for r in result:\n",
    "    print(r)\n"
   ]
  },
  {
   "cell_type": "code",
   "execution_count": 14,
   "metadata": {},
   "outputs": [
    {
     "ename": "SyntaxError",
     "evalue": "invalid syntax (Temp/ipykernel_19812/2143913695.py, line 4)",
     "output_type": "error",
     "traceback": [
      "\u001b[1;36m  File \u001b[1;32m\"C:\\Users\\isabe\\AppData\\Local\\Temp/ipykernel_19812/2143913695.py\"\u001b[1;36m, line \u001b[1;32m4\u001b[0m\n\u001b[1;33m    i = 0                                    i = 1                                       i = 2\u001b[0m\n\u001b[1;37m                                             ^\u001b[0m\n\u001b[1;31mSyntaxError\u001b[0m\u001b[1;31m:\u001b[0m invalid syntax\n"
     ]
    }
   ],
   "source": [
    "##### STEPS OF CALCULATING THE MATRIX #####\n",
    "\n",
    "#Step 1                                  #Step 13                                    #Step 25\n",
    "i = 0                                    i = 1                                       i = 2\n",
    "j = 0                                    j = 0                                       j = 0\n",
    "k = 0                                    k = 0                                       k = 0\n",
    "\n",
    "12 * 5 = 60                              4 * 5 = 20                                  7 * 5 = 35\n",
    "\n",
    "#Step 2                                  #Step 14                                    #Step 26\n",
    "i = 0                                    i = 1                                       i = 2\n",
    "j = 0                                    j = 0                                       j = 0\n",
    "k = 1                                    k = 1                                       k = 1\n",
    "\n",
    "7 * 6 = 42                               5 * 6 = 30                                  8 * 6 = 48                                \n",
    "\n",
    "#Step 3                                  #Step 15                                    #Step 27\n",
    "i = 0                                    i = 1                                       i = 2\n",
    "j = 0                                    j = 0                                       j = 0\n",
    "k = 2                                    k = 2                                       k = 2\n",
    "\n",
    "3 * 4 = 12                               6 * 4 = 24                                  9 * 4 = 36\n",
    "\n",
    "60 + 42 + 12 = 114                       20 + 30 + 24 = 74                           35 + 48 + 36 = 119\n",
    "\n",
    "#Step 4                                  #Step 16                                    #Step 28\n",
    "i = 0                                    i = 1                                       i = 2\n",
    "j = 1                                    j = 1                                       j = 1\n",
    "k = 0                                    k = 0                                       k = 0\n",
    "\n",
    "12 * 8 = 96                              4 * 8 = 32                                  7 * 8 = 56\n",
    "\n",
    "#Step 5                                  #Step 17                                    #Step 29\n",
    "i = 0                                    i = 1                                       i = 2 \n",
    "j = 1                                    j = 1                                       j = 1\n",
    "k = 1                                    k = 1                                       k = 1\n",
    "                                      \n",
    "7 * 7 = 49                               5 * 7 = 35                                  8 * 7 = 56\n",
    "\n",
    "#Step 6                                  #Step 18                                    #Step 30\n",
    "i = 0                                    i = 1                                       i = 2\n",
    "j = 1                                    j = 1                                       j = 1\n",
    "k = 2                                    k = 2                                       k = 2\n",
    "\n",
    "3 * 5 = 15                               6 * 5 = 30                                  9 * 5 = 45\n",
    "\n",
    "96 + 49 + 15 = 160                       32 + 35 + 30 = 97                           56 + 56 + 45 = 157\n",
    "\n",
    "#Step 7                                  #Step 19                                    #Step 31\n",
    "i = 0                                    i = 1                                       i = 2\n",
    "j = 2                                    j = 2                                       j = 2\n",
    "k = 0                                    k = 0                                       k = 0\n",
    "\n",
    "12 * 1 = 12                              4 * 1 = 4                                   7 * 1 = 7\n",
    "\n",
    "#Step 8                                  #Step 20                                    #Step 32\n",
    "i = 0                                    i = 1                                       i = 2\n",
    "j = 2                                    j = 2                                       j = 2\n",
    "k = 1                                    k = 1                                       k = 1\n",
    "\n",
    "7 * 3 = 21                               5 * 3 = 15                                  8 * 3 = 24\n",
    "\n",
    "#Step 9                                  #Step 21                                    #Step 33\n",
    "i = 0                                    i = 1                                       i = 2\n",
    "j = 2                                    j = 2                                       j = 2\n",
    "k = 2                                    k = 2                                       k = 2\n",
    "\n",
    "3 * 9 = 27                               6 * 9 = 54                                  9 * 9 = 81\n",
    "\n",
    "12 + 21 + 27 = 60                        4 + 15 + 54 = 73                            7 + 24 + 81 = 112\n",
    "\n",
    "#Step 10                                 #Step 22                                    #Step 34\n",
    "i = 0                                    i = 1                                       i = 2\n",
    "j = 3                                    j = 3                                       j = 3\n",
    "k = 0                                    k = 0                                       k = 0\n",
    "\n",
    "12 * 2 = 24                              4 * 2 = 8                                   7 * 2 = 14\n",
    "\n",
    "#Step 11                                 #Step 23                                    #Step 35\n",
    "i = 0                                    i = 1                                       i = 2\n",
    "j = 3                                    j = 3                                       j = 3\n",
    "k = 1                                    k = 1                                       k = 1\n",
    "\n",
    "7 * 0 = 0                                5 * 0 = 0                                   8 * 0 = 0\n",
    "\n",
    "#Step 12                                 #Step 24                                    #Step 36\n",
    "i = 0                                    i = 1                                       i = 2\n",
    "j = 3                                    j = 3                                       j = 3\n",
    "k = 2                                    k = 2                                       k = 2\n",
    "\n",
    "3 * 1 = 3                                6 * 1 = 6                                   9 * 1 = 9\n",
    "\n",
    "24 + 0 + 3 = 27                          8 + 0 + 6 = 14                              14 + 0 + 9 = 23\n",
    "\n",
    "    \n",
    "\n",
    "\n",
    "\n"
   ]
  },
  {
   "cell_type": "markdown",
   "metadata": {
    "colab_type": "text",
    "id": "zxe0vdBVT3CV"
   },
   "source": [
    "### 6. Compute the determinant of an n x n matrix.\n",
    "\n",
    "![](https://integratedmlai.com/wp-content/uploads/2018/12/Matrix_Det_2x2.png)\n",
    "\n",
    "Hint: [Find the Determinant of a Matrix with Pure Python without Numpy or Scipy](https://integratedmlai.com/find-the-determinant-of-a-matrix-with-pure-python-without-numpy-or-scipy/)\n",
    "\n",
    "Hint: Use \n",
    "> np.linalg.det\n",
    "```\n",
    "# Expected Output:\n",
    "17.999999999999996\n",
    "```"
   ]
  },
  {
   "cell_type": "code",
   "execution_count": 15,
   "metadata": {
    "ExecuteTime": {
     "end_time": "2019-06-27T04:58:00.140277Z",
     "start_time": "2019-06-27T04:58:00.135291Z"
    },
    "colab": {},
    "colab_type": "code",
    "id": "7SpAPh-5T3CW"
   },
   "outputs": [],
   "source": [
    "matrix = [[-2,2,-3],[-1,1,3],[2,0,-1]]"
   ]
  },
  {
   "cell_type": "code",
   "execution_count": 16,
   "metadata": {},
   "outputs": [
    {
     "data": {
      "text/plain": [
       "17.999999999999996"
      ]
     },
     "execution_count": 16,
     "metadata": {},
     "output_type": "execute_result"
    }
   ],
   "source": [
    "np.linalg.det(matrix)"
   ]
  },
  {
   "cell_type": "markdown",
   "metadata": {
    "colab_type": "text",
    "id": "vUC6L5r1T3Ca"
   },
   "source": [
    "### 7. Compute the inverse of an n x n matrix.\n",
    "\n",
    "For a 3×3 matrix\n",
    "\n",
    "![](http://mathworld.wolfram.com/images/equations/MatrixInverse/NumberedEquation3.gif)\n",
    "\n",
    "the matrix inverse is\n",
    "\n",
    "![](http://mathworld.wolfram.com/images/equations/MatrixInverse/NumberedEquation4.gif)\n",
    "\n",
    "Hint: Use \n",
    "> from numpy.linalg import inv\n",
    "```\n",
    "# Expected Output:\n",
    "array([[-2. ,  1. ],\n",
    "       [ 1.5, -0.5]])\n",
    "```"
   ]
  },
  {
   "cell_type": "code",
   "execution_count": 17,
   "metadata": {
    "ExecuteTime": {
     "end_time": "2019-06-27T04:58:33.615832Z",
     "start_time": "2019-06-27T04:58:33.609848Z"
    },
    "colab": {},
    "colab_type": "code",
    "id": "qGxUYlMWT3Cb"
   },
   "outputs": [],
   "source": [
    "a = np.array([[1., 2.], [3., 4.]])"
   ]
  },
  {
   "cell_type": "code",
   "execution_count": 18,
   "metadata": {},
   "outputs": [
    {
     "data": {
      "text/plain": [
       "array([[-2. ,  1. ],\n",
       "       [ 1.5, -0.5]])"
      ]
     },
     "execution_count": 18,
     "metadata": {},
     "output_type": "execute_result"
    }
   ],
   "source": [
    "np.linalg.inv(a)"
   ]
  },
  {
   "cell_type": "markdown",
   "metadata": {
    "colab_type": "text",
    "id": "f52z_umQpL1V"
   },
   "source": [
    "\n",
    "\n",
    "---\n",
    "\n",
    "\n",
    "\n",
    "---\n",
    "\n",
    "\n",
    "\n",
    "> > > > > > > > > © 2021 Institute of Data\n",
    "\n",
    "\n",
    "---\n",
    "\n",
    "\n",
    "\n",
    "---\n",
    "\n",
    "\n",
    "\n"
   ]
  }
 ],
 "metadata": {
  "colab": {
   "collapsed_sections": [],
   "name": "Lab 1.1.1 Vector & Matrix Operations .ipynb",
   "provenance": []
  },
  "kernelspec": {
   "display_name": "Python 3 (ipykernel)",
   "language": "python",
   "name": "python3"
  },
  "language_info": {
   "codemirror_mode": {
    "name": "ipython",
    "version": 3
   },
   "file_extension": ".py",
   "mimetype": "text/x-python",
   "name": "python",
   "nbconvert_exporter": "python",
   "pygments_lexer": "ipython3",
   "version": "3.8.12"
  }
 },
 "nbformat": 4,
 "nbformat_minor": 4
}
